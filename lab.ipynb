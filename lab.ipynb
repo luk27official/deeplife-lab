{
 "cells": [
  {
   "cell_type": "code",
   "execution_count": 1,
   "metadata": {},
   "outputs": [],
   "source": [
    "import torch\n",
    "torch.manual_seed(0)\n",
    "ONEHOT=False\n",
    "DATAPATH = '/home/skrhakv/deeplife/binding-prediction--deeplife-lab/data'"
   ]
  },
  {
   "cell_type": "code",
   "execution_count": 2,
   "metadata": {},
   "outputs": [],
   "source": [
    "device = 'cuda' if torch.cuda.is_available() else 'cpu'"
   ]
  },
  {
   "cell_type": "code",
   "execution_count": 3,
   "metadata": {},
   "outputs": [
    {
     "data": {
      "text/plain": [
       "'cuda'"
      ]
     },
     "execution_count": 3,
     "metadata": {},
     "output_type": "execute_result"
    }
   ],
   "source": [
    "device"
   ]
  },
  {
   "cell_type": "markdown",
   "metadata": {},
   "source": [
    "### use dataset API to load the Yu dataset"
   ]
  },
  {
   "cell_type": "code",
   "execution_count": 4,
   "metadata": {},
   "outputs": [],
   "source": [
    "from torch.utils.data import Dataset\n",
    "import torch.nn.functional as F\n",
    "import numpy as np\n",
    "\n",
    "class YuDataset(Dataset):\n",
    "    def __init__(self, _Xs, _Ys):\n",
    "        Xs_list = None\n",
    "        Ys_list = None\n",
    "        for key in _Xs.keys():\n",
    "            if Xs_list is None:\n",
    "                Xs_list = _Xs[key]\n",
    "                Ys_list = _Ys[key]\n",
    "            else:\n",
    "                Xs_list = np.concatenate((Xs_list,_Xs[key]), axis = 0)\n",
    "                Ys_list = np.concatenate((Ys_list,_Ys[key]), axis = 0)\n",
    "\n",
    "        self.Xs = torch.tensor(Xs_list, dtype=torch.float32)\n",
    "        if ONEHOT:\n",
    "            self.Ys = F.one_hot(torch.tensor(Ys_list, dtype=torch.int64))\n",
    "        else:\n",
    "            self.Ys = torch.tensor(Ys_list, dtype=torch.int64)\n",
    "\n",
    "    def __len__(self):\n",
    "        assert len(self.Xs) == len(self.Ys)\n",
    "        return len(self.Xs)\n",
    "\n",
    "    def __getitem__(self, idx):\n",
    "        x = self.Xs[idx]\n",
    "        y = self.Ys[idx]\n",
    "        return x, y\n"
   ]
  },
  {
   "cell_type": "markdown",
   "metadata": {},
   "source": [
    "### proccess the Yu dataset"
   ]
  },
  {
   "cell_type": "code",
   "execution_count": 5,
   "metadata": {},
   "outputs": [],
   "source": [
    "import csv\n",
    "\n",
    "def proccess_dataset(annotation_path, embeddings_path):\n",
    "    Xs = {}\n",
    "    Ys = {}\n",
    "    with open(annotation_path) as f:\n",
    "        reader = csv.reader(f, delimiter=\";\")\n",
    "        for row in reader:\n",
    "            id = row[0].lower() + row[1]\n",
    "            \n",
    "            if id not in Xs:\n",
    "                filename = id + '.npy'\n",
    "                embedding = np.load(f'{embeddings_path}/{filename}')\n",
    "                Xs[id] = embedding\n",
    "\n",
    "            if id not in Ys:\n",
    "                Ys[id] = np.zeros(embedding.shape[0])\n",
    "            for residue_idx in [int(residue[1:]) for residue in row[4].split(' ')]:\n",
    "                # Yu dataset has 1-based indexing, so we need to subtract 1\n",
    "                Ys[id][residue_idx - 1] = 1\n",
    "\n",
    "    return Xs, Ys"
   ]
  },
  {
   "cell_type": "code",
   "execution_count": 25,
   "metadata": {},
   "outputs": [],
   "source": [
    "Xs_train, Ys_train = proccess_dataset(f'{DATAPATH}/ADP_Training.txt', f'{DATAPATH}/embeddings')\n",
    "\n",
    "train_dataset = YuDataset(Xs_train, Ys_train)\n",
    "\n",
    "Xs_test, Ys_test = proccess_dataset(f'{DATAPATH}/ADP_Test.txt', f'{DATAPATH}/embeddings')\n",
    "\n",
    "test_dataset = YuDataset(Xs_test, Ys_test)"
   ]
  },
  {
   "cell_type": "code",
   "execution_count": 26,
   "metadata": {},
   "outputs": [
    {
     "name": "stdout",
     "output_type": "stream",
     "text": [
      "102573\n",
      "21013\n"
     ]
    }
   ],
   "source": [
    "print(len(train_dataset))\n",
    "print(len(test_dataset))"
   ]
  },
  {
   "cell_type": "markdown",
   "metadata": {},
   "source": [
    "### Define a classifier\n",
    "Create a classifier to predict whether residue is part of a binding site"
   ]
  },
  {
   "cell_type": "code",
   "execution_count": 35,
   "metadata": {},
   "outputs": [],
   "source": [
    "from torch import nn\n",
    "\n",
    "DROPOUT = 0.3\n",
    "LAYER_WIDTH = 100\n",
    "\n",
    "class YuClassifier(nn.Module):\n",
    "    def __init__(self, input_dim=2560):\n",
    "        super().__init__()\n",
    "        self.layer_1 = nn.Linear(in_features=input_dim, out_features=LAYER_WIDTH)\n",
    "        self.dropout1 = nn.Dropout(DROPOUT)\n",
    "\n",
    "        self.layer_2 = nn.Linear(in_features=LAYER_WIDTH, out_features=LAYER_WIDTH)\n",
    "        self.dropout2 = nn.Dropout(DROPOUT)\n",
    "\n",
    "        self.layer_3 = nn.Linear(in_features=LAYER_WIDTH, out_features=1)\n",
    "\n",
    "        self.relu = nn.ReLU()\n",
    "\n",
    "    def forward(self, x):\n",
    "      # Intersperse the ReLU activation function between layers\n",
    "       return self.layer_3(self.dropout1(self.relu(self.layer_2(self.dropout1(self.relu(self.layer_1(x)))))))\n"
   ]
  },
  {
   "cell_type": "markdown",
   "metadata": {},
   "source": [
    "### Train imbalanced dataset\n",
    "The dataset is heavily imbalanced (only ~5% of all residues are binding residues, the rest is non-binding), therefore we pass the `weight` argument for the loss function. But first, the weights need to be calculated using the `compute_class_weights(...)` function."
   ]
  },
  {
   "cell_type": "code",
   "execution_count": 29,
   "metadata": {},
   "outputs": [
    {
     "data": {
      "text/plain": [
       "<torch._C.Generator at 0x1523d9420750>"
      ]
     },
     "execution_count": 29,
     "metadata": {},
     "output_type": "execute_result"
    }
   ],
   "source": [
    "from sklearn.utils import class_weight\n",
    "\n",
    "def compute_class_weights(labels):\n",
    "    class_weights=class_weight.compute_class_weight(class_weight='balanced', classes=np.unique(labels), y=labels)\n",
    "    class_weights=torch.tensor(class_weights,dtype=torch.float)\n",
    "    return class_weights\n",
    "\n",
    "def accuracy_fn(y_true, y_pred):\n",
    "    correct = torch.eq(y_true, y_pred).sum().item()\n",
    "    acc = (correct / len(y_pred)) * 100 \n",
    "    return acc\n",
    "\n",
    "torch.manual_seed(42)"
   ]
  },
  {
   "cell_type": "markdown",
   "metadata": {},
   "source": [
    "### Train loop"
   ]
  },
  {
   "cell_type": "code",
   "execution_count": 30,
   "metadata": {},
   "outputs": [
    {
     "name": "stdout",
     "output_type": "stream",
     "text": [
      "Epoch: 0 | Loss: 1.74147, Accuracy: 76.38% | Test loss: 0.98904, AUC: 0.5931284432473661, MCC: 0.03957976470712661\n",
      "Epoch: 10 | Loss: 0.90061, Accuracy: 79.97% | Test loss: 0.56798, AUC: 0.8725090398801749, MCC: 0.33960326584066847\n",
      "Epoch: 20 | Loss: 0.64754, Accuracy: 86.84% | Test loss: 0.48895, AUC: 0.9081941739440612, MCC: 0.39085549533445313\n",
      "Epoch: 30 | Loss: 0.52250, Accuracy: 89.61% | Test loss: 0.44746, AUC: 0.9245222177170034, MCC: 0.43235816871229577\n",
      "Epoch: 40 | Loss: 0.45129, Accuracy: 91.35% | Test loss: 0.42217, AUC: 0.9335375359232239, MCC: 0.4509598131248308\n",
      "Epoch: 50 | Loss: 0.38658, Accuracy: 92.61% | Test loss: 0.41206, AUC: 0.9386785531774151, MCC: 0.4759166076049038\n",
      "Epoch: 60 | Loss: 0.34136, Accuracy: 93.39% | Test loss: 0.40654, AUC: 0.9423992073619643, MCC: 0.485183160989474\n",
      "Epoch: 70 | Loss: 0.29589, Accuracy: 94.18% | Test loss: 0.40896, AUC: 0.944733024667675, MCC: 0.5001573831296198\n"
     ]
    }
   ],
   "source": [
    "from sklearn import metrics  \n",
    "\n",
    "model_0 = YuClassifier().to(device)\n",
    "epochs = 80\n",
    "\n",
    "# Create an optimizer\n",
    "optimizer = torch.optim.Adam(params=model_0.parameters(), \n",
    "                            lr=0.0001)\n",
    "\n",
    "X_train, y_train = train_dataset[:]\n",
    "X_test, y_test = test_dataset[:]\n",
    "\n",
    "# compute class weights (because the dataset is heavily imbalanced)\n",
    "class_weights = compute_class_weights(y_train.numpy()).to(device)\n",
    "# BCEWithLogitsLoss - sigmoid is already built-in!\n",
    "loss_fn = nn.BCEWithLogitsLoss(pos_weight=class_weights[1])\n",
    "\n",
    "X_train, y_train = X_train.to(device), y_train.to(device).float()\n",
    "X_test, y_test = X_test.to(device), y_test.to(device).float()\n",
    "\n",
    "train_losses, test_losses = [], []\n",
    "\n",
    "for epoch in range(epochs):\n",
    "    ### TRAIN\n",
    "    model_0.train()\n",
    "\n",
    "    y_logits = model_0(X_train).squeeze() \n",
    "    y_pred = torch.round(torch.sigmoid(y_logits))\n",
    "    \n",
    "    loss = loss_fn(y_logits,\n",
    "                   y_train) \n",
    "    acc = accuracy_fn(y_true=y_train, \n",
    "                      y_pred=y_pred) \n",
    "\n",
    "    train_losses.append(loss.cpu().detach().numpy())\n",
    "\n",
    "    optimizer.zero_grad()\n",
    "\n",
    "    loss.backward()\n",
    "\n",
    "    optimizer.step()\n",
    "\n",
    "    ### TEST\n",
    "    model_0.eval()\n",
    "    with torch.inference_mode():\n",
    "        test_logits = model_0(X_test).squeeze()\n",
    "        test_pred = torch.round(torch.sigmoid(test_logits))\n",
    "\n",
    "        test_loss = loss_fn(test_logits,\n",
    "                            y_test)\n",
    "        test_losses.append(test_loss.cpu().detach().numpy())\n",
    "\n",
    "        # compute metrics on test dataset\n",
    "        test_acc = accuracy_fn(y_true=y_test,\n",
    "                               y_pred=test_pred)\n",
    "        fpr, tpr, thresholds = metrics.roc_curve(y_test.cpu().numpy(), torch.sigmoid(test_logits).cpu().numpy())\n",
    "        roc_auc = metrics.auc(fpr, tpr)\n",
    "\n",
    "        mcc = metrics.matthews_corrcoef(y_test.cpu().numpy(), test_pred.cpu().numpy())\n",
    "    if epoch % 10 == 0:\n",
    "        print(f\"Epoch: {epoch} | Loss: {loss:.5f}, Accuracy: {acc:.2f}% | Test loss: {test_loss:.5f}, AUC: {roc_auc}, MCC: {mcc}\")"
   ]
  },
  {
   "cell_type": "markdown",
   "metadata": {},
   "source": [
    "### Compare train and test loss"
   ]
  },
  {
   "cell_type": "code",
   "execution_count": 31,
   "metadata": {},
   "outputs": [
    {
     "data": {
      "text/plain": [
       "<matplotlib.legend.Legend at 0x1523a74a4dc0>"
      ]
     },
     "execution_count": 31,
     "metadata": {},
     "output_type": "execute_result"
    },
    {
     "data": {
      "image/png": "[encoded data removed]",
      "text/plain": [
       "<Figure size 640x480 with 1 Axes>"
      ]
     },
     "metadata": {},
     "output_type": "display_data"
    }
   ],
   "source": [
    "import matplotlib.pyplot as plt\n",
    "\n",
    "plt.plot(train_losses,label=\"train loss over epochs\")\n",
    "plt.plot(test_losses,label=\"test loss over epochs\")\n",
    "plt.legend()"
   ]
  },
  {
   "cell_type": "markdown",
   "metadata": {},
   "source": [
    "### ROC curve\n",
    "The dataset is imbalanced, therefore it is important to use a more complex metrics for evaluating the model appart from using only the accuracy (if we would predict everything as NON-BINDING, then we would achieve ~95% accuracy as most of the residues are NON-BINDING!)."
   ]
  },
  {
   "cell_type": "code",
   "execution_count": 32,
   "metadata": {},
   "outputs": [
    {
     "data": {
      "image/png": "[encoded data removed]",
      "text/plain": [
       "<Figure size 640x480 with 1 Axes>"
      ]
     },
     "metadata": {},
     "output_type": "display_data"
    }
   ],
   "source": [
    "plt.title('Receiver Operating Characteristic')\n",
    "plt.plot(fpr, tpr, 'b', label = 'AUC = %0.2f' % roc_auc)\n",
    "plt.legend(loc = 'lower right')\n",
    "plt.plot([0, 1], [0, 1],'r--')\n",
    "plt.xlim([0, 1])\n",
    "plt.ylim([0, 1])\n",
    "plt.ylabel('True Positive Rate')\n",
    "plt.xlabel('False Positive Rate')\n",
    "plt.show()"
   ]
  },
  {
   "cell_type": "markdown",
   "metadata": {},
   "source": [
    "# Homework: Part 1\n",
    "Create embeddings based on sequences from the annotation files using a different model (We'll give you hints for ProtBERT, but feel free to use model of your own choice - ProtT5, Ankh, ...)"
   ]
  },
  {
   "cell_type": "code",
   "execution_count": 6,
   "metadata": {},
   "outputs": [],
   "source": [
    "from transformers import BertModel, BertTokenizer\n",
    "\n",
    "tokenizer = BertTokenizer.from_pretrained(\"Rostlab/prot_bert\", do_lower_case=False )\n",
    "model = BertModel.from_pretrained(\"Rostlab/prot_bert\")\n",
    "\n",
    "GENERATE_EMBEDDINGS = False\n"
   ]
  },
  {
   "cell_type": "markdown",
   "metadata": {},
   "source": [
    "### Try the model on an example sequence"
   ]
  },
  {
   "cell_type": "code",
   "execution_count": 15,
   "metadata": {},
   "outputs": [],
   "source": [
    "protein_sequences = ['MKALCLLLLPVLGLLVSSKTLCSMEEAINERIQEVAGSLIFRAISSIGLECQSVTSRGDLATCPRGFAVTGCTCGSACGSWDVRAETTCHCQCAGMDWTGARCCRVQPLEHHHHHH', \n",
    "      'GSHMSLFDFFKNKGSAATATDRLKLILAKERTLNLPYMEEMRKEIIAVIQKYTKSSDIHFKTLDSNQSVETIEVEIILPR']\n",
    "\n",
    "protein_sequences = [seq.replace(\"\", \" \")[1: -1] for seq in protein_sequences]\n",
    "output = []\n",
    "for seq in protein_sequences:\n",
    "    encoded_input = tokenizer(seq, return_tensors='pt')\n",
    "    \n",
    "    # you need to strip the embedding of the first and last vector, as those are the starting and terminating signs\n",
    "    output.append(model(**encoded_input).last_hidden_state.detach().numpy()[0][1:-1])"
   ]
  },
  {
   "cell_type": "code",
   "execution_count": 45,
   "metadata": {},
   "outputs": [
    {
     "name": "stdout",
     "output_type": "stream",
     "text": [
      "Embedding shape: (116, 1024), sequence length: 116\n",
      "Embedding shape: (80, 1024), sequence length: 80\n"
     ]
    }
   ],
   "source": [
    "protein_sequences = ['MKALCLLLLPVLGLLVSSKTLCSMEEAINERIQEVAGSLIFRAISSIGLECQSVTSRGDLATCPRGFAVTGCTCGSACGSWDVRAETTCHCQCAGMDWTGARCCRVQPLEHHHHHH', \n",
    "      'GSHMSLFDFFKNKGSAATATDRLKLILAKERTLNLPYMEEMRKEIIAVIQKYTKSSDIHFKTLDSNQSVETIEVEIILPR']\n",
    "\n",
    "for i, seq in zip(output, protein_sequences):\n",
    "    print(f'Embedding shape: {i.shape}, sequence length: {len(seq)}')"
   ]
  },
  {
   "cell_type": "markdown",
   "metadata": {},
   "source": [
    "### TASK 1.\n",
    "Use the model to generate embeddings for the YU dataset used earlier\n",
    "Hints:\n",
    "1. The sequences can be found in the CSV files `ADP_Training.txt`, `ADP_Test.txt`"
   ]
  },
  {
   "cell_type": "code",
   "execution_count": 20,
   "metadata": {},
   "outputs": [],
   "source": [
    "import numpy as np\n",
    "\n",
    "def get_sequences(annotation_path):\n",
    "    sequences = []\n",
    "    with open(annotation_path) as f:\n",
    "        reader = csv.reader(f, delimiter=\";\")\n",
    "        for row in reader:\n",
    "            id = row[0].lower() + row[1]\n",
    "            sequence = row[5]\n",
    "            sequences.append((id, sequence))\n",
    "\n",
    "    return sequences\n",
    "\n",
    "def create_embeddings(sequences, output_path):    \n",
    "    with torch.no_grad():\n",
    "        for sequence in sequences:\n",
    "            print(f'Process {sequence[0]} ...')\n",
    "            encoded_input = tokenizer(sequence[1].replace(\"\", \" \")[1: -1], return_tensors='pt')\n",
    "            embedding = model(**encoded_input).last_hidden_state.detach().numpy()[0][1:-1]\n",
    "\n",
    "            assert len(sequence[1]) == embedding.shape[0]\n",
    "            with open(f'{output_path}/{sequence[0]}.npy', 'wb') as f:\n",
    "                np.save(f, embedding)"
   ]
  },
  {
   "cell_type": "code",
   "execution_count": 21,
   "metadata": {},
   "outputs": [
    {
     "name": "stdout",
     "output_type": "stream",
     "text": [
      "reading TRAIN sequences ...\n",
      "generating TRAIN embeddings ...\n",
      "Process 2b9hA ...\n",
      "Process 2fnaA ...\n",
      "Process 1hi5A ...\n",
      "Process 3kjiA ...\n",
      "Process 1k3cA ...\n",
      "Process 3llmA ...\n",
      "Process 1nvaA ...\n",
      "Process 1pkgA ...\n",
      "Process 3nbxX ...\n",
      "Process 3ko5A ...\n",
      "Process 1fwkA ...\n",
      "Process 2dcnA ...\n",
      "Process 2axnA ...\n",
      "Process 3g2fA ...\n",
      "Process 1cnfA ...\n",
      "Process 2awnA ...\n",
      "Process 2qb5A ...\n",
      "Process 2rd5A ...\n",
      "Process 1r0yA ...\n",
      "Process 1gzfC ...\n",
      "Process 3dzvA ...\n",
      "Process 1t6xA ...\n",
      "Process 1iqpA ...\n",
      "Process 2ch6A ...\n",
      "Process 1e3mA ...\n",
      "Process 3k1jA ...\n",
      "Process 3hz6A ...\n",
      "Process 1y63A ...\n",
      "Process 1e4eA ...\n",
      "Process 3ec2A ...\n",
      "Process 1rfvA ...\n",
      "Process 1z59A ...\n",
      "Process 3i73A ...\n",
      "Process 1a9xA ...\n",
      "Process 1a9xA ...\n",
      "Process 1xtjA ...\n",
      "Process 1qf9A ...\n",
      "Process 2qr1B ...\n",
      "Process 1jj7A ...\n",
      "Process 1b62A ...\n",
      "Process 3akkA ...\n",
      "Process 1tzdA ...\n",
      "Process 2hehA ...\n",
      "Process 3ouzA ...\n",
      "Process 2a2cA ...\n",
      "Process 3bfvA ...\n",
      "Process 1r6bX ...\n",
      "Process 1ao0A ...\n",
      "Process 1ao0A ...\n",
      "Process 1xjkA ...\n",
      "Process 3pnlB ...\n",
      "Process 3fwyA ...\n",
      "Process 1v1aA ...\n",
      "Process 1zthA ...\n",
      "Process 3pdtA ...\n",
      "Process 1sxjE ...\n",
      "Process 1h8eE ...\n",
      "Process 3gr4A ...\n",
      "Process 1mq4A ...\n",
      "Process 2d2fA ...\n",
      "Process 1va6A ...\n",
      "Process 2d0oA ...\n",
      "Process 2q14A ...\n",
      "Process 2q14A ...\n",
      "Process 2jgvB ...\n",
      "Process 2q2rA ...\n",
      "Process 2wzbA ...\n",
      "Process 2qz4A ...\n",
      "Process 1o0hA ...\n",
      "Process 2hmfA ...\n",
      "Process 1z2nX ...\n",
      "Process 1uj2A ...\n",
      "Process 2c2aA ...\n",
      "Process 1xx6A ...\n",
      "Process 2bkkA ...\n",
      "Process 2ojwA ...\n",
      "Process 3c9uA ...\n",
      "Process 2nunA ...\n",
      "Process 1w5tC ...\n",
      "Process 2v1xA ...\n",
      "Process 3fmoB ...\n",
      "Process 2zpaA ...\n",
      "Process 2qsyA ...\n",
      "Process 2cvxA ...\n",
      "Process 3hy6A ...\n",
      "Process 2d7dA ...\n",
      "Process 2hv7B ...\n",
      "Process 3nuaA ...\n",
      "Process 1ihuA ...\n",
      "Process 1pfkA ...\n",
      "Process 1pfkA ...\n",
      "Process 1pfkA ...\n",
      "Process 2if8A ...\n",
      "Process 3ocmA ...\n",
      "Process 1u0jA ...\n",
      "Process 3n3oB ...\n",
      "Process 2pywA ...\n",
      "Process 1we3A ...\n",
      "Process 1mmaA ...\n",
      "Process 2shkB ...\n",
      "Process 2qv7A ...\n",
      "Process 2po0A ...\n",
      "Process 2iuuA ...\n",
      "Process 3ohrA ...\n",
      "Process 2o0jA ...\n",
      "Process 2w8rA ...\n",
      "Process 3c4nA ...\n",
      "Process 1xmvA ...\n",
      "Process 3l86A ...\n",
      "Process 1czaN ...\n",
      "Process 1wnlA ...\n",
      "Process 2zj5A ...\n",
      "Process 1g6oA ...\n",
      "Process 3i0oA ...\n",
      "Process 2io8A ...\n",
      "Process 3ll9A ...\n",
      "Process 3a0tA ...\n",
      "Process 1svlA ...\n",
      "Process 1g6hA ...\n",
      "Process 3ehhA ...\n",
      "Process 3i33A ...\n",
      "Process 2dr3A ...\n",
      "Process 2dr3A ...\n",
      "Process 2w58A ...\n",
      "Process 3l8kA ...\n",
      "Process 3n83A ...\n",
      "Process 1m7gB ...\n",
      "Process 1ohbA ...\n",
      "Process 1vhlA ...\n",
      "Process 1zarA ...\n",
      "Process 1mwmA ...\n",
      "Process 1gsaA ...\n",
      "Process 3p4xA ...\n",
      "Process 1e2dA ...\n",
      "Process 1nksF ...\n",
      "Process 1s4eA ...\n",
      "Process 3ge1A ...\n",
      "Process 3dlsA ...\n",
      "Process 1ea6A ...\n",
      "Process 3f61A ...\n",
      "Process 1jbpE ...\n",
      "Process 1sq5A ...\n",
      "Process 2h1fA ...\n",
      "Process 2bvcA ...\n",
      "Process 3fi8A ...\n",
      "Process 1dadA ...\n",
      "Process 1gkiA ...\n",
      "Process 1gkiA ...\n",
      "Process 2o8bB ...\n",
      "Process 3ez2A ...\n",
      "Process 3ez2A ...\n",
      "Process 3ez2A ...\n",
      "Process 3fh0A ...\n",
      "Process 1in4A ...\n",
      "Process 1wpgA ...\n",
      "Process 2fsnA ...\n",
      "Process 2pl3A ...\n",
      "Process 1e8hA ...\n",
      "Process 1ty8A ...\n",
      "Process 2cdnA ...\n",
      "Process 2cdnA ...\n",
      "Process 2ad5A ...\n",
      "Process 1djnA ...\n",
      "Process 1htwA ...\n",
      "Process 1ltqA ...\n",
      "Process 2p9iA ...\n",
      "Process 3kalA ...\n",
      "Process 3ex7C ...\n",
      "Process 2w5aA ...\n",
      "Process 3bfnA ...\n",
      "Process 2qenA ...\n",
      "Process 1ny3A ...\n",
      "Process 2xd4A ...\n",
      "Process 1i58B ...\n",
      "Process 2f1jA ...\n",
      "Process 1p72A ...\n",
      "Process 3eqiA ...\n",
      "Process 2xgjA ...\n",
      "Process 3fe2A ...\n",
      "Process 2r87A ...\n",
      "Process 1n08A ...\n",
      "Process 3ll3B ...\n",
      "Process 3mleA ...\n",
      "Process 2wwfA ...\n",
      "Process 1uw1A ...\n",
      "Process 2zfiA ...\n",
      "Process 2iyvA ...\n",
      "Process 3k5iA ...\n",
      "Process 2c98A ...\n",
      "Process 1iowA ...\n",
      "Process 2vosA ...\n",
      "Process 2c31A ...\n",
      "Process 2oljA ...\n",
      "Process 3kh5A ...\n",
      "Process 3kh5A ...\n",
      "Process 3kh5A ...\n",
      "Process 1xw4X ...\n",
      "Process 1gkzA ...\n",
      "Process 3dsrA ...\n",
      "Process 1l8qA ...\n",
      "Process 1yp4A ...\n",
      "Process 2hgsA ...\n",
      "Process 1kjqA ...\n",
      "Process 3d2rA ...\n",
      "Process 1zxnA ...\n",
      "Process 2xauA ...\n",
      "Process 1ehiA ...\n",
      "Process 2x58A ...\n",
      "Process 3brbA ...\n",
      "Process 3mufA ...\n",
      "Process 2obmA ...\n",
      "Process 3dkpA ...\n",
      "Process 3dkpA ...\n",
      "Process 3lvvA ...\n",
      "Process 3dc4A ...\n",
      "Process 2cnqA ...\n",
      "Process 2cnqA ...\n",
      "Process 1q8yA ...\n",
      "Process 2ff7A ...\n",
      "Process 1yqtA ...\n",
      "Process 1yqtA ...\n",
      "Process 1oxuA ...\n",
      "Process 3fwrA ...\n",
      "Process 2uytA ...\n",
      "Process 2wqnA ...\n",
      "Process 1eqmA ...\n",
      "Process 3hyoA ...\n",
      "Process 3cr3A ...\n",
      "Process 2jcbA ...\n",
      "Process 3gviA ...\n",
      "Process 3g15A ...\n",
      "Process 2xamA ...\n",
      "Process 3egiA ...\n",
      "Process 1u3fA ...\n",
      "Process 2rioA ...\n",
      "Process 2oxcA ...\n",
      "Process 3in1A ...\n",
      "Process 1rkdA ...\n",
      "Process 2e2pA ...\n",
      "Process 2xjaA ...\n",
      "Process 3d5wA ...\n",
      "Process 2jfgA ...\n",
      "Process 2fsiA ...\n",
      "Process 3mesB ...\n",
      "Process 1vtkA ...\n",
      "Process 1u6rA ...\n",
      "Process 2bejA ...\n",
      "Process 2we5A ...\n",
      "Process 2ww4A ...\n",
      "Process 2vhjA ...\n",
      "Process 3h0lB ...\n",
      "Process 1g41A ...\n",
      "Process 1b6sA ...\n",
      "Process 1byqA ...\n",
      "Process 2ewvA ...\n",
      "Process 1njfC ...\n",
      "Process 3nwnA ...\n",
      "Process 1j1cA ...\n",
      "Process 2v8pA ...\n",
      "Process 3d36A ...\n",
      "Process 2hmvA ...\n",
      "Process 1h8eC ...\n",
      "Process 3go6B ...\n",
      "Process 2i8cA ...\n",
      "Process 2yx6B ...\n",
      "Process 2bfrA ...\n",
      "Process 1g3qA ...\n",
      "Process 1uc9A ...\n",
      "Process 3pygA ...\n",
      "Process 1p5zB ...\n",
      "Process 1mp8A ...\n",
      "Process 2xocA ...\n",
      "Process 3pffA ...\n",
      "Process 2fv7A ...\n",
      "Process 1hw8A ...\n",
      "Process 1f9vA ...\n",
      "Process 2gr0A ...\n",
      "Process 2j0wA ...\n",
      "Process 3lrtA ...\n",
      "Process 2jlxB ...\n",
      "Process 3a7jA ...\n",
      "Process 3ncrA ...\n",
      "Process 3fd6A ...\n",
      "Process 1iahA ...\n",
      "Process 1j6zA ...\n",
      "Process 3icsB ...\n",
      "Process 3hfwA ...\n",
      "Process 1th8A ...\n",
      "Process 3copA ...\n",
      "Process 3bf1A ...\n",
      "Process 2cduA ...\n",
      "Process 1w78A ...\n",
      "Process 2akoA ...\n",
      "Process 3lctA ...\n",
      "Process 2i5bA ...\n",
      "Process 1o51A ...\n",
      "Process 2cn5A ...\n",
      "Process 3a1dA ...\n",
      "Process 2grjA ...\n",
      "Process 2olcA ...\n",
      "Process 2dyaB ...\n",
      "Process 1fnnA ...\n",
      "Process 3io3A ...\n",
      "Process 1x88A ...\n",
      "Process 1gc5A ...\n",
      "Process 2iw3A ...\n",
      "Process 2w41A ...\n",
      "Process 2w4jA ...\n",
      "Process 1fp6A ...\n",
      "Process 1x3mA ...\n",
      "Process 1z6tA ...\n",
      "Processing ...\n",
      "reading TEST sequences ...\n",
      "generating TRAIN embeddings ...\n",
      "Process 3smsA ...\n",
      "Process 4dzzA ...\n",
      "Process 4fcwA ...\n",
      "Process 3zvmA ...\n",
      "Process 3vmmA ...\n",
      "Process 3qffA ...\n",
      "Process 3r03A ...\n",
      "Process 3vufA ...\n",
      "Process 3zznD ...\n",
      "Process 4b0tA ...\n",
      "Process 4b0tA ...\n",
      "Process 3qhwA ...\n",
      "Process 3ty5B ...\n",
      "Process 4ag5A ...\n",
      "Process 3qurA ...\n",
      "Process 3rboA ...\n",
      "Process 3qc9D ...\n",
      "Process 4ehyA ...\n",
      "Process 4a14A ...\n",
      "Process 3rerA ...\n",
      "Process 3rerA ...\n",
      "Process 4edhA ...\n",
      "Process 4dcaA ...\n",
      "Process 3ux8A ...\n",
      "Process 3tlxA ...\n",
      "Process 3viuA ...\n",
      "Process 3vkgA ...\n",
      "Process 3vkgA ...\n",
      "Process 3vkgA ...\n",
      "Process 3vkgA ...\n",
      "Process 3ugjA ...\n",
      "Process 3rusA ...\n",
      "Process 3uk6A ...\n",
      "Process 3tzlA ...\n",
      "Process 3b1nA ...\n",
      "Process 3rfcA ...\n",
      "Process 3rreA ...\n",
      "Process 3rreA ...\n",
      "Process 3rreA ...\n",
      "Process 3t7aA ...\n",
      "Process 4fd2B ...\n",
      "Process 3auyA ...\n",
      "Process 3t4nC ...\n",
      "Process 3vetA ...\n",
      "Process 2y8lE ...\n",
      "Process 3thxA ...\n",
      "Process 3r9iA ...\n",
      "Process 3r9iA ...\n",
      "Process 4ehtA ...\n",
      "Process 3uboA ...\n",
      "Process 3tinA ...\n",
      "Process 3ttcA ...\n",
      "Process 3ttcA ...\n",
      "Process 3qbwA ...\n",
      "Process 4e1cA ...\n",
      "Process 3qovA ...\n",
      "Processing ...\n"
     ]
    }
   ],
   "source": [
    "if GENERATE_EMBEDDINGS:\n",
    "    print(\"reading TRAIN sequences ...\")\n",
    "    train_sequences = get_sequences(f'{DATAPATH}/ADP_Training.txt')\n",
    "    print(\"generating TRAIN embeddings ...\")\n",
    "    create_embeddings(train_sequences, f'{DATAPATH}/ankh-embeddings')\n",
    "\n",
    "    Xs_train, Ys_train = proccess_dataset(f'{DATAPATH}/ADP_Training.txt', f'{DATAPATH}/ankh-embeddings')\n",
    "    train_dataset = YuDataset(Xs_train, Ys_train)\n",
    "\n",
    "    print(\"reading TEST sequences ...\")\n",
    "    test_sequences = get_sequences(f'{DATAPATH}/ADP_Test.txt')\n",
    "    print(\"generating TRAIN embeddings ...\")\n",
    "    create_embeddings(test_sequences, f'{DATAPATH}/ankh-embeddings')"
   ]
  },
  {
   "cell_type": "code",
   "execution_count": 23,
   "metadata": {},
   "outputs": [
    {
     "data": {
      "text/plain": [
       "(352, 1024)"
      ]
     },
     "execution_count": 23,
     "metadata": {},
     "output_type": "execute_result"
    }
   ],
   "source": [
    "np.load(f'{DATAPATH}/ankh-embeddings/2fnaA.npy').shape"
   ]
  },
  {
   "cell_type": "markdown",
   "metadata": {},
   "source": [
    "### TASK 2.\n",
    "Use the novel embeddings to train a model for the binding-site prediction task, similarly as was shown earlier with the ESM-2 embeddings.\n",
    "1. train the model using your novel embeddings\n",
    "2. create the train/test loss graph\n",
    "3. create the ROC curve: print the ROC curve for both models (the model trained on ESM-2 and your new model)\n",
    "\n",
    "\n",
    "Hints:\n",
    "1. You can reuse the code from earlier: `YuClassifier` class, `proccess_dataset(...)`, the train loop or the code for creating the plots\n",
    "2. To train the model on ESM-2 using 80 epochs was enough. However, in the case of ProtBert, you might need to increase the number of epochs to train the model properly.\n",
    "3. Don't worry if the ProtBert results don't match the ESM-2 results. It is expected as the ESM-2 model is more complex than the ProtBert model. On the other hand, generating ProtBert embeddings isn't as time-consuming as generating ESM-2 embeddings. "
   ]
  },
  {
   "cell_type": "code",
   "execution_count": 33,
   "metadata": {},
   "outputs": [],
   "source": [
    "Xs_train, Ys_train = proccess_dataset(f'{DATAPATH}/ADP_Training.txt', f'{DATAPATH}/ankh-embeddings')\n",
    "train_dataset = YuDataset(Xs_train, Ys_train)\n",
    "\n",
    "Xs_test, Ys_test = proccess_dataset(f'{DATAPATH}/ADP_Test.txt', f'{DATAPATH}/ankh-embeddings')\n",
    "test_dataset = YuDataset(Xs_test, Ys_test)"
   ]
  },
  {
   "cell_type": "code",
   "execution_count": 40,
   "metadata": {},
   "outputs": [
    {
     "name": "stdout",
     "output_type": "stream",
     "text": [
      "Epoch: 0 | Loss: 0.99885, Accuracy: 96.10% | Test loss: 0.95568, AUC: 0.46316368052889195, MCC: 0.0\n",
      "Epoch: 10 | Loss: 0.99019, Accuracy: 96.26% | Test loss: 0.94660, AUC: 0.5873525439243299, MCC: 0.0\n",
      "Epoch: 20 | Loss: 0.98060, Accuracy: 96.26% | Test loss: 0.93678, AUC: 0.634107739336484, MCC: 0.0\n",
      "Epoch: 30 | Loss: 0.96967, Accuracy: 96.26% | Test loss: 0.92550, AUC: 0.6518529549159866, MCC: 0.0\n",
      "Epoch: 40 | Loss: 0.95578, Accuracy: 96.26% | Test loss: 0.91212, AUC: 0.664096038516609, MCC: 0.0\n",
      "Epoch: 50 | Loss: 0.94053, Accuracy: 96.27% | Test loss: 0.89633, AUC: 0.6793676666387939, MCC: 0.0\n",
      "Epoch: 60 | Loss: 0.92228, Accuracy: 96.24% | Test loss: 0.87790, AUC: 0.6976660822950015, MCC: 0.09903955144546787\n",
      "Epoch: 70 | Loss: 0.90181, Accuracy: 96.13% | Test loss: 0.85685, AUC: 0.7166121450723815, MCC: 0.1657694462389249\n",
      "Epoch: 80 | Loss: 0.87971, Accuracy: 95.73% | Test loss: 0.83379, AUC: 0.7345176409437475, MCC: 0.19109324492307445\n",
      "Epoch: 90 | Loss: 0.85758, Accuracy: 95.04% | Test loss: 0.80973, AUC: 0.7503501425167893, MCC: 0.20424067483313202\n",
      "Epoch: 100 | Loss: 0.83452, Accuracy: 94.24% | Test loss: 0.78564, AUC: 0.7643499268017476, MCC: 0.22481414951541043\n",
      "Epoch: 110 | Loss: 0.81183, Accuracy: 93.30% | Test loss: 0.76242, AUC: 0.7768196617949585, MCC: 0.22497991315133\n",
      "Epoch: 120 | Loss: 0.79093, Accuracy: 92.54% | Test loss: 0.74081, AUC: 0.7878796832144295, MCC: 0.2361565556815338\n",
      "Epoch: 130 | Loss: 0.76785, Accuracy: 91.77% | Test loss: 0.72102, AUC: 0.7977490766492628, MCC: 0.24638755298980367\n",
      "Epoch: 140 | Loss: 0.75072, Accuracy: 91.13% | Test loss: 0.70311, AUC: 0.8062469440966724, MCC: 0.24844680012328016\n",
      "Epoch: 150 | Loss: 0.72963, Accuracy: 90.61% | Test loss: 0.68725, AUC: 0.8133055160372802, MCC: 0.2581822610683145\n",
      "Epoch: 160 | Loss: 0.71352, Accuracy: 90.19% | Test loss: 0.67336, AUC: 0.8191609100822542, MCC: 0.2661678862146427\n",
      "Epoch: 170 | Loss: 0.69769, Accuracy: 89.87% | Test loss: 0.66140, AUC: 0.8239620398897846, MCC: 0.27010187616742154\n",
      "Epoch: 180 | Loss: 0.68192, Accuracy: 89.55% | Test loss: 0.65142, AUC: 0.8275898605898515, MCC: 0.2747440385392012\n",
      "Epoch: 190 | Loss: 0.66882, Accuracy: 89.53% | Test loss: 0.64326, AUC: 0.8304161005461578, MCC: 0.27963751657433\n",
      "Epoch: 200 | Loss: 0.65655, Accuracy: 89.35% | Test loss: 0.63659, AUC: 0.8327717188401129, MCC: 0.28248330210179745\n",
      "Epoch: 210 | Loss: 0.64451, Accuracy: 89.28% | Test loss: 0.63137, AUC: 0.834536702465706, MCC: 0.2828941424210369\n",
      "Epoch: 220 | Loss: 0.63573, Accuracy: 89.21% | Test loss: 0.62709, AUC: 0.8359847829102053, MCC: 0.2810316978855854\n",
      "Epoch: 230 | Loss: 0.62667, Accuracy: 89.25% | Test loss: 0.62392, AUC: 0.837008568792373, MCC: 0.28192876693999536\n",
      "Epoch: 240 | Loss: 0.61731, Accuracy: 89.19% | Test loss: 0.62153, AUC: 0.8377072044090776, MCC: 0.2845367559277513\n"
     ]
    }
   ],
   "source": [
    "from sklearn import metrics  \n",
    "\n",
    "model_1 = YuClassifier(input_dim=1024).to(device)\n",
    "epochs = 250\n",
    "\n",
    "# Create an optimizer\n",
    "optimizer = torch.optim.Adam(params=model_1.parameters(), \n",
    "                            lr=0.0001)\n",
    "\n",
    "X_train, y_train = train_dataset[:]\n",
    "X_test, y_test = test_dataset[:]\n",
    "\n",
    "# compute class weights (because the dataset is heavily imbalanced)\n",
    "class_weights = compute_class_weights(y_train.numpy()).to(device)\n",
    "# BCEWithLogitsLoss = sigmoid is already built-in!\n",
    "loss_fn = nn.BCEWithLogitsLoss(pos_weight=class_weights[1])\n",
    "\n",
    "X_train, y_train = X_train.to(device), y_train.to(device).float()\n",
    "X_test, y_test = X_test.to(device), y_test.to(device).float()\n",
    "\n",
    "train_losses_1, test_losses_1 = [], []\n",
    "\n",
    "for epoch in range(epochs):\n",
    "    ### TRAIN\n",
    "    model_1.train()\n",
    "\n",
    "    y_logits = model_1(X_train).squeeze() \n",
    "    y_pred = torch.round(torch.sigmoid(y_logits))\n",
    "    \n",
    "    loss = loss_fn(y_logits,\n",
    "                   y_train) \n",
    "    acc = accuracy_fn(y_true=y_train, \n",
    "                      y_pred=y_pred) \n",
    "\n",
    "    train_losses_1.append(loss.cpu().detach().numpy())\n",
    "\n",
    "    optimizer.zero_grad()\n",
    "\n",
    "    loss.backward()\n",
    "\n",
    "    optimizer.step()\n",
    "\n",
    "    ### TEST\n",
    "    model_1.eval()\n",
    "    with torch.inference_mode():\n",
    "        test_logits = model_1(X_test).squeeze()\n",
    "        test_pred = torch.round(torch.sigmoid(test_logits))\n",
    "\n",
    "        test_loss = loss_fn(test_logits,\n",
    "                            y_test)\n",
    "        test_losses_1.append(test_loss.cpu().detach().numpy())\n",
    "\n",
    "        test_acc = accuracy_fn(y_true=y_test,\n",
    "                               y_pred=test_pred)\n",
    "        fpr_1, tpr_1, thresholds = metrics.roc_curve(y_test.cpu().numpy(), torch.sigmoid(test_logits).cpu().numpy())\n",
    "        roc_auc_1 = metrics.auc(fpr_1, tpr_1)\n",
    "\n",
    "        mcc = metrics.matthews_corrcoef(y_test.cpu().numpy(), test_pred.cpu().numpy())\n",
    "    if epoch % 10 == 0:\n",
    "        print(f\"Epoch: {epoch} | Loss: {loss:.5f}, Accuracy: {acc:.2f}% | Test loss: {test_loss:.5f}, AUC: {roc_auc_1}, MCC: {mcc}\")"
   ]
  },
  {
   "cell_type": "code",
   "execution_count": 44,
   "metadata": {},
   "outputs": [
    {
     "data": {
      "text/plain": [
       "<matplotlib.legend.Legend at 0x1523a6bb5af0>"
      ]
     },
     "execution_count": 44,
     "metadata": {},
     "output_type": "execute_result"
    },
    {
     "data": {
      "image/png": "[encoded data removed]",
      "text/plain": [
       "<Figure size 640x480 with 1 Axes>"
      ]
     },
     "metadata": {},
     "output_type": "display_data"
    }
   ],
   "source": [
    "import matplotlib.pyplot as plt\n",
    "\n",
    "plt.plot(train_losses_1,label=\"train loss over epochs\")\n",
    "plt.plot(test_losses_1,label=\"test loss over epochs\")\n",
    "plt.legend()"
   ]
  },
  {
   "cell_type": "code",
   "execution_count": 43,
   "metadata": {},
   "outputs": [
    {
     "data": {
      "image/png": "[encoded data removed]",
      "text/plain": [
       "<Figure size 640x480 with 1 Axes>"
      ]
     },
     "metadata": {},
     "output_type": "display_data"
    }
   ],
   "source": [
    "plt.title('Receiver Operating Characteristic')\n",
    "plt.plot(fpr, tpr, 'b', label = 'ESM-2: AUC = %0.2f' % roc_auc)\n",
    "plt.plot(fpr_1, tpr_1, 'y', label = 'ProtBERT: AUC = %0.2f' % roc_auc_1)\n",
    "plt.legend(loc = 'lower right')\n",
    "plt.plot([0, 1], [0, 1],'r--')\n",
    "plt.xlim([0, 1])\n",
    "plt.ylim([0, 1])\n",
    "plt.ylabel('True Positive Rate')\n",
    "plt.xlabel('False Positive Rate')\n",
    "plt.show()"
   ]
  }
 ],
 "metadata": {
  "kernelspec": {
   "display_name": "Python 3 (ipykernel)",
   "language": "python",
   "name": "python3"
  },
  "language_info": {
   "codemirror_mode": {
    "name": "ipython",
    "version": 3
   },
   "file_extension": ".py",
   "mimetype": "text/x-python",
   "name": "python",
   "nbconvert_exporter": "python",
   "pygments_lexer": "ipython3",
   "version": "3.9.18"
  }
 },
 "nbformat": 4,
 "nbformat_minor": 2
}
