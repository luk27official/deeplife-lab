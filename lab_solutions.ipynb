{
  "cells": [
    {
      "cell_type": "markdown",
      "metadata": {},
      "source": [
        "# Overview\n",
        "In the past few years, multiple approaches were developed to face the challenge of predicting the binding regions on the protein surface (protein-ligand interaction regions). In the age of machine learning, two ML approaches sticked out: structure-based and sequence-based. As the name suggests, sequence-based approaches use information retrievable solely from the sequence. On the other hand, structure-based approaches can gain information from the 3D structure of the protein as well.\n",
        "\n",
        "## Sequence-based methods\n",
        "In the first part of the lab, we will explore the possibilities of predicting binding residues using solely the protein sequence, as the protein language models (pLMs) show competitive results when compared to the SOTA methods for predicting protein-ligand binding sites.\n",
        "\n",
        "## Structure-based methods\n",
        "In the second part of the lab, we will try to imitate a well-known method for predicting binding sites called [DeepSite](https://academic.oup.com/bioinformatics/article/33/19/3036/3859178). We will then compare the performance of such a method with the sequence-based methods developed in the first part of the lab."
      ]
    },
    {
      "cell_type": "markdown",
      "metadata": {
        "id": "2QEYYx7MLJza"
      },
      "source": [
        "### Download data"
      ]
    },
    {
      "cell_type": "code",
      "execution_count": 1,
      "metadata": {
        "colab": {
          "base_uri": "https://localhost:8080/"
        },
        "id": "7WRrNvJP4JkO",
        "outputId": "4bcee201-a538-4a88-91e6-6de5e4b71b11"
      },
      "outputs": [
        {
          "name": "stdout",
          "output_type": "stream",
          "text": [
            "--2024-05-06 10:13:46--  https://bioinformatics.cuni.cz/data/deepdata.tar.gz\n",
            "Resolving bioinformatics.cuni.cz (bioinformatics.cuni.cz)... 195.113.19.164\n",
            "Connecting to bioinformatics.cuni.cz (bioinformatics.cuni.cz)|195.113.19.164|:443... connected.\n",
            "WARNING: cannot verify bioinformatics.cuni.cz's certificate, issued by ‘CN=GEANT OV RSA CA 4,O=GEANT Vereniging,C=NL’:\n",
            "  Unable to locally verify the issuer's authority.\n",
            "HTTP request sent, awaiting response... 200 OK\n",
            "Length: 3778483053 (3.5G) [application/x-gzip]\n",
            "Saving to: ‘deepdata.tar.gz’\n",
            "\n",
            "deepdata.tar.gz     100%[===================>]   3.52G  17.8MB/s    in 3m 23s  \n",
            "\n",
            "2024-05-06 10:17:10 (17.7 MB/s) - ‘deepdata.tar.gz’ saved [3778483053/3778483053]\n",
            "\n"
          ]
        }
      ],
      "source": [
        "!wget https://bioinformatics.cuni.cz/data/deepdata.tar.gz --no-check-certificate"
      ]
    },
    {
      "cell_type": "markdown",
      "metadata": {
        "id": "wneo6SJkLQKR"
      },
      "source": [
        "### TASK\n",
        "Check that `deepdata.tar.gz` was downloaded successfully"
      ]
    },
    {
      "cell_type": "code",
      "execution_count": 2,
      "metadata": {
        "colab": {
          "base_uri": "https://localhost:8080/"
        },
        "id": "00f7ZtId4MYw",
        "outputId": "aed27161-f5b5-4143-9ec2-e94b598d74d7"
      },
      "outputs": [
        {
          "name": "stdout",
          "output_type": "stream",
          "text": [
            "deepdata.tar.gz  sample_data\n"
          ]
        }
      ],
      "source": [
        "!ls"
      ]
    },
    {
      "cell_type": "code",
      "execution_count": 3,
      "metadata": {
        "id": "R5ULxIGL2NOU"
      },
      "outputs": [],
      "source": [
        "!mkdir data"
      ]
    },
    {
      "cell_type": "code",
      "execution_count": 4,
      "metadata": {
        "colab": {
          "base_uri": "https://localhost:8080/"
        },
        "id": "PB5hECQE5BS5",
        "outputId": "a10f50c8-e1ec-4ce9-d6b8-ed165b9fece4"
      },
      "outputs": [
        {
          "name": "stdout",
          "output_type": "stream",
          "text": [
            "ADP_Test.txt\n",
            "ADP_Training.txt\n",
            "bert-embeddings/\n",
            "bert-embeddings/2b9hA.npy\n",
            "bert-embeddings/2fnaA.npy\n",
            "bert-embeddings/1hi5A.npy\n",
            "bert-embeddings/3kjiA.npy\n",
            "bert-embeddings/1k3cA.npy\n",
            "bert-embeddings/3llmA.npy\n",
            "bert-embeddings/1nvaA.npy\n",
            "bert-embeddings/1pkgA.npy\n",
            "bert-embeddings/3nbxX.npy\n",
            "bert-embeddings/3ko5A.npy\n",
            "bert-embeddings/1fwkA.npy\n",
            "bert-embeddings/2dcnA.npy\n",
            "bert-embeddings/2axnA.npy\n",
            "bert-embeddings/3g2fA.npy\n",
            "bert-embeddings/1cnfA.npy\n",
            "bert-embeddings/2awnA.npy\n",
            "bert-embeddings/2qb5A.npy\n",
            "bert-embeddings/2rd5A.npy\n",
            "bert-embeddings/1r0yA.npy\n",
            "bert-embeddings/1gzfC.npy\n",
            "bert-embeddings/3dzvA.npy\n",
            "bert-embeddings/1t6xA.npy\n",
            "bert-embeddings/1iqpA.npy\n",
            "bert-embeddings/2ch6A.npy\n",
            "bert-embeddings/1e3mA.npy\n",
            "bert-embeddings/3k1jA.npy\n",
            "bert-embeddings/3hz6A.npy\n",
            "bert-embeddings/1y63A.npy\n",
            "bert-embeddings/1e4eA.npy\n",
            "bert-embeddings/3ec2A.npy\n",
            "bert-embeddings/1rfvA.npy\n",
            "bert-embeddings/1z59A.npy\n",
            "bert-embeddings/3i73A.npy\n",
            "bert-embeddings/1a9xA.npy\n",
            "bert-embeddings/1xtjA.npy\n",
            "bert-embeddings/1qf9A.npy\n",
            "bert-embeddings/2qr1B.npy\n",
            "bert-embeddings/1jj7A.npy\n",
            "bert-embeddings/1b62A.npy\n",
            "bert-embeddings/3akkA.npy\n",
            "bert-embeddings/1tzdA.npy\n",
            "bert-embeddings/2hehA.npy\n",
            "bert-embeddings/3ouzA.npy\n",
            "bert-embeddings/2a2cA.npy\n",
            "bert-embeddings/3bfvA.npy\n",
            "bert-embeddings/1r6bX.npy\n",
            "bert-embeddings/1ao0A.npy\n",
            "bert-embeddings/1xjkA.npy\n",
            "bert-embeddings/3pnlB.npy\n",
            "bert-embeddings/3fwyA.npy\n",
            "bert-embeddings/1v1aA.npy\n",
            "bert-embeddings/1zthA.npy\n",
            "bert-embeddings/3pdtA.npy\n",
            "bert-embeddings/1sxjE.npy\n",
            "bert-embeddings/1h8eE.npy\n",
            "bert-embeddings/3gr4A.npy\n",
            "bert-embeddings/1mq4A.npy\n",
            "bert-embeddings/2d2fA.npy\n",
            "bert-embeddings/1va6A.npy\n",
            "bert-embeddings/2d0oA.npy\n",
            "bert-embeddings/2q14A.npy\n",
            "bert-embeddings/2jgvB.npy\n",
            "bert-embeddings/2q2rA.npy\n",
            "bert-embeddings/2wzbA.npy\n",
            "bert-embeddings/2qz4A.npy\n",
            "bert-embeddings/1o0hA.npy\n",
            "bert-embeddings/2hmfA.npy\n",
            "bert-embeddings/1z2nX.npy\n",
            "bert-embeddings/1uj2A.npy\n",
            "bert-embeddings/2c2aA.npy\n",
            "bert-embeddings/1xx6A.npy\n",
            "bert-embeddings/2bkkA.npy\n",
            "bert-embeddings/2ojwA.npy\n",
            "bert-embeddings/3c9uA.npy\n",
            "bert-embeddings/2nunA.npy\n",
            "bert-embeddings/1w5tC.npy\n",
            "bert-embeddings/2v1xA.npy\n",
            "bert-embeddings/3fmoB.npy\n",
            "bert-embeddings/2zpaA.npy\n",
            "bert-embeddings/2qsyA.npy\n",
            "bert-embeddings/2cvxA.npy\n",
            "bert-embeddings/3hy6A.npy\n",
            "bert-embeddings/2d7dA.npy\n",
            "bert-embeddings/2hv7B.npy\n",
            "bert-embeddings/3nuaA.npy\n",
            "bert-embeddings/1ihuA.npy\n",
            "bert-embeddings/1pfkA.npy\n",
            "bert-embeddings/2if8A.npy\n",
            "bert-embeddings/3ocmA.npy\n",
            "bert-embeddings/1u0jA.npy\n",
            "bert-embeddings/3n3oB.npy\n",
            "bert-embeddings/2pywA.npy\n",
            "bert-embeddings/1we3A.npy\n",
            "bert-embeddings/1mmaA.npy\n",
            "bert-embeddings/2shkB.npy\n",
            "bert-embeddings/2qv7A.npy\n",
            "bert-embeddings/2po0A.npy\n",
            "bert-embeddings/2iuuA.npy\n",
            "bert-embeddings/3ohrA.npy\n",
            "bert-embeddings/2o0jA.npy\n",
            "bert-embeddings/2w8rA.npy\n",
            "bert-embeddings/3c4nA.npy\n",
            "bert-embeddings/1xmvA.npy\n",
            "bert-embeddings/3l86A.npy\n",
            "bert-embeddings/1czaN.npy\n",
            "bert-embeddings/1wnlA.npy\n",
            "bert-embeddings/2zj5A.npy\n",
            "bert-embeddings/1g6oA.npy\n",
            "bert-embeddings/3i0oA.npy\n",
            "bert-embeddings/2io8A.npy\n",
            "bert-embeddings/3ll9A.npy\n",
            "bert-embeddings/3a0tA.npy\n",
            "bert-embeddings/1svlA.npy\n",
            "bert-embeddings/1g6hA.npy\n",
            "bert-embeddings/3ehhA.npy\n",
            "bert-embeddings/3i33A.npy\n",
            "bert-embeddings/2dr3A.npy\n",
            "bert-embeddings/2w58A.npy\n",
            "bert-embeddings/3l8kA.npy\n",
            "bert-embeddings/3n83A.npy\n",
            "bert-embeddings/1m7gB.npy\n",
            "bert-embeddings/1ohbA.npy\n",
            "bert-embeddings/1vhlA.npy\n",
            "bert-embeddings/1zarA.npy\n",
            "bert-embeddings/1mwmA.npy\n",
            "bert-embeddings/1gsaA.npy\n",
            "bert-embeddings/3p4xA.npy\n",
            "bert-embeddings/1e2dA.npy\n",
            "bert-embeddings/1nksF.npy\n",
            "bert-embeddings/1s4eA.npy\n",
            "bert-embeddings/3ge1A.npy\n",
            "bert-embeddings/3dlsA.npy\n",
            "bert-embeddings/1ea6A.npy\n",
            "bert-embeddings/3f61A.npy\n",
            "bert-embeddings/1jbpE.npy\n",
            "bert-embeddings/1sq5A.npy\n",
            "bert-embeddings/2h1fA.npy\n",
            "bert-embeddings/2bvcA.npy\n",
            "bert-embeddings/3fi8A.npy\n",
            "bert-embeddings/1dadA.npy\n",
            "bert-embeddings/1gkiA.npy\n",
            "bert-embeddings/2o8bB.npy\n",
            "bert-embeddings/3ez2A.npy\n",
            "bert-embeddings/3fh0A.npy\n",
            "bert-embeddings/1in4A.npy\n",
            "bert-embeddings/1wpgA.npy\n",
            "bert-embeddings/2fsnA.npy\n",
            "bert-embeddings/2pl3A.npy\n",
            "bert-embeddings/1e8hA.npy\n",
            "bert-embeddings/1ty8A.npy\n",
            "bert-embeddings/2cdnA.npy\n",
            "bert-embeddings/2ad5A.npy\n",
            "bert-embeddings/1djnA.npy\n",
            "bert-embeddings/1htwA.npy\n",
            "bert-embeddings/1ltqA.npy\n",
            "bert-embeddings/2p9iA.npy\n",
            "bert-embeddings/3kalA.npy\n",
            "bert-embeddings/3ex7C.npy\n",
            "bert-embeddings/2w5aA.npy\n",
            "bert-embeddings/3bfnA.npy\n",
            "bert-embeddings/2qenA.npy\n",
            "bert-embeddings/1ny3A.npy\n",
            "bert-embeddings/2xd4A.npy\n",
            "bert-embeddings/1i58B.npy\n",
            "bert-embeddings/2f1jA.npy\n",
            "bert-embeddings/1p72A.npy\n",
            "bert-embeddings/3eqiA.npy\n",
            "bert-embeddings/2xgjA.npy\n",
            "bert-embeddings/3fe2A.npy\n",
            "bert-embeddings/2r87A.npy\n",
            "bert-embeddings/1n08A.npy\n",
            "bert-embeddings/3ll3B.npy\n",
            "bert-embeddings/3mleA.npy\n",
            "bert-embeddings/2wwfA.npy\n",
            "bert-embeddings/1uw1A.npy\n",
            "bert-embeddings/2zfiA.npy\n",
            "bert-embeddings/2iyvA.npy\n",
            "bert-embeddings/3k5iA.npy\n",
            "bert-embeddings/2c98A.npy\n",
            "bert-embeddings/1iowA.npy\n",
            "bert-embeddings/2vosA.npy\n",
            "bert-embeddings/2c31A.npy\n",
            "bert-embeddings/2oljA.npy\n",
            "bert-embeddings/3kh5A.npy\n",
            "bert-embeddings/1xw4X.npy\n",
            "bert-embeddings/1gkzA.npy\n",
            "bert-embeddings/3dsrA.npy\n",
            "bert-embeddings/1l8qA.npy\n",
            "bert-embeddings/1yp4A.npy\n",
            "bert-embeddings/2hgsA.npy\n",
            "bert-embeddings/1kjqA.npy\n",
            "bert-embeddings/3d2rA.npy\n",
            "bert-embeddings/1zxnA.npy\n",
            "bert-embeddings/2xauA.npy\n",
            "bert-embeddings/1ehiA.npy\n",
            "bert-embeddings/2x58A.npy\n",
            "bert-embeddings/3brbA.npy\n",
            "bert-embeddings/3mufA.npy\n",
            "bert-embeddings/2obmA.npy\n",
            "bert-embeddings/3dkpA.npy\n",
            "bert-embeddings/3lvvA.npy\n",
            "bert-embeddings/3dc4A.npy\n",
            "bert-embeddings/2cnqA.npy\n",
            "bert-embeddings/1q8yA.npy\n",
            "bert-embeddings/2ff7A.npy\n",
            "bert-embeddings/1yqtA.npy\n",
            "bert-embeddings/1oxuA.npy\n",
            "bert-embeddings/3fwrA.npy\n",
            "bert-embeddings/2uytA.npy\n",
            "bert-embeddings/2wqnA.npy\n",
            "bert-embeddings/1eqmA.npy\n",
            "bert-embeddings/3hyoA.npy\n",
            "bert-embeddings/3cr3A.npy\n",
            "bert-embeddings/2jcbA.npy\n",
            "bert-embeddings/3gviA.npy\n",
            "bert-embeddings/3g15A.npy\n",
            "bert-embeddings/2xamA.npy\n",
            "bert-embeddings/3egiA.npy\n",
            "bert-embeddings/1u3fA.npy\n",
            "bert-embeddings/2rioA.npy\n",
            "bert-embeddings/2oxcA.npy\n",
            "bert-embeddings/3in1A.npy\n",
            "bert-embeddings/1rkdA.npy\n",
            "bert-embeddings/2e2pA.npy\n",
            "bert-embeddings/2xjaA.npy\n",
            "bert-embeddings/3d5wA.npy\n",
            "bert-embeddings/2jfgA.npy\n",
            "bert-embeddings/2fsiA.npy\n",
            "bert-embeddings/3mesB.npy\n",
            "bert-embeddings/1vtkA.npy\n",
            "bert-embeddings/1u6rA.npy\n",
            "bert-embeddings/2bejA.npy\n",
            "bert-embeddings/2we5A.npy\n",
            "bert-embeddings/2ww4A.npy\n",
            "bert-embeddings/2vhjA.npy\n",
            "bert-embeddings/3h0lB.npy\n",
            "bert-embeddings/1g41A.npy\n",
            "bert-embeddings/1b6sA.npy\n",
            "bert-embeddings/1byqA.npy\n",
            "bert-embeddings/2ewvA.npy\n",
            "bert-embeddings/1njfC.npy\n",
            "bert-embeddings/3nwnA.npy\n",
            "bert-embeddings/1j1cA.npy\n",
            "bert-embeddings/2v8pA.npy\n",
            "bert-embeddings/3d36A.npy\n",
            "bert-embeddings/2hmvA.npy\n",
            "bert-embeddings/1h8eC.npy\n",
            "bert-embeddings/3go6B.npy\n",
            "bert-embeddings/2i8cA.npy\n",
            "bert-embeddings/2yx6B.npy\n",
            "bert-embeddings/2bfrA.npy\n",
            "bert-embeddings/1g3qA.npy\n",
            "bert-embeddings/1uc9A.npy\n",
            "bert-embeddings/3pygA.npy\n",
            "bert-embeddings/1p5zB.npy\n",
            "bert-embeddings/1mp8A.npy\n",
            "bert-embeddings/2xocA.npy\n",
            "bert-embeddings/3pffA.npy\n",
            "bert-embeddings/2fv7A.npy\n",
            "bert-embeddings/1hw8A.npy\n",
            "bert-embeddings/1f9vA.npy\n",
            "bert-embeddings/2gr0A.npy\n",
            "bert-embeddings/2j0wA.npy\n",
            "bert-embeddings/3lrtA.npy\n",
            "bert-embeddings/2jlxB.npy\n",
            "bert-embeddings/3a7jA.npy\n",
            "bert-embeddings/3ncrA.npy\n",
            "bert-embeddings/3fd6A.npy\n",
            "bert-embeddings/1iahA.npy\n",
            "bert-embeddings/1j6zA.npy\n",
            "bert-embeddings/3icsB.npy\n",
            "bert-embeddings/3hfwA.npy\n",
            "bert-embeddings/1th8A.npy\n",
            "bert-embeddings/3copA.npy\n",
            "bert-embeddings/3bf1A.npy\n",
            "bert-embeddings/2cduA.npy\n",
            "bert-embeddings/1w78A.npy\n",
            "bert-embeddings/2akoA.npy\n",
            "bert-embeddings/3lctA.npy\n",
            "bert-embeddings/2i5bA.npy\n",
            "bert-embeddings/1o51A.npy\n",
            "bert-embeddings/2cn5A.npy\n",
            "bert-embeddings/3a1dA.npy\n",
            "bert-embeddings/2grjA.npy\n",
            "bert-embeddings/2olcA.npy\n",
            "bert-embeddings/2dyaB.npy\n",
            "bert-embeddings/1fnnA.npy\n",
            "bert-embeddings/3io3A.npy\n",
            "bert-embeddings/1x88A.npy\n",
            "bert-embeddings/1gc5A.npy\n",
            "bert-embeddings/2iw3A.npy\n",
            "bert-embeddings/2w41A.npy\n",
            "bert-embeddings/2w4jA.npy\n",
            "bert-embeddings/1fp6A.npy\n",
            "bert-embeddings/1x3mA.npy\n",
            "bert-embeddings/1z6tA.npy\n",
            "embeddings/\n",
            "embeddings/3smsA.npy\n",
            "embeddings/4dzzA.npy\n",
            "embeddings/4fcwA.npy\n",
            "embeddings/3zvmA.npy\n",
            "embeddings/3vmmA.npy\n",
            "embeddings/3qffA.npy\n",
            "embeddings/3r03A.npy\n",
            "embeddings/3vufA.npy\n",
            "embeddings/3zznD.npy\n",
            "embeddings/4b0tA.npy\n",
            "embeddings/3qhwA.npy\n",
            "embeddings/3ty5B.npy\n",
            "embeddings/4ag5A.npy\n",
            "embeddings/3qurA.npy\n",
            "embeddings/3rboA.npy\n",
            "embeddings/3qc9D.npy\n",
            "embeddings/4ehyA.npy\n",
            "embeddings/4a14A.npy\n",
            "embeddings/3rerA.npy\n",
            "embeddings/4edhA.npy\n",
            "embeddings/4dcaA.npy\n",
            "embeddings/3ux8A.npy\n",
            "embeddings/3tlxA.npy\n",
            "embeddings/3viuA.npy\n",
            "embeddings/3vkgA.npy\n",
            "embeddings/3ugjA.npy\n",
            "embeddings/3rusA.npy\n",
            "embeddings/3uk6A.npy\n",
            "embeddings/3tzlA.npy\n",
            "embeddings/3b1nA.npy\n",
            "embeddings/3rfcA.npy\n",
            "embeddings/3rreA.npy\n",
            "embeddings/3t7aA.npy\n",
            "embeddings/4fd2B.npy\n",
            "embeddings/3auyA.npy\n",
            "embeddings/3t4nC.npy\n",
            "embeddings/3vetA.npy\n",
            "embeddings/2y8lE.npy\n",
            "embeddings/3thxA.npy\n",
            "embeddings/3r9iA.npy\n",
            "embeddings/4ehtA.npy\n",
            "embeddings/3uboA.npy\n",
            "embeddings/3tinA.npy\n",
            "embeddings/3ttcA.npy\n",
            "embeddings/3qbwA.npy\n",
            "embeddings/4e1cA.npy\n",
            "embeddings/3qovA.npy\n",
            "embeddings/2b9hA.npy\n",
            "embeddings/2fnaA.npy\n",
            "embeddings/1hi5A.npy\n",
            "embeddings/3kjiA.npy\n",
            "embeddings/1k3cA.npy\n",
            "embeddings/3llmA.npy\n",
            "embeddings/1nvaA.npy\n",
            "embeddings/1pkgA.npy\n",
            "embeddings/3nbxX.npy\n",
            "embeddings/3ko5A.npy\n",
            "embeddings/1fwkA.npy\n",
            "embeddings/2dcnA.npy\n",
            "embeddings/2axnA.npy\n",
            "embeddings/3g2fA.npy\n",
            "embeddings/1cnfA.npy\n",
            "embeddings/2awnA.npy\n",
            "embeddings/2qb5A.npy\n",
            "embeddings/2rd5A.npy\n",
            "embeddings/1r0yA.npy\n",
            "embeddings/1gzfC.npy\n",
            "embeddings/3dzvA.npy\n",
            "embeddings/1t6xA.npy\n",
            "embeddings/1iqpA.npy\n",
            "embeddings/2ch6A.npy\n",
            "embeddings/1e3mA.npy\n",
            "embeddings/3k1jA.npy\n",
            "embeddings/3hz6A.npy\n",
            "embeddings/1y63A.npy\n",
            "embeddings/1e4eA.npy\n",
            "embeddings/3ec2A.npy\n",
            "embeddings/1rfvA.npy\n",
            "embeddings/1z59A.npy\n",
            "embeddings/3i73A.npy\n",
            "embeddings/1a9xA.npy\n",
            "embeddings/1xtjA.npy\n",
            "embeddings/1qf9A.npy\n",
            "embeddings/2qr1B.npy\n",
            "embeddings/1jj7A.npy\n",
            "embeddings/1b62A.npy\n",
            "embeddings/3akkA.npy\n",
            "embeddings/1tzdA.npy\n",
            "embeddings/2hehA.npy\n",
            "embeddings/3ouzA.npy\n",
            "embeddings/2a2cA.npy\n",
            "embeddings/3bfvA.npy\n",
            "embeddings/1r6bX.npy\n",
            "embeddings/1ao0A.npy\n",
            "embeddings/1xjkA.npy\n",
            "embeddings/3pnlB.npy\n",
            "embeddings/3fwyA.npy\n",
            "embeddings/1v1aA.npy\n",
            "embeddings/1zthA.npy\n",
            "embeddings/3pdtA.npy\n",
            "embeddings/1sxjE.npy\n",
            "embeddings/1h8eE.npy\n",
            "embeddings/3gr4A.npy\n",
            "embeddings/1mq4A.npy\n",
            "embeddings/2d2fA.npy\n",
            "embeddings/1va6A.npy\n",
            "embeddings/2d0oA.npy\n",
            "embeddings/2q14A.npy\n",
            "embeddings/2jgvB.npy\n",
            "embeddings/2q2rA.npy\n",
            "embeddings/2wzbA.npy\n",
            "embeddings/2qz4A.npy\n",
            "embeddings/1o0hA.npy\n",
            "embeddings/2hmfA.npy\n",
            "embeddings/1z2nX.npy\n",
            "embeddings/1uj2A.npy\n",
            "embeddings/2c2aA.npy\n",
            "embeddings/1xx6A.npy\n",
            "embeddings/2bkkA.npy\n",
            "embeddings/2ojwA.npy\n",
            "embeddings/3c9uA.npy\n",
            "embeddings/2nunA.npy\n",
            "embeddings/1w5tC.npy\n",
            "embeddings/2v1xA.npy\n",
            "embeddings/3fmoB.npy\n",
            "embeddings/2zpaA.npy\n",
            "embeddings/2qsyA.npy\n",
            "embeddings/2cvxA.npy\n",
            "embeddings/3hy6A.npy\n",
            "embeddings/2d7dA.npy\n",
            "embeddings/2hv7B.npy\n",
            "embeddings/3nuaA.npy\n",
            "embeddings/1ihuA.npy\n",
            "embeddings/1pfkA.npy\n",
            "embeddings/2if8A.npy\n",
            "embeddings/3ocmA.npy\n",
            "embeddings/1u0jA.npy\n",
            "embeddings/3n3oB.npy\n",
            "embeddings/2pywA.npy\n",
            "embeddings/1we3A.npy\n",
            "embeddings/1mmaA.npy\n",
            "embeddings/2shkB.npy\n",
            "embeddings/2qv7A.npy\n",
            "embeddings/2po0A.npy\n",
            "embeddings/2iuuA.npy\n",
            "embeddings/3ohrA.npy\n",
            "embeddings/2o0jA.npy\n",
            "embeddings/2w8rA.npy\n",
            "embeddings/3c4nA.npy\n",
            "embeddings/1xmvA.npy\n",
            "embeddings/3l86A.npy\n",
            "embeddings/1czaN.npy\n",
            "embeddings/1wnlA.npy\n",
            "embeddings/2zj5A.npy\n",
            "embeddings/1g6oA.npy\n",
            "embeddings/3i0oA.npy\n",
            "embeddings/2io8A.npy\n",
            "embeddings/3ll9A.npy\n",
            "embeddings/3a0tA.npy\n",
            "embeddings/1svlA.npy\n",
            "embeddings/1g6hA.npy\n",
            "embeddings/3ehhA.npy\n",
            "embeddings/3i33A.npy\n",
            "embeddings/2dr3A.npy\n",
            "embeddings/2w58A.npy\n",
            "embeddings/3l8kA.npy\n",
            "embeddings/3n83A.npy\n",
            "embeddings/1m7gB.npy\n",
            "embeddings/1ohbA.npy\n",
            "embeddings/1vhlA.npy\n",
            "embeddings/1zarA.npy\n",
            "embeddings/1mwmA.npy\n",
            "embeddings/1gsaA.npy\n",
            "embeddings/3p4xA.npy\n",
            "embeddings/1e2dA.npy\n",
            "embeddings/1nksF.npy\n",
            "embeddings/1s4eA.npy\n",
            "embeddings/3ge1A.npy\n",
            "embeddings/3dlsA.npy\n",
            "embeddings/1ea6A.npy\n",
            "embeddings/3f61A.npy\n",
            "embeddings/1jbpE.npy\n",
            "embeddings/1sq5A.npy\n",
            "embeddings/2h1fA.npy\n",
            "embeddings/2bvcA.npy\n",
            "embeddings/3fi8A.npy\n",
            "embeddings/1dadA.npy\n",
            "embeddings/1gkiA.npy\n",
            "embeddings/2o8bB.npy\n",
            "embeddings/3ez2A.npy\n",
            "embeddings/3fh0A.npy\n",
            "embeddings/1in4A.npy\n",
            "embeddings/1wpgA.npy\n",
            "embeddings/2fsnA.npy\n",
            "embeddings/2pl3A.npy\n",
            "embeddings/1e8hA.npy\n",
            "embeddings/1ty8A.npy\n",
            "embeddings/2cdnA.npy\n",
            "embeddings/2ad5A.npy\n",
            "embeddings/1djnA.npy\n",
            "embeddings/1htwA.npy\n",
            "embeddings/1ltqA.npy\n",
            "embeddings/2p9iA.npy\n",
            "embeddings/3kalA.npy\n",
            "embeddings/3ex7C.npy\n",
            "embeddings/2w5aA.npy\n",
            "embeddings/3bfnA.npy\n",
            "embeddings/2qenA.npy\n",
            "embeddings/1ny3A.npy\n",
            "embeddings/2xd4A.npy\n",
            "embeddings/1i58B.npy\n",
            "embeddings/2f1jA.npy\n",
            "embeddings/1p72A.npy\n",
            "embeddings/3eqiA.npy\n",
            "embeddings/2xgjA.npy\n",
            "embeddings/3fe2A.npy\n",
            "embeddings/2r87A.npy\n",
            "embeddings/1n08A.npy\n",
            "embeddings/3ll3B.npy\n",
            "embeddings/3mleA.npy\n",
            "embeddings/2wwfA.npy\n",
            "embeddings/1uw1A.npy\n",
            "embeddings/2zfiA.npy\n",
            "embeddings/2iyvA.npy\n",
            "embeddings/3k5iA.npy\n",
            "embeddings/2c98A.npy\n",
            "embeddings/1iowA.npy\n",
            "embeddings/2vosA.npy\n",
            "embeddings/2c31A.npy\n",
            "embeddings/2oljA.npy\n",
            "embeddings/3kh5A.npy\n",
            "embeddings/1xw4X.npy\n",
            "embeddings/1gkzA.npy\n",
            "embeddings/3dsrA.npy\n",
            "embeddings/1l8qA.npy\n",
            "embeddings/1yp4A.npy\n",
            "embeddings/2hgsA.npy\n",
            "embeddings/1kjqA.npy\n",
            "embeddings/3d2rA.npy\n",
            "embeddings/1zxnA.npy\n",
            "embeddings/2xauA.npy\n",
            "embeddings/1ehiA.npy\n",
            "embeddings/2x58A.npy\n",
            "embeddings/3brbA.npy\n",
            "embeddings/3mufA.npy\n",
            "embeddings/2obmA.npy\n",
            "embeddings/3dkpA.npy\n",
            "embeddings/3lvvA.npy\n",
            "embeddings/3dc4A.npy\n",
            "embeddings/2cnqA.npy\n",
            "embeddings/1q8yA.npy\n",
            "embeddings/2ff7A.npy\n",
            "embeddings/1yqtA.npy\n",
            "embeddings/1oxuA.npy\n",
            "embeddings/3fwrA.npy\n",
            "embeddings/2uytA.npy\n",
            "embeddings/2wqnA.npy\n",
            "embeddings/1eqmA.npy\n",
            "embeddings/3hyoA.npy\n",
            "embeddings/3cr3A.npy\n",
            "embeddings/2jcbA.npy\n",
            "embeddings/3gviA.npy\n",
            "embeddings/3g15A.npy\n",
            "embeddings/2xamA.npy\n",
            "embeddings/3egiA.npy\n",
            "embeddings/1u3fA.npy\n",
            "embeddings/2rioA.npy\n",
            "embeddings/2oxcA.npy\n",
            "embeddings/3in1A.npy\n",
            "embeddings/1rkdA.npy\n",
            "embeddings/2e2pA.npy\n",
            "embeddings/2xjaA.npy\n",
            "embeddings/3d5wA.npy\n",
            "embeddings/2jfgA.npy\n",
            "embeddings/2fsiA.npy\n",
            "embeddings/3mesB.npy\n",
            "embeddings/1vtkA.npy\n",
            "embeddings/1u6rA.npy\n",
            "embeddings/2bejA.npy\n",
            "embeddings/2we5A.npy\n",
            "embeddings/2ww4A.npy\n",
            "embeddings/2vhjA.npy\n",
            "embeddings/3h0lB.npy\n",
            "embeddings/1g41A.npy\n",
            "embeddings/1b6sA.npy\n",
            "embeddings/1byqA.npy\n",
            "embeddings/2ewvA.npy\n",
            "embeddings/1njfC.npy\n",
            "embeddings/3nwnA.npy\n",
            "embeddings/1j1cA.npy\n",
            "embeddings/2v8pA.npy\n",
            "embeddings/3d36A.npy\n",
            "embeddings/2hmvA.npy\n",
            "embeddings/1h8eC.npy\n",
            "embeddings/3go6B.npy\n",
            "embeddings/2i8cA.npy\n",
            "embeddings/2yx6B.npy\n",
            "embeddings/2bfrA.npy\n",
            "embeddings/1g3qA.npy\n",
            "embeddings/1uc9A.npy\n",
            "embeddings/3pygA.npy\n",
            "embeddings/1p5zB.npy\n",
            "embeddings/1mp8A.npy\n",
            "embeddings/2xocA.npy\n",
            "embeddings/3pffA.npy\n",
            "embeddings/2fv7A.npy\n",
            "embeddings/1hw8A.npy\n",
            "embeddings/1f9vA.npy\n",
            "embeddings/2gr0A.npy\n",
            "embeddings/2j0wA.npy\n",
            "embeddings/3lrtA.npy\n",
            "embeddings/2jlxB.npy\n",
            "embeddings/3a7jA.npy\n",
            "embeddings/3ncrA.npy\n",
            "embeddings/3fd6A.npy\n",
            "embeddings/1iahA.npy\n",
            "embeddings/1j6zA.npy\n",
            "embeddings/3icsB.npy\n",
            "embeddings/3hfwA.npy\n",
            "embeddings/1th8A.npy\n",
            "embeddings/3copA.npy\n",
            "embeddings/3bf1A.npy\n",
            "embeddings/2cduA.npy\n",
            "embeddings/1w78A.npy\n",
            "embeddings/2akoA.npy\n",
            "embeddings/3lctA.npy\n",
            "embeddings/2i5bA.npy\n",
            "embeddings/1o51A.npy\n",
            "embeddings/2cn5A.npy\n",
            "embeddings/3a1dA.npy\n",
            "embeddings/2grjA.npy\n",
            "embeddings/2olcA.npy\n",
            "embeddings/2dyaB.npy\n",
            "embeddings/1fnnA.npy\n",
            "embeddings/3io3A.npy\n",
            "embeddings/1x88A.npy\n",
            "embeddings/1gc5A.npy\n",
            "embeddings/2iw3A.npy\n",
            "embeddings/2w41A.npy\n",
            "embeddings/2w4jA.npy\n",
            "embeddings/1fp6A.npy\n",
            "embeddings/1x3mA.npy\n",
            "embeddings/1z6tA.npy\n",
            "test_dataset.pickle\n",
            "train_dataset_0.pickle\n",
            "train_dataset_1.pickle\n",
            "train_dataset_2.pickle\n",
            "train_dataset_3.pickle\n",
            "train_dataset_4.pickle\n",
            "train_dataset_5.pickle\n",
            "train_dataset_6.pickle\n",
            "train_dataset_7.pickle\n"
          ]
        }
      ],
      "source": [
        "!tar -xvzf deepdata.tar.gz -C ./data"
      ]
    },
    {
      "cell_type": "markdown",
      "metadata": {
        "id": "J_5xU61xL8SE"
      },
      "source": [
        "### Data structure\n",
        "1. `ADP-Training.txt`: CSV file; subset of the Yu dataset containing proteins with regions binding ADP ligand. Train set.\n",
        "2. `ADP-Test.txt`: CSV file; subset of the Yu dataset containing proteins with regions binding ADP. Test set.\n",
        "3. `embeddings` folder: ESM2 embeddings for each protein from the dataset.\n",
        "4. `bert-embeddings` folder: BERT embeddings for proteins from the TRAIN set.\n",
        "5. `voxel-features`: 3D voxels of proteins containing its features. It contains 8 channels: `aromatic`, `hbond_acceptor`, `hbond_donor`, `positive_ionizable`, `negative_ionizable`, `metal`, `occupancies`. The 3D voxels were computed using the [HTMD package](https://software.acellera.com/moleculekit/moleculekit.tools.voxeldescriptors.html).\n",
        "6. `voxel-annotations`: 3D voxels of proteins containing information whether voxel is part of a binding site or not.\n",
        "7. `train_dataset_i`: pre-processed subsets of the train set.\n",
        "8. `test_dataset`: pre-processed subsets of the test set."
      ]
    },
    {
      "cell_type": "code",
      "execution_count": 5,
      "metadata": {
        "colab": {
          "base_uri": "https://localhost:8080/"
        },
        "id": "ulPVNySg3vU1",
        "outputId": "b08a09b6-6938-4431-ef2b-1cbfd59d2978"
      },
      "outputs": [
        {
          "name": "stdout",
          "output_type": "stream",
          "text": [
            "ADP_Test.txt\t  test_dataset.pickle\t  train_dataset_3.pickle  train_dataset_7.pickle\n",
            "ADP_Training.txt  train_dataset_0.pickle  train_dataset_4.pickle\n",
            "bert-embeddings   train_dataset_1.pickle  train_dataset_5.pickle\n",
            "embeddings\t  train_dataset_2.pickle  train_dataset_6.pickle\n"
          ]
        }
      ],
      "source": [
        "!ls ./data"
      ]
    },
    {
      "cell_type": "code",
      "execution_count": 6,
      "metadata": {
        "id": "rw2IoOrG4C3d"
      },
      "outputs": [],
      "source": [
        "import torch\n",
        "from torch.utils.data import Dataset\n",
        "import torch.nn.functional as F\n",
        "import csv\n",
        "from torch import nn\n",
        "from sklearn.utils import class_weight\n",
        "import numpy as np\n",
        "from sklearn import metrics\n",
        "import matplotlib.pyplot as plt\n",
        "\n",
        "torch.manual_seed(0)\n",
        "DATAPATH = '/content/data'"
      ]
    },
    {
      "cell_type": "code",
      "execution_count": 7,
      "metadata": {
        "id": "prXnMIeo4C3e"
      },
      "outputs": [],
      "source": [
        "device = 'cuda' if torch.cuda.is_available() else 'cpu'"
      ]
    },
    {
      "cell_type": "code",
      "execution_count": 8,
      "metadata": {
        "colab": {
          "base_uri": "https://localhost:8080/",
          "height": 35
        },
        "id": "5sJ2kCUq4C3f",
        "outputId": "b724c00c-d88a-4b6e-89d4-c841c0defbbb"
      },
      "outputs": [
        {
          "data": {
            "application/vnd.google.colaboratory.intrinsic+json": {
              "type": "string"
            },
            "text/plain": [
              "'cuda'"
            ]
          },
          "execution_count": 8,
          "metadata": {},
          "output_type": "execute_result"
        }
      ],
      "source": [
        "device"
      ]
    },
    {
      "cell_type": "markdown",
      "metadata": {
        "id": "AamPCyaQ4C3f"
      },
      "source": [
        "# PART 1.\n",
        "Use solely protein embeddings to predict the binding residues."
      ]
    },
    {
      "cell_type": "markdown",
      "metadata": {
        "id": "TK4TkDfP4C3g"
      },
      "source": [
        "### use dataset API to load the Yu dataset"
      ]
    },
    {
      "cell_type": "code",
      "execution_count": 9,
      "metadata": {
        "id": "78V-eWno4C3h"
      },
      "outputs": [],
      "source": [
        "class SequenceYuDataset(Dataset):\n",
        "    def __init__(self, _Xs, _Ys):\n",
        "        Xs_list = None\n",
        "        Ys_list = None\n",
        "        for key in _Xs.keys():\n",
        "            if Xs_list is None:\n",
        "                Xs_list = _Xs[key]\n",
        "                Ys_list = _Ys[key]\n",
        "            else:\n",
        "                Xs_list = np.concatenate((Xs_list,_Xs[key]), axis = 0)\n",
        "                Ys_list = np.concatenate((Ys_list,_Ys[key]), axis = 0)\n",
        "\n",
        "        self.Xs = torch.tensor(Xs_list, dtype=torch.float32)\n",
        "        self.Ys = torch.tensor(Ys_list, dtype=torch.int64)\n",
        "\n",
        "    def __len__(self):\n",
        "        assert len(self.Xs) == len(self.Ys)\n",
        "        return len(self.Xs)\n",
        "\n",
        "    def __getitem__(self, idx):\n",
        "        x = self.Xs[idx]\n",
        "        y = self.Ys[idx]\n",
        "        return x, y\n"
      ]
    },
    {
      "cell_type": "markdown",
      "metadata": {
        "id": "RqGuUmK64C3h"
      },
      "source": [
        "### proccess the Yu dataset"
      ]
    },
    {
      "cell_type": "code",
      "execution_count": 10,
      "metadata": {
        "id": "yCcF83BL4C3i"
      },
      "outputs": [],
      "source": [
        "def process_sequence_dataset(annotation_path, embeddings_path):\n",
        "    Xs = {}\n",
        "    Ys = {}\n",
        "    with open(annotation_path) as f:\n",
        "        reader = csv.reader(f, delimiter=\";\")\n",
        "        for row in reader:\n",
        "            id = row[0].lower() + row[1]\n",
        "\n",
        "            if id not in Xs:\n",
        "                filename = id + '.npy'\n",
        "                embedding = np.load(f'{embeddings_path}/{filename}')\n",
        "                Xs[id] = embedding\n",
        "\n",
        "            if id not in Ys:\n",
        "                Ys[id] = np.zeros(embedding.shape[0])\n",
        "            for residue_idx in [int(residue[1:]) for residue in row[4].split(' ')]:\n",
        "                # Yu dataset has 1-based indexing, so we need to subtract 1\n",
        "                Ys[id][residue_idx - 1] = 1\n",
        "\n",
        "    return Xs, Ys"
      ]
    },
    {
      "cell_type": "code",
      "execution_count": 11,
      "metadata": {
        "id": "1iAND15w4C3i"
      },
      "outputs": [],
      "source": [
        "Xs_train, Ys_train = process_sequence_dataset(f'{DATAPATH}/ADP_Training.txt', f'{DATAPATH}/embeddings')\n",
        "\n",
        "train_dataset = SequenceYuDataset(Xs_train, Ys_train)\n",
        "\n",
        "Xs_test, Ys_test = process_sequence_dataset(f'{DATAPATH}/ADP_Test.txt', f'{DATAPATH}/embeddings')\n",
        "\n",
        "test_dataset = SequenceYuDataset(Xs_test, Ys_test)"
      ]
    },
    {
      "cell_type": "code",
      "execution_count": 12,
      "metadata": {
        "colab": {
          "base_uri": "https://localhost:8080/"
        },
        "id": "-D5MuH3R4C3j",
        "outputId": "02476735-f216-431c-cd4c-f334ecd54325"
      },
      "outputs": [
        {
          "name": "stdout",
          "output_type": "stream",
          "text": [
            "102573\n",
            "20715\n"
          ]
        }
      ],
      "source": [
        "print(len(train_dataset))\n",
        "print(len(test_dataset))"
      ]
    },
    {
      "cell_type": "markdown",
      "metadata": {
        "id": "iH4WLWtm4C3k"
      },
      "source": [
        "### Define a classifier\n",
        "Create a classifier to predict whether residue is part of a binding site. The neural network has two layers and outputs one value indicating the probability of residue being a part of a binding site."
      ]
    },
    {
      "cell_type": "code",
      "execution_count": 16,
      "metadata": {
        "id": "MCejc5Pq4C3l"
      },
      "outputs": [],
      "source": [
        "DROPOUT = 0.3\n",
        "LAYER_WIDTH = 100\n",
        "ESM2_DIM = 2560\n",
        "class YuClassifier(nn.Module):\n",
        "    def __init__(self, input_dim=ESM2_DIM):\n",
        "        super().__init__()\n",
        "        self.layer_1 = nn.Linear(in_features=input_dim, out_features=LAYER_WIDTH)\n",
        "        self.dropout1 = nn.Dropout(DROPOUT)\n",
        "\n",
        "        self.layer_2 = nn.Linear(in_features=LAYER_WIDTH, out_features=LAYER_WIDTH)\n",
        "        self.dropout2 = nn.Dropout(DROPOUT)\n",
        "\n",
        "        self.layer_3 = nn.Linear(in_features=LAYER_WIDTH, out_features=1)\n",
        "\n",
        "        self.relu = nn.ReLU()\n",
        "\n",
        "    def forward(self, x):\n",
        "      # Intersperse the ReLU activation function between layers\n",
        "       return self.layer_3(self.dropout1(self.relu(self.layer_2(self.dropout1(self.relu(self.layer_1(x)))))))\n"
      ]
    },
    {
      "cell_type": "markdown",
      "metadata": {
        "id": "InG2qa5B4C3l"
      },
      "source": [
        "### Train imbalanced dataset\n",
        "The dataset is heavily imbalanced (only ~5% of all residues are binding residues, the rest is non-binding), therefore we pass the `weight` argument for the loss function. But first, the weights need to be calculated using the `compute_class_weights(...)` function."
      ]
    },
    {
      "cell_type": "code",
      "execution_count": 14,
      "metadata": {
        "colab": {
          "base_uri": "https://localhost:8080/"
        },
        "id": "MG3gI1ea4C3l",
        "outputId": "059f49e1-f4ef-4b72-e57c-99791be89c5e"
      },
      "outputs": [
        {
          "data": {
            "text/plain": [
              "<torch._C.Generator at 0x791ffe331610>"
            ]
          },
          "execution_count": 14,
          "metadata": {},
          "output_type": "execute_result"
        }
      ],
      "source": [
        "def compute_class_weights(labels):\n",
        "    class_weights=class_weight.compute_class_weight(class_weight='balanced', classes=np.unique(labels), y=labels)\n",
        "    class_weights=torch.tensor(class_weights,dtype=torch.float)\n",
        "    return class_weights\n",
        "\n",
        "def accuracy_fn(y_true, y_pred):\n",
        "    correct = torch.eq(y_true, y_pred).sum().item()\n",
        "    acc = (correct / len(y_pred)) * 100\n",
        "    return acc\n",
        "\n",
        "torch.manual_seed(42)"
      ]
    },
    {
      "cell_type": "markdown",
      "metadata": {
        "id": "FORLi9RI4C3m"
      },
      "source": [
        "### Train loop"
      ]
    },
    {
      "cell_type": "code",
      "execution_count": 19,
      "metadata": {
        "colab": {
          "base_uri": "https://localhost:8080/"
        },
        "id": "cLGzcjgM4C3m",
        "outputId": "72530288-21ca-44d7-a5cc-775625d4abd0"
      },
      "outputs": [
        {
          "name": "stdout",
          "output_type": "stream",
          "text": [
            "Epoch: 0 | Loss: 2.84111, Accuracy: 19.78% | Test loss: 1.97841, AUC: 0.554651772318254, MCC: -0.0010429678901370432\n",
            "Epoch: 10 | Loss: 1.28220, Accuracy: 84.26% | Test loss: 0.85321, AUC: 0.7649443974936989, MCC: 0.23297180906726384\n",
            "Epoch: 20 | Loss: 0.81656, Accuracy: 80.10% | Test loss: 0.56458, AUC: 0.8749098855932361, MCC: 0.32804186350859227\n",
            "Epoch: 30 | Loss: 0.65793, Accuracy: 84.91% | Test loss: 0.50035, AUC: 0.9021182563113592, MCC: 0.382536885800239\n",
            "Epoch: 40 | Loss: 0.55654, Accuracy: 90.11% | Test loss: 0.46933, AUC: 0.9178418707162616, MCC: 0.43140279014529487\n",
            "Epoch: 50 | Loss: 0.49387, Accuracy: 89.54% | Test loss: 0.43196, AUC: 0.9281246300301933, MCC: 0.4196408198092415\n",
            "Epoch: 60 | Loss: 0.43554, Accuracy: 91.38% | Test loss: 0.42037, AUC: 0.9345027419649073, MCC: 0.449900423475567\n",
            "Epoch: 70 | Loss: 0.38640, Accuracy: 91.96% | Test loss: 0.40714, AUC: 0.9392844830474716, MCC: 0.4627344544864487\n"
          ]
        }
      ],
      "source": [
        "model_0 = YuClassifier().to(device)\n",
        "epochs = 80\n",
        "\n",
        "# Create an optimizer\n",
        "optimizer = torch.optim.Adam(params=model_0.parameters(),\n",
        "                            lr=0.0001)\n",
        "\n",
        "X_train, y_train = train_dataset[:]\n",
        "X_test, y_test = test_dataset[:]\n",
        "\n",
        "# compute class weights (because the dataset is heavily imbalanced)\n",
        "class_weights = compute_class_weights(y_train.numpy()).to(device)\n",
        "# BCEWithLogitsLoss - sigmoid is already built-in!\n",
        "loss_fn = nn.BCEWithLogitsLoss(pos_weight=class_weights[1])\n",
        "\n",
        "X_train, y_train = X_train.to(device), y_train.to(device).float()\n",
        "X_test, y_test = X_test.to(device), y_test.to(device).float()\n",
        "\n",
        "train_losses, test_losses = [], []\n",
        "\n",
        "for epoch in range(epochs):\n",
        "    ### TRAIN\n",
        "    model_0.train()\n",
        "\n",
        "    y_logits = model_0(X_train).squeeze()\n",
        "    y_pred = torch.round(torch.sigmoid(y_logits))\n",
        "\n",
        "    loss = loss_fn(y_logits,\n",
        "                   y_train)\n",
        "    acc = accuracy_fn(y_true=y_train,\n",
        "                      y_pred=y_pred)\n",
        "\n",
        "    train_losses.append(loss.cpu().detach().numpy())\n",
        "\n",
        "    optimizer.zero_grad()\n",
        "\n",
        "    loss.backward()\n",
        "\n",
        "    optimizer.step()\n",
        "\n",
        "    ### TEST\n",
        "    model_0.eval()\n",
        "    with torch.inference_mode():\n",
        "        test_logits = model_0(X_test).squeeze()\n",
        "        test_pred = torch.round(torch.sigmoid(test_logits))\n",
        "\n",
        "        test_loss = loss_fn(test_logits,\n",
        "                            y_test)\n",
        "        test_losses.append(test_loss.cpu().detach().numpy())\n",
        "\n",
        "        # compute metrics on test dataset\n",
        "        test_acc = accuracy_fn(y_true=y_test,\n",
        "                               y_pred=test_pred)\n",
        "        fpr, tpr, thresholds = metrics.roc_curve(y_test.cpu().numpy(), torch.sigmoid(test_logits).cpu().numpy())\n",
        "        roc_auc = metrics.auc(fpr, tpr)\n",
        "\n",
        "        mcc = metrics.matthews_corrcoef(y_test.cpu().numpy(), test_pred.cpu().numpy())\n",
        "    if epoch % 10 == 0:\n",
        "        print(f\"Epoch: {epoch} | Loss: {loss:.5f}, Accuracy: {acc:.2f}% | Test loss: {test_loss:.5f}, AUC: {roc_auc}, MCC: {mcc}\")"
      ]
    },
    {
      "cell_type": "markdown",
      "metadata": {
        "id": "E20NDCiV4C3m"
      },
      "source": [
        "### Compare train and test loss"
      ]
    },
    {
      "cell_type": "code",
      "execution_count": 20,
      "metadata": {
        "colab": {
          "base_uri": "https://localhost:8080/",
          "height": 447
        },
        "id": "wseAAFwW4C3m",
        "outputId": "96459e3f-100c-4534-b33b-6346209630c5"
      },
      "outputs": [
        {
          "data": {
            "text/plain": [
              "<matplotlib.legend.Legend at 0x7920237b76a0>"
            ]
          },
          "execution_count": 20,
          "metadata": {},
          "output_type": "execute_result"
        },
        {
          "data": {
            "image/png": "[encoded data removed]",
            "text/plain": [
              "<Figure size 640x480 with 1 Axes>"
            ]
          },
          "metadata": {},
          "output_type": "display_data"
        }
      ],
      "source": [
        "plt.plot(train_losses,label=\"train loss over epochs\")\n",
        "plt.plot(test_losses,label=\"test loss over epochs\")\n",
        "plt.legend()"
      ]
    },
    {
      "cell_type": "markdown",
      "metadata": {
        "id": "xRZhAS-34C3n"
      },
      "source": [
        "### ROC curve\n",
        "The dataset is imbalanced, therefore it is important to use a more complex metrics for evaluating the model appart from using only the accuracy (if we would predict everything as NON-BINDING, then we would achieve ~95% accuracy as most of the residues are NON-BINDING!)."
      ]
    },
    {
      "cell_type": "code",
      "execution_count": 21,
      "metadata": {
        "colab": {
          "base_uri": "https://localhost:8080/",
          "height": 472
        },
        "id": "3NqQcea64C3n",
        "outputId": "950477ff-3ef4-4a6b-dc7e-8afa42b76d7c"
      },
      "outputs": [
        {
          "data": {
            "image/png": "[encoded data removed]",
            "text/plain": [
              "<Figure size 640x480 with 1 Axes>"
            ]
          },
          "metadata": {},
          "output_type": "display_data"
        }
      ],
      "source": [
        "plt.title('Receiver Operating Characteristic')\n",
        "plt.plot(fpr, tpr, 'b', label = 'AUC = %0.2f' % roc_auc)\n",
        "plt.legend(loc = 'lower right')\n",
        "plt.plot([0, 1], [0, 1],'r--')\n",
        "plt.xlim([0, 1])\n",
        "plt.ylim([0, 1])\n",
        "plt.ylabel('True Positive Rate')\n",
        "plt.xlabel('False Positive Rate')\n",
        "plt.show()"
      ]
    },
    {
      "cell_type": "markdown",
      "metadata": {
        "id": "cL3VdBXB4C3o"
      },
      "source": [
        "# Homework: Part 1\n",
        "Create embeddings based on sequences from the annotation files using a different model (We'll give you hints for ProtBERT, but feel free to use model of your own choice - ProtT5, Ankh, ...)"
      ]
    },
    {
      "cell_type": "code",
      "execution_count": 22,
      "metadata": {
        "colab": {
          "base_uri": "https://localhost:8080/",
          "height": 301,
          "referenced_widgets": [
            "ebe5bae9282e481588cfaf669af1d3fd",
            "f43dcf9a37be47f08617bd72a38bed22",
            "29698658672a42aba704f733c228e6e5",
            "27d5321fb7074d4c95b00e5e72e71c1d",
            "5b52269eb01c4fd0b26acfaf139d5bc5",
            "34bf2a306b474f61a13370d1c24df46e",
            "39a7aa25c23943c8b8c946bc023d0543",
            "a5ebceb281ab47498ba3a43356b4afae",
            "392dfb76d6ec444fa2d3988be30894a7",
            "320ed206b4d24ef5978e718fef49106a",
            "77b2e4ce3af24db4be7411b5aa52089a",
            "f8b9f61ea7ec442bbb379d0cf520c4e3",
            "362800dc75ae46feb4607786a2af449f",
            "bb2d619229e6412aa6812135e18b7916",
            "baf4b0e07218458486493c4d34dc4a40",
            "79b39f93667748a9b05a25c1646814ec",
            "2a2572fb22494efb87dce6f5740ee24c",
            "1ee42218b00b4149b47d6750108754b8",
            "f5b8870f03a14a678ba65d490aa8cb86",
            "f4452fd8a23545ecac90e8c7aa208a5d",
            "3a326afe59864ef08ba2dee2c3fa63ae",
            "13665ce45c334a57b3089eb002952933",
            "a5569f20545142949f215f445c521ada",
            "a69b445f04c94b098fa3a399f136b0de",
            "2231ef0486234cbe9376f05efccbf96a",
            "a7c91923fe374b29ac07b3b60a6c6f4e",
            "9a82ca4d425f447fa96e2129bffb2b5f",
            "b75b04f866e041b7a0261af4afc42c5c",
            "60da8094e11044aa852d52f1154462e3",
            "6c4b220b84944c1c8cc1ac06fec86757",
            "99d013b65c8d4adab38df90e09e99bdd",
            "af69ad5155a74c80b7a51d56022df514",
            "8b6db5ff87e049bfa8b31771b4c4f50b",
            "ca394cc581cb4932b2bf7d606961fccd",
            "1e57123d7d4f427ea4cbf922071e8332",
            "c4e2763cd8184ddab29a05b5905149d0",
            "6de95f5af4774338b4716789b4e45766",
            "16f0d0e957474d9bba068d13a6dd5a51",
            "7490b10a8bcb49269d3d6ca66d807ab0",
            "e17fb088b6b946a98e47d0e6f712fb5b",
            "11eb770c66894cf4abbcddd4e2c702ce",
            "d16ca9c95e854160a225b1e1f3033bae",
            "10dcec6bdd924c48907f30ce10963cef",
            "31f0a8a8b6da4a2881f69ba2a72b6ed0",
            "53dea7b41c9d4baba2c2105f0b3f86ed",
            "94f11971edb744af818f278123f3823c",
            "249a9669b7054e8198e035d74b767613",
            "4049bffa9225450db80bbd8d64154484",
            "eb21728d209f4c318c7c9f64dab6c00a",
            "23a7fce7225f438191ea6da36e6b48d8",
            "8e871644c25f40d09b13d801f737e7f7",
            "d4759799b6df417da6b40acd01968926",
            "42d5af01a2614dca8d697bd64f3423c0",
            "5841f5dc740447e38b190979cc8e4c12",
            "dfb1b1c69ac740628db9e6146e718f64"
          ]
        },
        "id": "sR8aHxRM4C3o",
        "outputId": "36d0007f-b20e-4cea-abf1-b29fd161a5f1"
      },
      "outputs": [
        {
          "name": "stderr",
          "output_type": "stream",
          "text": [
            "/usr/local/lib/python3.10/dist-packages/huggingface_hub/utils/_token.py:88: UserWarning: \n",
            "The secret `HF_TOKEN` does not exist in your Colab secrets.\n",
            "To authenticate with the Hugging Face Hub, create a token in your settings tab (https://huggingface.co/settings/tokens), set it as secret in your Google Colab and restart your session.\n",
            "You will be able to reuse this secret in all of your notebooks.\n",
            "Please note that authentication is recommended but still optional to access public models or datasets.\n",
            "  warnings.warn(\n"
          ]
        },
        {
          "data": {
            "application/vnd.jupyter.widget-view+json": {
              "model_id": "ebe5bae9282e481588cfaf669af1d3fd",
              "version_major": 2,
              "version_minor": 0
            },
            "text/plain": [
              "tokenizer_config.json:   0%|          | 0.00/86.0 [00:00<?, ?B/s]"
            ]
          },
          "metadata": {},
          "output_type": "display_data"
        },
        {
          "data": {
            "application/vnd.jupyter.widget-view+json": {
              "model_id": "f8b9f61ea7ec442bbb379d0cf520c4e3",
              "version_major": 2,
              "version_minor": 0
            },
            "text/plain": [
              "vocab.txt:   0%|          | 0.00/81.0 [00:00<?, ?B/s]"
            ]
          },
          "metadata": {},
          "output_type": "display_data"
        },
        {
          "data": {
            "application/vnd.jupyter.widget-view+json": {
              "model_id": "a5569f20545142949f215f445c521ada",
              "version_major": 2,
              "version_minor": 0
            },
            "text/plain": [
              "special_tokens_map.json:   0%|          | 0.00/112 [00:00<?, ?B/s]"
            ]
          },
          "metadata": {},
          "output_type": "display_data"
        },
        {
          "data": {
            "application/vnd.jupyter.widget-view+json": {
              "model_id": "ca394cc581cb4932b2bf7d606961fccd",
              "version_major": 2,
              "version_minor": 0
            },
            "text/plain": [
              "config.json:   0%|          | 0.00/361 [00:00<?, ?B/s]"
            ]
          },
          "metadata": {},
          "output_type": "display_data"
        },
        {
          "data": {
            "application/vnd.jupyter.widget-view+json": {
              "model_id": "53dea7b41c9d4baba2c2105f0b3f86ed",
              "version_major": 2,
              "version_minor": 0
            },
            "text/plain": [
              "pytorch_model.bin:   0%|          | 0.00/1.68G [00:00<?, ?B/s]"
            ]
          },
          "metadata": {},
          "output_type": "display_data"
        }
      ],
      "source": [
        "from transformers import BertModel, BertTokenizer\n",
        "\n",
        "tokenizer = BertTokenizer.from_pretrained(\"Rostlab/prot_bert\", do_lower_case=False )\n",
        "model = BertModel.from_pretrained(\"Rostlab/prot_bert\")"
      ]
    },
    {
      "cell_type": "markdown",
      "metadata": {
        "id": "hKOia-3R4C3o"
      },
      "source": [
        "### Try the model on an example sequence"
      ]
    },
    {
      "cell_type": "code",
      "execution_count": 23,
      "metadata": {
        "id": "4jC16h-N4C3o"
      },
      "outputs": [],
      "source": [
        "protein_sequences = ['MKALCLLLLPVLGLLVSSKTLCSMEEAINERIQEVAGSLIFRAISSIGLECQSVTSRGDLATCPRGFAVTGCTCGSACGSWDVRAETTCHCQCAGMDWTGARCCRVQPLEHHHHHH',\n",
        "      'GSHMSLFDFFKNKGSAATATDRLKLILAKERTLNLPYMEEMRKEIIAVIQKYTKSSDIHFKTLDSNQSVETIEVEIILPR']\n",
        "\n",
        "protein_sequences = [seq.replace(\"\", \" \")[1: -1] for seq in protein_sequences]\n",
        "output = []\n",
        "for seq in protein_sequences:\n",
        "    encoded_input = tokenizer(seq, return_tensors='pt')\n",
        "\n",
        "    # WARNING: you need to strip the embedding of the first and last vector, as those are the starting and terminating signs!\n",
        "    output.append(model(**encoded_input).last_hidden_state.detach().numpy()[0][1:-1])"
      ]
    },
    {
      "cell_type": "code",
      "execution_count": 24,
      "metadata": {
        "colab": {
          "base_uri": "https://localhost:8080/"
        },
        "id": "YH0EmW484C3o",
        "outputId": "7d8aee56-b9be-4406-b150-4b9ce0076235"
      },
      "outputs": [
        {
          "name": "stdout",
          "output_type": "stream",
          "text": [
            "Embedding shape: (116, 1024), sequence length: 116\n",
            "Embedding shape: (80, 1024), sequence length: 80\n"
          ]
        }
      ],
      "source": [
        "protein_sequences = ['MKALCLLLLPVLGLLVSSKTLCSMEEAINERIQEVAGSLIFRAISSIGLECQSVTSRGDLATCPRGFAVTGCTCGSACGSWDVRAETTCHCQCAGMDWTGARCCRVQPLEHHHHHH',\n",
        "      'GSHMSLFDFFKNKGSAATATDRLKLILAKERTLNLPYMEEMRKEIIAVIQKYTKSSDIHFKTLDSNQSVETIEVEIILPR']\n",
        "\n",
        "for i, seq in zip(output, protein_sequences):\n",
        "    print(f'Embedding shape: {i.shape}, sequence length: {len(seq)}')"
      ]
    },
    {
      "cell_type": "markdown",
      "metadata": {
        "id": "_UOvlZQE4C3p"
      },
      "source": [
        "### TASK 1.\n",
        "Use the BERT model to generate embeddings for the test set of the Yu dataset. To reduce the time needed for this exercise, we already precomputed the BERT embeddings for the proteins from the train set.\n",
        "\n",
        "\n",
        "You can actually use any protein language model if you feel like it. Just keep in mind, that you need to compute the embeddings for both the train set AND test set, as we only precomputed the train embeddings for the BERT model.\n",
        "\n",
        "\n",
        "Hints:\n",
        "1. The sequences can be found in the CSV files `ADP_Training.txt`, `ADP_Test.txt`.\n",
        "2. Don't forget to strip the embedding of the first and last vector, as those are the starting and terminating signs."
      ]
    },
    {
      "cell_type": "code",
      "execution_count": 25,
      "metadata": {
        "id": "ifdV7rE24C3p"
      },
      "outputs": [],
      "source": [
        "def get_sequences(annotation_path):\n",
        "    sequences = []\n",
        "    with open(annotation_path) as f:\n",
        "        reader = csv.reader(f, delimiter=\";\")\n",
        "        for row in reader:\n",
        "            id = row[0].lower() + row[1]\n",
        "            sequence = row[5]\n",
        "            sequences.append((id, sequence))\n",
        "\n",
        "    return sequences\n",
        "\n",
        "def create_embeddings(sequences, output_path):\n",
        "    with torch.no_grad():\n",
        "        for sequence in sequences:\n",
        "            print(f'Process {sequence[0]} ...')\n",
        "            encoded_input = tokenizer(sequence[1].replace(\"\", \" \")[1: -1], return_tensors='pt')\n",
        "            embedding = model(**encoded_input).last_hidden_state.detach().numpy()[0][1:-1]\n",
        "\n",
        "            assert len(sequence[1]) == embedding.shape[0]\n",
        "            with open(f'{output_path}/{sequence[0]}.npy', 'wb') as f:\n",
        "                np.save(f, embedding)"
      ]
    },
    {
      "cell_type": "code",
      "execution_count": 26,
      "metadata": {
        "colab": {
          "base_uri": "https://localhost:8080/"
        },
        "id": "wl6vS2Og4C3p",
        "outputId": "85059518-865d-4d7e-b14b-8273633936e4"
      },
      "outputs": [
        {
          "name": "stdout",
          "output_type": "stream",
          "text": [
            "reading TEST sequences ...\n",
            "generating TRAIN embeddings ...\n",
            "Process 3smsA ...\n",
            "Process 4dzzA ...\n",
            "Process 4fcwA ...\n",
            "Process 3zvmA ...\n",
            "Process 3vmmA ...\n",
            "Process 3qffA ...\n",
            "Process 3r03A ...\n",
            "Process 3vufA ...\n",
            "Process 3zznD ...\n",
            "Process 4b0tA ...\n",
            "Process 4b0tA ...\n",
            "Process 3qhwA ...\n",
            "Process 3ty5B ...\n",
            "Process 4ag5A ...\n",
            "Process 3qurA ...\n",
            "Process 3rboA ...\n",
            "Process 3qc9D ...\n",
            "Process 4ehyA ...\n",
            "Process 4a14A ...\n",
            "Process 3rerA ...\n",
            "Process 3rerA ...\n",
            "Process 4edhA ...\n",
            "Process 4dcaA ...\n",
            "Process 3ux8A ...\n",
            "Process 3tlxA ...\n",
            "Process 3viuA ...\n",
            "Process 3vkgA ...\n",
            "Process 3vkgA ...\n",
            "Process 3vkgA ...\n",
            "Process 3vkgA ...\n",
            "Process 3ugjA ...\n",
            "Process 3rusA ...\n",
            "Process 3tzlA ...\n",
            "Process 3b1nA ...\n",
            "Process 3rfcA ...\n",
            "Process 3rreA ...\n",
            "Process 3rreA ...\n",
            "Process 3rreA ...\n",
            "Process 3t7aA ...\n",
            "Process 4fd2B ...\n",
            "Process 3auyA ...\n",
            "Process 3t4nC ...\n",
            "Process 3vetA ...\n",
            "Process 2y8lE ...\n",
            "Process 3thxA ...\n",
            "Process 3r9iA ...\n",
            "Process 3r9iA ...\n",
            "Process 4ehtA ...\n",
            "Process 3uboA ...\n",
            "Process 3tinA ...\n",
            "Process 3ttcA ...\n",
            "Process 3ttcA ...\n",
            "Process 3qbwA ...\n",
            "Process 4e1cA ...\n",
            "Process 3qovA ...\n"
          ]
        }
      ],
      "source": [
        "print(\"reading TEST sequences ...\")\n",
        "test_sequences = get_sequences(f'{DATAPATH}/ADP_Test.txt')\n",
        "print(\"generating TRAIN embeddings ...\")\n",
        "create_embeddings(test_sequences, f'{DATAPATH}/bert-embeddings')"
      ]
    },
    {
      "cell_type": "code",
      "execution_count": 27,
      "metadata": {
        "colab": {
          "base_uri": "https://localhost:8080/"
        },
        "id": "TjtXlAUIPG02",
        "outputId": "5677d77b-2c7e-40f2-f05b-aa65498b687a"
      },
      "outputs": [
        {
          "name": "stdout",
          "output_type": "stream",
          "text": [
            "1a9xA.npy  1iowA.npy  1t6xA.npy  2awnA.npy  2i5bA.npy  2v8pA.npy  3cr3A.npy  3in1A.npy\t3qurA.npy\n",
            "1ao0A.npy  1iqpA.npy  1th8A.npy  2axnA.npy  2i8cA.npy  2vhjA.npy  3d2rA.npy  3io3A.npy\t3r03A.npy\n",
            "1b62A.npy  1j1cA.npy  1ty8A.npy  2b9hA.npy  2if8A.npy  2vosA.npy  3d36A.npy  3k1jA.npy\t3r9iA.npy\n",
            "1b6sA.npy  1j6zA.npy  1tzdA.npy  2bejA.npy  2io8A.npy  2w41A.npy  3d5wA.npy  3k5iA.npy\t3rboA.npy\n",
            "1byqA.npy  1jbpE.npy  1u0jA.npy  2bfrA.npy  2iuuA.npy  2w4jA.npy  3dc4A.npy  3kalA.npy\t3rerA.npy\n",
            "1cnfA.npy  1jj7A.npy  1u3fA.npy  2bkkA.npy  2iw3A.npy  2w58A.npy  3dkpA.npy  3kh5A.npy\t3rfcA.npy\n",
            "1czaN.npy  1k3cA.npy  1u6rA.npy  2bvcA.npy  2iyvA.npy  2w5aA.npy  3dlsA.npy  3kjiA.npy\t3rreA.npy\n",
            "1dadA.npy  1kjqA.npy  1uc9A.npy  2c2aA.npy  2j0wA.npy  2w8rA.npy  3dsrA.npy  3ko5A.npy\t3rusA.npy\n",
            "1djnA.npy  1l8qA.npy  1uj2A.npy  2c31A.npy  2jcbA.npy  2we5A.npy  3dzvA.npy  3l86A.npy\t3smsA.npy\n",
            "1e2dA.npy  1ltqA.npy  1uw1A.npy  2c98A.npy  2jfgA.npy  2wqnA.npy  3ec2A.npy  3l8kA.npy\t3t4nC.npy\n",
            "1e3mA.npy  1m7gB.npy  1v1aA.npy  2cdnA.npy  2jgvB.npy  2ww4A.npy  3egiA.npy  3lctA.npy\t3t7aA.npy\n",
            "1e4eA.npy  1mmaA.npy  1va6A.npy  2cduA.npy  2jlxB.npy  2wwfA.npy  3ehhA.npy  3ll3B.npy\t3thxA.npy\n",
            "1e8hA.npy  1mp8A.npy  1vhlA.npy  2ch6A.npy  2nunA.npy  2wzbA.npy  3eqiA.npy  3ll9A.npy\t3tinA.npy\n",
            "1ea6A.npy  1mq4A.npy  1vtkA.npy  2cn5A.npy  2o0jA.npy  2x58A.npy  3ex7C.npy  3llmA.npy\t3tlxA.npy\n",
            "1ehiA.npy  1mwmA.npy  1w5tC.npy  2cnqA.npy  2o8bB.npy  2xamA.npy  3ez2A.npy  3lrtA.npy\t3ttcA.npy\n",
            "1eqmA.npy  1n08A.npy  1w78A.npy  2cvxA.npy  2obmA.npy  2xauA.npy  3f61A.npy  3lvvA.npy\t3ty5B.npy\n",
            "1f9vA.npy  1njfC.npy  1we3A.npy  2d0oA.npy  2ojwA.npy  2xd4A.npy  3fd6A.npy  3mesB.npy\t3tzlA.npy\n",
            "1fnnA.npy  1nksF.npy  1wnlA.npy  2d2fA.npy  2olcA.npy  2xgjA.npy  3fe2A.npy  3mleA.npy\t3uboA.npy\n",
            "1fp6A.npy  1nvaA.npy  1wpgA.npy  2d7dA.npy  2oljA.npy  2xjaA.npy  3fh0A.npy  3mufA.npy\t3ugjA.npy\n",
            "1fwkA.npy  1ny3A.npy  1x3mA.npy  2dcnA.npy  2oxcA.npy  2xocA.npy  3fi8A.npy  3n3oB.npy\t3ux8A.npy\n",
            "1g3qA.npy  1o0hA.npy  1x88A.npy  2dr3A.npy  2p9iA.npy  2y8lE.npy  3fmoB.npy  3n83A.npy\t3vetA.npy\n",
            "1g41A.npy  1o51A.npy  1xjkA.npy  2dyaB.npy  2pl3A.npy  2yx6B.npy  3fwrA.npy  3nbxX.npy\t3viuA.npy\n",
            "1g6hA.npy  1ohbA.npy  1xmvA.npy  2e2pA.npy  2po0A.npy  2zfiA.npy  3fwyA.npy  3ncrA.npy\t3vkgA.npy\n",
            "1g6oA.npy  1oxuA.npy  1xtjA.npy  2ewvA.npy  2pywA.npy  2zj5A.npy  3g15A.npy  3nuaA.npy\t3vmmA.npy\n",
            "1gc5A.npy  1p5zB.npy  1xw4X.npy  2f1jA.npy  2q14A.npy  2zpaA.npy  3g2fA.npy  3nwnA.npy\t3vufA.npy\n",
            "1gkiA.npy  1p72A.npy  1xx6A.npy  2ff7A.npy  2q2rA.npy  3a0tA.npy  3ge1A.npy  3ocmA.npy\t3zvmA.npy\n",
            "1gkzA.npy  1pfkA.npy  1y63A.npy  2fnaA.npy  2qb5A.npy  3a1dA.npy  3go6B.npy  3ohrA.npy\t3zznD.npy\n",
            "1gsaA.npy  1pkgA.npy  1yp4A.npy  2fsiA.npy  2qenA.npy  3a7jA.npy  3gr4A.npy  3ouzA.npy\t4a14A.npy\n",
            "1gzfC.npy  1q8yA.npy  1yqtA.npy  2fsnA.npy  2qr1B.npy  3akkA.npy  3gviA.npy  3p4xA.npy\t4ag5A.npy\n",
            "1h8eC.npy  1qf9A.npy  1z2nX.npy  2fv7A.npy  2qsyA.npy  3auyA.npy  3h0lB.npy  3pdtA.npy\t4b0tA.npy\n",
            "1h8eE.npy  1r0yA.npy  1z59A.npy  2gr0A.npy  2qv7A.npy  3b1nA.npy  3hfwA.npy  3pffA.npy\t4dcaA.npy\n",
            "1hi5A.npy  1r6bX.npy  1z6tA.npy  2grjA.npy  2qz4A.npy  3bf1A.npy  3hy6A.npy  3pnlB.npy\t4dzzA.npy\n",
            "1htwA.npy  1rfvA.npy  1zarA.npy  2h1fA.npy  2r87A.npy  3bfnA.npy  3hyoA.npy  3pygA.npy\t4e1cA.npy\n",
            "1hw8A.npy  1rkdA.npy  1zthA.npy  2hehA.npy  2rd5A.npy  3bfvA.npy  3hz6A.npy  3qbwA.npy\t4edhA.npy\n",
            "1i58B.npy  1s4eA.npy  1zxnA.npy  2hgsA.npy  2rioA.npy  3brbA.npy  3i0oA.npy  3qc9D.npy\t4ehtA.npy\n",
            "1iahA.npy  1sq5A.npy  2a2cA.npy  2hmfA.npy  2shkB.npy  3c4nA.npy  3i33A.npy  3qffA.npy\t4ehyA.npy\n",
            "1ihuA.npy  1svlA.npy  2ad5A.npy  2hmvA.npy  2uytA.npy  3c9uA.npy  3i73A.npy  3qhwA.npy\t4fcwA.npy\n",
            "1in4A.npy  1sxjE.npy  2akoA.npy  2hv7B.npy  2v1xA.npy  3copA.npy  3icsB.npy  3qovA.npy\t4fd2B.npy\n"
          ]
        }
      ],
      "source": [
        "!ls {DATAPATH}/bert-embeddings"
      ]
    },
    {
      "cell_type": "code",
      "execution_count": null,
      "metadata": {},
      "outputs": [],
      "source": [
        "np.load(f'{DATAPATH}/bert-embeddings/3smsA.npy').shape"
      ]
    },
    {
      "cell_type": "markdown",
      "metadata": {
        "id": "OtOszb1P4C3q"
      },
      "source": [
        "### TASK 2.\n",
        "Use the novel embeddings to train a model for the binding-site prediction task, similarly as was shown earlier with the ESM-2 embeddings.\n",
        "1. train the model using your novel embeddings\n",
        "2. create the train/test loss graph\n",
        "3. create the ROC curve: print the ROC curve for both models (the trained `YuClassifier` model and your new model)\n",
        "\n",
        "\n",
        "Hints:\n",
        "1. You can reuse the code from earlier: `YuClassifier` class, `proccess_dataset(...)`, the train loop or the code for creating the plots\n",
        "2. To train the model on ESM-2 using 80 epochs was enough. However, in the case of ProtBert, you might need to increase the number of epochs to train the model properly.\n",
        "3. Don't worry if the ProtBert results don't match the ESM-2 results. It is expected as the ESM-2 model is more complex than the ProtBert model, therefore it might achieve better results. On the other hand, generating ProtBert embeddings isn't as time-consuming as generating ESM-2 embeddings (as trying out generating protein embeddings is the main point of this task)."
      ]
    },
    {
      "cell_type": "code",
      "execution_count": 29,
      "metadata": {
        "id": "FRzp9w3H4C3q"
      },
      "outputs": [],
      "source": [
        "Xs_train, Ys_train = process_sequence_dataset(f'{DATAPATH}/ADP_Training.txt', f'{DATAPATH}/bert-embeddings')\n",
        "train_dataset = SequenceYuDataset(Xs_train, Ys_train)\n",
        "\n",
        "Xs_test, Ys_test = process_sequence_dataset(f'{DATAPATH}/ADP_Test.txt', f'{DATAPATH}/bert-embeddings')\n",
        "test_dataset = SequenceYuDataset(Xs_test, Ys_test)"
      ]
    },
    {
      "cell_type": "code",
      "execution_count": 31,
      "metadata": {
        "colab": {
          "base_uri": "https://localhost:8080/"
        },
        "id": "RLMUIOT24C3q",
        "outputId": "8de8b8eb-91d3-4aa4-873a-2b7d0b85610a"
      },
      "outputs": [
        {
          "name": "stdout",
          "output_type": "stream",
          "text": [
            "Epoch: 0 | Loss: 1.02333, Accuracy: 8.31% | Test loss: 0.98096, AUC: 0.4143849473014076, MCC: 0.009082643381994781\n",
            "Epoch: 10 | Loss: 1.01314, Accuracy: 49.11% | Test loss: 0.97031, AUC: 0.5109889316202723, MCC: 0.009187976020577344\n",
            "Epoch: 20 | Loss: 1.00339, Accuracy: 85.47% | Test loss: 0.96018, AUC: 0.5802900935581509, MCC: 0.06707031765244845\n",
            "Epoch: 30 | Loss: 0.99356, Accuracy: 94.38% | Test loss: 0.94976, AUC: 0.6214985312896728, MCC: 0.10669829485641827\n",
            "Epoch: 40 | Loss: 0.98216, Accuracy: 95.65% | Test loss: 0.93796, AUC: 0.648847071700614, MCC: 0.13249467493521247\n",
            "Epoch: 50 | Loss: 0.96841, Accuracy: 95.60% | Test loss: 0.92389, AUC: 0.6702498855187768, MCC: 0.15511169002057362\n",
            "Epoch: 60 | Loss: 0.95168, Accuracy: 95.28% | Test loss: 0.90689, AUC: 0.6883248511744098, MCC: 0.1669963963136664\n",
            "Epoch: 70 | Loss: 0.93200, Accuracy: 94.76% | Test loss: 0.88670, AUC: 0.7050844182678526, MCC: 0.18794911812738563\n",
            "Epoch: 80 | Loss: 0.90991, Accuracy: 94.18% | Test loss: 0.86359, AUC: 0.7201013391510891, MCC: 0.2008302504827619\n",
            "Epoch: 90 | Loss: 0.88431, Accuracy: 93.39% | Test loss: 0.83813, AUC: 0.7344239267618009, MCC: 0.20275044265429804\n",
            "Epoch: 100 | Loss: 0.85922, Accuracy: 92.56% | Test loss: 0.81157, AUC: 0.7474885984147609, MCC: 0.21816159614021108\n",
            "Epoch: 110 | Loss: 0.83392, Accuracy: 91.81% | Test loss: 0.78521, AUC: 0.7596267353678104, MCC: 0.2246527896997705\n",
            "Epoch: 120 | Loss: 0.80958, Accuracy: 91.11% | Test loss: 0.75999, AUC: 0.7713598135538323, MCC: 0.22805824934758506\n",
            "Epoch: 130 | Loss: 0.78695, Accuracy: 90.73% | Test loss: 0.73657, AUC: 0.782760505281028, MCC: 0.2345599638265464\n",
            "Epoch: 140 | Loss: 0.76410, Accuracy: 90.40% | Test loss: 0.71538, AUC: 0.7932311999493676, MCC: 0.23592168010546283\n",
            "Epoch: 150 | Loss: 0.74424, Accuracy: 90.12% | Test loss: 0.69668, AUC: 0.8024322140854718, MCC: 0.25298606592723233\n",
            "Epoch: 160 | Loss: 0.72650, Accuracy: 89.79% | Test loss: 0.68047, AUC: 0.8100064779618991, MCC: 0.2644788784841575\n",
            "Epoch: 170 | Loss: 0.70785, Accuracy: 89.61% | Test loss: 0.66666, AUC: 0.8162582696395797, MCC: 0.26724422283058186\n",
            "Epoch: 180 | Loss: 0.69446, Accuracy: 89.43% | Test loss: 0.65508, AUC: 0.8213390766298216, MCC: 0.27300351475989204\n",
            "Epoch: 190 | Loss: 0.67995, Accuracy: 89.46% | Test loss: 0.64545, AUC: 0.8255240633946753, MCC: 0.27743490750979244\n",
            "Epoch: 200 | Loss: 0.67006, Accuracy: 89.28% | Test loss: 0.63751, AUC: 0.828995431919971, MCC: 0.28086608818975417\n",
            "Epoch: 210 | Loss: 0.65394, Accuracy: 89.28% | Test loss: 0.63099, AUC: 0.8317625640815628, MCC: 0.28325749423608554\n",
            "Epoch: 220 | Loss: 0.64365, Accuracy: 89.44% | Test loss: 0.62575, AUC: 0.8339175288436836, MCC: 0.28260283814509163\n",
            "Epoch: 230 | Loss: 0.63497, Accuracy: 89.37% | Test loss: 0.62148, AUC: 0.8357356023573825, MCC: 0.28711288545779357\n",
            "Epoch: 240 | Loss: 0.62411, Accuracy: 89.38% | Test loss: 0.61816, AUC: 0.8370222223876874, MCC: 0.28626385209500393\n"
          ]
        }
      ],
      "source": [
        "BERT_DIM = 1024\n",
        "\n",
        "model_1 = YuClassifier(input_dim=BERT_DIM).to(device)\n",
        "epochs = 250\n",
        "\n",
        "# Create an optimizer\n",
        "optimizer = torch.optim.Adam(params=model_1.parameters(),\n",
        "                            lr=0.0001)\n",
        "\n",
        "X_train, y_train = train_dataset[:]\n",
        "X_test, y_test = test_dataset[:]\n",
        "\n",
        "# compute class weights (because the dataset is heavily imbalanced)\n",
        "class_weights = compute_class_weights(y_train.numpy()).to(device)\n",
        "# BCEWithLogitsLoss - sigmoid is already built-in!\n",
        "loss_fn = nn.BCEWithLogitsLoss(pos_weight=class_weights[1])\n",
        "\n",
        "X_train, y_train = X_train.to(device), y_train.to(device).float()\n",
        "X_test, y_test = X_test.to(device), y_test.to(device).float()\n",
        "\n",
        "train_losses_1, test_losses_1 = [], []\n",
        "\n",
        "for epoch in range(epochs):\n",
        "    ### TRAIN\n",
        "    model_1.train()\n",
        "\n",
        "    y_logits = model_1(X_train).squeeze()\n",
        "    y_pred = torch.round(torch.sigmoid(y_logits))\n",
        "\n",
        "    loss = loss_fn(y_logits,\n",
        "                   y_train)\n",
        "    acc = accuracy_fn(y_true=y_train,\n",
        "                      y_pred=y_pred)\n",
        "\n",
        "    train_losses_1.append(loss.cpu().detach().numpy())\n",
        "\n",
        "    optimizer.zero_grad()\n",
        "\n",
        "    loss.backward()\n",
        "\n",
        "    optimizer.step()\n",
        "\n",
        "    ### TEST\n",
        "    model_1.eval()\n",
        "    with torch.inference_mode():\n",
        "        test_logits = model_1(X_test).squeeze()\n",
        "        test_pred = torch.round(torch.sigmoid(test_logits))\n",
        "\n",
        "        test_loss = loss_fn(test_logits,\n",
        "                            y_test)\n",
        "        test_losses_1.append(test_loss.cpu().detach().numpy())\n",
        "\n",
        "        test_acc = accuracy_fn(y_true=y_test,\n",
        "                               y_pred=test_pred)\n",
        "        fpr_1, tpr_1, thresholds = metrics.roc_curve(y_test.cpu().numpy(), torch.sigmoid(test_logits).cpu().numpy())\n",
        "        roc_auc_1 = metrics.auc(fpr_1, tpr_1)\n",
        "\n",
        "        mcc = metrics.matthews_corrcoef(y_test.cpu().numpy(), test_pred.cpu().numpy())\n",
        "    if epoch % 10 == 0:\n",
        "        print(f\"Epoch: {epoch} | Loss: {loss:.5f}, Accuracy: {acc:.2f}% | Test loss: {test_loss:.5f}, AUC: {roc_auc_1}, MCC: {mcc}\")"
      ]
    },
    {
      "cell_type": "code",
      "execution_count": 32,
      "metadata": {
        "colab": {
          "base_uri": "https://localhost:8080/",
          "height": 447
        },
        "id": "tVN2X4qv4C3r",
        "outputId": "48c0218a-fcc4-4f4c-ae11-a8ff055b98b6"
      },
      "outputs": [
        {
          "data": {
            "text/plain": [
              "<matplotlib.legend.Legend at 0x791ed85a1c00>"
            ]
          },
          "execution_count": 32,
          "metadata": {},
          "output_type": "execute_result"
        },
        {
          "data": {
            "image/png": "[encoded data removed]",
            "text/plain": [
              "<Figure size 640x480 with 1 Axes>"
            ]
          },
          "metadata": {},
          "output_type": "display_data"
        }
      ],
      "source": [
        "plt.plot(train_losses_1,label=\"train loss over epochs\")\n",
        "plt.plot(test_losses_1,label=\"test loss over epochs\")\n",
        "plt.legend()"
      ]
    },
    {
      "cell_type": "code",
      "execution_count": 33,
      "metadata": {
        "colab": {
          "base_uri": "https://localhost:8080/",
          "height": 472
        },
        "id": "243mt0qu4C3r",
        "outputId": "f761409b-cb5e-4551-d268-8a68f72f4165"
      },
      "outputs": [
        {
          "data": {
            "image/png": "[encoded data removed]",
            "text/plain": [
              "<Figure size 640x480 with 1 Axes>"
            ]
          },
          "metadata": {},
          "output_type": "display_data"
        }
      ],
      "source": [
        "plt.title('Receiver Operating Characteristic')\n",
        "plt.plot(fpr, tpr, 'b', label = 'ESM-2: AUC = %0.2f' % roc_auc)\n",
        "plt.plot(fpr_1, tpr_1, 'y', label = 'ProtBERT: AUC = %0.2f' % roc_auc_1)\n",
        "plt.legend(loc = 'lower right')\n",
        "plt.plot([0, 1], [0, 1],'r--')\n",
        "plt.xlim([0, 1])\n",
        "plt.ylim([0, 1])\n",
        "plt.ylabel('True Positive Rate')\n",
        "plt.xlabel('False Positive Rate')\n",
        "plt.show()"
      ]
    },
    {
      "cell_type": "markdown",
      "metadata": {},
      "source": [
        "### TASK\n",
        "Don't forget to delete the data from the last task! Take a look if you don't keep any unnecessary/useless data in the memory."
      ]
    },
    {
      "cell_type": "code",
      "execution_count": 34,
      "metadata": {
        "colab": {
          "base_uri": "https://localhost:8080/"
        },
        "id": "kaW2UdQSCbWG",
        "outputId": "433412eb-9e8e-45b9-b445-16cff1ba865e"
      },
      "outputs": [
        {
          "data": {
            "text/plain": [
              "3594"
            ]
          },
          "execution_count": 34,
          "metadata": {},
          "output_type": "execute_result"
        }
      ],
      "source": [
        "import gc\n",
        "\n",
        "del Xs_train, Ys_train, train_dataset, Xs_test, Ys_test, test_dataset\n",
        "del tokenizer, model\n",
        "del model_0\n",
        "\n",
        "gc.collect()"
      ]
    },
    {
      "cell_type": "markdown",
      "metadata": {
        "id": "tvGQcIN64C3s"
      },
      "source": [
        "# PART 2.\n",
        "Let's use structural information for predicting the binding regions. In the provided data, there are two folders - `voxel-features` with 3D `1x1x1 A^3` voxels, each containing eight channels (`hydrophobic`, `aromatic`, `hbond_acceptor`, `hbond_donor`, `positive_ionizable`, `negative_ionizable`, `metal`, `occupancies`) and `voxel-annotations` specifying the binding regions in each protein from the dataset. Overall,  the voxels create a 3D grid for each protein. The voxels were created using the [HTMD package](https://software.acellera.com/moleculekit/moleculekit.tools.voxeldescriptors.html). However, because installing & running the package can be time-consuming, we prepared the voxels in advance.\n",
        "\n",
        "\n",
        "The whole exercise is loosely based on the [DeepSite method](https://academic.oup.com/bioinformatics/article/33/19/3036/3859178), which uses structure as its primary information source.\n",
        "\n",
        "## Overview of the method\n",
        "We split the 3D grid into `32x32x32` windows using `step=16`. Then, we train a CNN using the extracted 3D windows to predict, whether the window is part of a binding region or not."
      ]
    },
    {
      "cell_type": "markdown",
      "metadata": {
        "id": "c9FBMb604C3s"
      },
      "source": [
        "### What is considered to be positive example\n",
        "In our scenario, the `32x32x32` window is considered positive if at least one atom is derived from a binding residue. That's a significant simplification when compared to the original DeepSite paper, which states that the window is considered to be positive if its geometric center is closer than `4 A` to the pocket geometric center and negative otherwise. However, the simplified approach is sufficient for our purposes.\n",
        "\n",
        "\n",
        "### Parameters\n",
        "In real-world tools (like DeepSite), we might find out that the `WINDOW_SIZE` and `WINDOW_STEP` parameters might be finer (smaller window size with smaller steps). However, to reduce the computation time and resources, we set coarser windows."
      ]
    },
    {
      "cell_type": "code",
      "execution_count": 35,
      "metadata": {
        "id": "rJhEclLx8hqH"
      },
      "outputs": [],
      "source": [
        "import gc\n",
        "\n",
        "GOOGLE_COLAB = True\n",
        "NUMBER_OF_SPLITS = 8\n",
        "\n",
        "WINDOW_SIZE = 32\n",
        "WINDOW_STEP = 16\n",
        "\n",
        "# splits the protein into 3D windows\n",
        "def sliding_window_3d(vector):\n",
        "    vector = vector.unfold(1,WINDOW_SIZE,WINDOW_STEP)\n",
        "    vector = vector.unfold(2,WINDOW_SIZE,WINDOW_STEP)\n",
        "    vector = vector.unfold(3,WINDOW_SIZE,WINDOW_STEP)\n",
        "    return vector.flatten(1, 3)\n",
        "\n",
        "\n",
        "def pad_and_sliding_window_3d(x, y):\n",
        "    pad1 = WINDOW_SIZE - x.shape[3] % WINDOW_SIZE if WINDOW_SIZE - x.shape[3] % WINDOW_SIZE > 0 else 0\n",
        "    pad2 = WINDOW_SIZE - x.shape[2] % WINDOW_SIZE if WINDOW_SIZE - x.shape[2] % WINDOW_SIZE > 0 else 0\n",
        "    pad3 = WINDOW_SIZE - x.shape[1] % WINDOW_SIZE if WINDOW_SIZE - x.shape[1] % WINDOW_SIZE > 0 else 0\n",
        "\n",
        "    # to further reduce the resources, we use only float16. It would be ideal to use float64, but the limits from google colab environment do not let us to do that.\n",
        "    # if you have access to larger resources, you can try out float64 and compare the performance\n",
        "    x = torch.tensor(x, dtype=torch.float16)\n",
        "    y = torch.tensor(y, dtype=torch.int8)\n",
        "\n",
        "    # add padding to the voxel grid\n",
        "    x = F.pad(x, (int(pad1 / 2), int(pad1 / 2) + (pad1 % 2 > 0),\n",
        "        int(pad2 / 2), int(pad2 / 2) + (pad2 % 2 > 0),\n",
        "        int(pad3 / 2), int(pad3 / 2) + (pad3 % 2 > 0)), mode='constant', value=0)\n",
        "    y = F.pad(y, (int(pad1 / 2), int(pad1 / 2) + (pad1 % 2 > 0),\n",
        "        int(pad2 / 2), int(pad2 / 2) + (pad2 % 2 > 0),\n",
        "        int(pad3 / 2), int(pad3 / 2) + (pad3 % 2 > 0)), mode='constant', value=0)\n",
        "\n",
        "    # split the protein into 3D windows\n",
        "    x = sliding_window_3d(x)\n",
        "    y = sliding_window_3d(y)\n",
        "\n",
        "    return x,y\n",
        "\n",
        "class VoxelYuDataset(Dataset):\n",
        "    def __init__(self, _Xs= None, _Ys= None):\n",
        "        self.Xs = None\n",
        "        self.Ys = None\n",
        "\n",
        "        if _Xs is None or _Ys is None:\n",
        "            return\n",
        "        counter = 1\n",
        "        keys = list(_Xs.keys())\n",
        "        for key in keys:\n",
        "            print(key, ' ',counter, ' / ', len(keys), ' ')\n",
        "            counter += 1\n",
        "\n",
        "            x, y = pad_and_sliding_window_3d(_Xs[key], _Ys[key])\n",
        "            y = y.sum(dim=[0,2,3,4]) > 0\n",
        "            if self.Xs is None:\n",
        "                self.Xs = x\n",
        "                self.Ys = y\n",
        "            else:\n",
        "                self.Xs = torch.cat((self.Xs,x),1)\n",
        "                self.Ys = torch.cat((self.Ys,y))\n",
        "\n",
        "            if counter % 5 == 0:\n",
        "                gc.collect()\n",
        "\n",
        "            del _Xs[key]\n",
        "            del _Ys[key]\n",
        "\n",
        "        self.Xs = self.Xs.swapaxes(0,1)\n",
        "\n",
        "    def __len__(self):\n",
        "        assert len(self.Xs) == len(self.Ys)\n",
        "        return len(self.Xs)\n",
        "\n",
        "    def __getitem__(self, idx):\n",
        "        x = self.Xs[idx]\n",
        "        y = self.Ys[idx]\n",
        "        return x, y"
      ]
    },
    {
      "cell_type": "markdown",
      "metadata": {
        "id": "8UsZTBiKYYO9"
      },
      "source": [
        "### define the 3D CNN model\n",
        "Let's create a 3D CNN model consisting of one convolutional layer, one pooling layer and two dense layers."
      ]
    },
    {
      "cell_type": "code",
      "execution_count": 36,
      "metadata": {
        "id": "zuL5o-8E8nqX"
      },
      "outputs": [],
      "source": [
        "class VoxelYuCNN(nn.Module):\n",
        "    def __init__(self):\n",
        "        super(VoxelYuCNN, self).__init__()\n",
        "        self.conv1 = nn.Conv3d(in_channels=8,\n",
        "                               out_channels=2,\n",
        "                               kernel_size = 5,\n",
        "                               stride=2,\n",
        "                               padding=2)\n",
        "\n",
        "\n",
        "\n",
        "        self.maxpool1 = nn.MaxPool3d(kernel_size=3, stride=1, padding=1)\n",
        "\n",
        "        self.dropout1 = nn.Dropout(0.25)\n",
        "\n",
        "        self.linear1 = nn.Linear(8192, 2048)\n",
        "        self.dropout2 = nn.Dropout(0.25)\n",
        "\n",
        "        self.linear2 = nn.Linear(2048, 1)\n",
        "\n",
        "\n",
        "    def forward(self, x):\n",
        "        x = self.conv1(x)\n",
        "\n",
        "        x = F.relu(x)\n",
        "        x = self.maxpool1(x)\n",
        "        x = self.dropout1(x)\n",
        "        x = torch.flatten(x,1)\n",
        "\n",
        "        x = self.linear1(x)\n",
        "        x = self.dropout2(x)\n",
        "        x = F.relu(x)\n",
        "\n",
        "        x = self.linear2(x)\n",
        "        return x\n"
      ]
    },
    {
      "cell_type": "code",
      "execution_count": 37,
      "metadata": {
        "id": "vGvYcFkm8rrY"
      },
      "outputs": [],
      "source": [
        "def compute_class_weights(labels):\n",
        "    class_weights=class_weight.compute_class_weight(class_weight='balanced', classes=np.unique(labels), y=labels)\n",
        "    class_weights=torch.tensor(class_weights,dtype=torch.float)\n",
        "    return class_weights\n",
        "def accuracy_fn(y_true, y_pred):\n",
        "    correct = torch.eq(y_true, y_pred).sum().item()\n",
        "    acc = (correct / len(y_pred)) * 100\n",
        "    return acc\n"
      ]
    },
    {
      "cell_type": "markdown",
      "metadata": {
        "id": "RFdvQQrAX4U6"
      },
      "source": [
        "### Compute class weights\n",
        "Similarly as in the Part 1., the dataset is imbalanced. Normally we would compute the class weights from the whole dataset. However, as the whole dataset doesn't fit into the limits of google colab, we precomputed the class weights in advance."
      ]
    },
    {
      "cell_type": "code",
      "execution_count": 38,
      "metadata": {
        "id": "5WivpRfo8tRu"
      },
      "outputs": [],
      "source": [
        "if not GOOGLE_COLAB:\n",
        "    X_train, y_train = train_dataset[:]\n",
        "\n",
        "    np_list = []\n",
        "    for i in y_train:\n",
        "        np_list.append(i.numpy().flatten())\n",
        "\n",
        "    y_train_concatenated = np.concatenate(np_list)\n",
        "\n",
        "    # compute class weights (because the dataset is heavily imbalanced)\n",
        "    class_weights = compute_class_weights(y_train_concatenated).to(device)\n",
        "\n",
        "# to save computational resources of google colab, we pre-computed the class weights\n",
        "else:\n",
        "    class_weights = torch.tensor([0.6570, 2.0919], device='cuda:0')"
      ]
    },
    {
      "cell_type": "code",
      "execution_count": 39,
      "metadata": {
        "id": "KSlBA3kX8wdI"
      },
      "outputs": [],
      "source": [
        "from torch.utils.data import DataLoader\n",
        "BATCH_SIZE = 2048"
      ]
    },
    {
      "cell_type": "markdown",
      "metadata": {
        "id": "Rq_kQLJbZApe"
      },
      "source": [
        "### Splitting the dataset into parts and loading each part separately\n",
        "The google colab limits do not allow us to load the dataset at once. Therefore the dataset was partitioned in advance and each partition of the train set is saved in `./data/train_dataset_i.pickle` (`./data/test_dataset_i.pickle` for the test set). In each epoch during the train loop, we load the partitions one-by-one and delete the memory afterwards (`del` with `gc.collect()`) not to exceed the google colab limits."
      ]
    },
    {
      "cell_type": "markdown",
      "metadata": {
        "id": "vmeUB7sgTdjX"
      },
      "source": [
        "# You might want to go get yourself a cup of coffee or tea, this might take a while!\n",
        "Training the 3D CNN might take around ~10min."
      ]
    },
    {
      "cell_type": "code",
      "execution_count": 40,
      "metadata": {
        "colab": {
          "base_uri": "https://localhost:8080/"
        },
        "id": "qyFqnb6r8xto",
        "outputId": "13f5e5e0-3a76-45bb-d5c7-a545afbcaab9"
      },
      "outputs": [
        {
          "name": "stdout",
          "output_type": "stream",
          "text": [
            "Epoch 0\n",
            "Loading 0th subset from pickle ...\n",
            "Loading 1th subset from pickle ...\n",
            "Loading 2th subset from pickle ...\n",
            "Loading 3th subset from pickle ...\n",
            "Loading 4th subset from pickle ...\n",
            "Loading 5th subset from pickle ...\n",
            "Loading 6th subset from pickle ...\n",
            "Loading 7th subset from pickle ...\n",
            "Epoch 1\n",
            "Loading 0th subset from pickle ...\n",
            "Loading 1th subset from pickle ...\n",
            "Loading 2th subset from pickle ...\n",
            "Loading 3th subset from pickle ...\n",
            "Loading 4th subset from pickle ...\n",
            "Loading 5th subset from pickle ...\n",
            "Loading 6th subset from pickle ...\n",
            "Loading 7th subset from pickle ...\n",
            "Epoch 2\n",
            "Loading 0th subset from pickle ...\n",
            "Loading 1th subset from pickle ...\n",
            "Loading 2th subset from pickle ...\n",
            "Loading 3th subset from pickle ...\n",
            "Loading 4th subset from pickle ...\n",
            "Loading 5th subset from pickle ...\n",
            "Loading 6th subset from pickle ...\n",
            "Loading 7th subset from pickle ...\n",
            "Epoch 3\n",
            "Loading 0th subset from pickle ...\n",
            "Loading 1th subset from pickle ...\n",
            "Loading 2th subset from pickle ...\n",
            "Loading 3th subset from pickle ...\n",
            "Loading 4th subset from pickle ...\n",
            "Loading 5th subset from pickle ...\n",
            "Loading 6th subset from pickle ...\n",
            "Loading 7th subset from pickle ...\n",
            "Epoch 4\n",
            "Loading 0th subset from pickle ...\n",
            "Loading 1th subset from pickle ...\n",
            "Loading 2th subset from pickle ...\n",
            "Loading 3th subset from pickle ...\n",
            "Loading 4th subset from pickle ...\n",
            "Loading 5th subset from pickle ...\n",
            "Loading 6th subset from pickle ...\n",
            "Loading 7th subset from pickle ...\n"
          ]
        }
      ],
      "source": [
        "import pickle\n",
        "DATAPATH = '/content/data'\n",
        "\n",
        "model_2 = VoxelYuCNN().to(device)\n",
        "\n",
        "# Create an optimizer\n",
        "optimizer = torch.optim.Adam(params=model_2.parameters(),\n",
        "                            lr=0.0001)\n",
        "\n",
        "loss_fn = nn.BCEWithLogitsLoss(pos_weight=class_weights[1])\n",
        "epochs = 5\n",
        "\n",
        "\n",
        "for epoch in range(epochs):\n",
        "    ### TRAIN\n",
        "    print(f\"Epoch {epoch}\")\n",
        "\n",
        "    model_2.train()\n",
        "\n",
        "    for i in range(NUMBER_OF_SPLITS):\n",
        "        with open(f'{DATAPATH}/train_dataset_{i}.pickle', 'rb') as f:\n",
        "            print(f'Loading {i}th subset from pickle ...')\n",
        "            train_subset = pickle.load(f)\n",
        "\n",
        "        train_dataloader = DataLoader(train_subset, batch_size=BATCH_SIZE, shuffle=True)\n",
        "\n",
        "        for id_batch, (x_batch, y_batch) in enumerate(train_dataloader):\n",
        "            #print(f\"Epoch {epoch}, batch {id_batch} / {batches}\")\n",
        "\n",
        "            X_train, y_train = x_batch.to(device), y_batch.to(device).float()\n",
        "\n",
        "            y_logits = model_2(X_train.float()).squeeze()\n",
        "            y_pred = torch.round(torch.sigmoid(y_logits))\n",
        "\n",
        "            loss = loss_fn(y_logits,\n",
        "                            y_train)\n",
        "            acc = accuracy_fn(y_true=y_train,\n",
        "                                y_pred=y_pred)\n",
        "\n",
        "            optimizer.zero_grad()\n",
        "\n",
        "            loss.backward()\n",
        "\n",
        "            optimizer.step()\n",
        "\n",
        "        # free memory so we don't exceed the google colab limits\n",
        "        del train_subset, train_dataloader\n",
        "        gc.collect()\n"
      ]
    },
    {
      "cell_type": "markdown",
      "metadata": {
        "id": "RAUKMsOqbJQB"
      },
      "source": [
        "# Performance\n",
        "Evaluate the performance of the 3D CNN on the test set"
      ]
    },
    {
      "cell_type": "code",
      "execution_count": 41,
      "metadata": {
        "colab": {
          "base_uri": "https://localhost:8080/"
        },
        "id": "SIFSaZAVIJYd",
        "outputId": "d26e49c7-ac02-42f5-817e-57843bc7e18b"
      },
      "outputs": [
        {
          "name": "stdout",
          "output_type": "stream",
          "text": [
            "Loading test subset from pickle ...\n",
            "Accuracy: 74.26% | Test loss: 0.55857, AUC: 0.8484969632628679, MCC: 0.455506282435088\n",
            "Run garbage collector ...\n"
          ]
        },
        {
          "data": {
            "text/plain": [
              "0"
            ]
          },
          "execution_count": 41,
          "metadata": {},
          "output_type": "execute_result"
        }
      ],
      "source": [
        "model_2.eval()\n",
        "\n",
        "with torch.inference_mode():\n",
        "\n",
        "    # prepare the test data\n",
        "    with open(f'{DATAPATH}/test_dataset.pickle', 'rb') as f:\n",
        "        print(f'Loading test subset from pickle ...')\n",
        "        test_subset = pickle.load(f)\n",
        "\n",
        "    # make the predictions\n",
        "    x_test, y_test = test_subset[:]\n",
        "    test_logits = model_2(x_test.float().to(device)).squeeze().to(device)\n",
        "\n",
        "    # compute the metrics\n",
        "    test_pred = torch.round(torch.sigmoid(test_logits))\n",
        "    y_test = y_test.to(device).float()\n",
        "    test_loss = loss_fn(test_logits,\n",
        "                        y_test.to(device))\n",
        "    test_acc = accuracy_fn(y_true=y_test,\n",
        "                            y_pred=test_pred)\n",
        "    fpr_2, tpr_2, thresholds = metrics.roc_curve(y_test.cpu().numpy(), torch.sigmoid(test_logits).cpu().numpy())\n",
        "    roc_auc_2 = metrics.auc(fpr_2, tpr_2)\n",
        "    mcc = metrics.matthews_corrcoef(y_test.cpu().numpy(), test_pred.cpu().numpy())\n",
        "    \n",
        "    print(f\"Accuracy: {acc:.2f}% | Test loss: {test_loss:.5f}, AUC: {roc_auc_2}, MCC: {mcc}\")\n",
        "\n",
        "# cleanup\n",
        "print('Run garbage collector ...')\n",
        "del test_subset\n",
        "gc.collect()"
      ]
    },
    {
      "cell_type": "markdown",
      "metadata": {
        "id": "h6uWNaLATpUa"
      },
      "source": [
        "# Homework: Part 2\n",
        "Create the ROC curve: print the ROC curve for all models into one plot (the trained `YuClassifier` model, the `ProtBert` model trained by you and the `VoxelYuCNN`)\n"
      ]
    },
    {
      "cell_type": "code",
      "execution_count": 43,
      "metadata": {
        "colab": {
          "base_uri": "https://localhost:8080/",
          "height": 472
        },
        "id": "AS-0LUPAINFb",
        "outputId": "46b8a629-2f34-4a6d-9ade-3e516459b8a9"
      },
      "outputs": [
        {
          "data": {
            "image/png": "[encoded data removed]",
            "text/plain": [
              "<Figure size 640x480 with 1 Axes>"
            ]
          },
          "metadata": {},
          "output_type": "display_data"
        }
      ],
      "source": [
        "plt.title('Receiver Operating Characteristic')\n",
        "\n",
        "plt.plot(fpr, tpr, 'b', label = 'ESM-2: AUC = %0.2f' % roc_auc)\n",
        "plt.plot(fpr_1, tpr_1, 'y', label = 'ProtBERT: AUC = %0.2f' % roc_auc_1)\n",
        "plt.plot(fpr_2, tpr_2, 'm', label = '3D-CNN: AUC = %0.2f' % roc_auc_2)\n",
        "\n",
        "plt.legend(loc = 'lower right')\n",
        "\n",
        "plt.plot([0, 1], [0, 1],'r--')\n",
        "plt.xlim([0, 1])\n",
        "plt.ylim([0, 1])\n",
        "plt.ylabel('True Positive Rate')\n",
        "plt.xlabel('False Positive Rate')\n",
        "plt.show()"
      ]
    }
  ],
  "metadata": {
    "accelerator": "GPU",
    "colab": {
      "gpuType": "T4",
      "provenance": []
    },
    "kernelspec": {
      "display_name": "Python 3",
      "name": "python3"
    },
    "language_info": {
      "codemirror_mode": {
        "name": "ipython",
        "version": 3
      },
      "file_extension": ".py",
      "mimetype": "text/x-python",
      "name": "python",
      "nbconvert_exporter": "python",
      "pygments_lexer": "ipython3",
      "version": "3.9.18"
    },
    "widgets": {
      "application/vnd.jupyter.widget-state+json": {
        "10dcec6bdd924c48907f30ce10963cef": {
          "model_module": "@jupyter-widgets/base",
          "model_module_version": "1.2.0",
          "model_name": "LayoutModel",
          "state": {
            "_model_module": "@jupyter-widgets/base",
            "_model_module_version": "1.2.0",
            "_model_name": "LayoutModel",
            "_view_count": null,
            "_view_module": "@jupyter-widgets/base",
            "_view_module_version": "1.2.0",
            "_view_name": "LayoutView",
            "align_content": null,
            "align_items": null,
            "align_self": null,
            "border": null,
            "bottom": null,
            "display": null,
            "flex": null,
            "flex_flow": null,
            "grid_area": null,
            "grid_auto_columns": null,
            "grid_auto_flow": null,
            "grid_auto_rows": null,
            "grid_column": null,
            "grid_gap": null,
            "grid_row": null,
            "grid_template_areas": null,
            "grid_template_columns": null,
            "grid_template_rows": null,
            "height": null,
            "justify_content": null,
            "justify_items": null,
            "left": null,
            "margin": null,
            "max_height": null,
            "max_width": null,
            "min_height": null,
            "min_width": null,
            "object_fit": null,
            "object_position": null,
            "order": null,
            "overflow": null,
            "overflow_x": null,
            "overflow_y": null,
            "padding": null,
            "right": null,
            "top": null,
            "visibility": null,
            "width": null
          }
        },
        "11eb770c66894cf4abbcddd4e2c702ce": {
          "model_module": "@jupyter-widgets/base",
          "model_module_version": "1.2.0",
          "model_name": "LayoutModel",
          "state": {
            "_model_module": "@jupyter-widgets/base",
            "_model_module_version": "1.2.0",
            "_model_name": "LayoutModel",
            "_view_count": null,
            "_view_module": "@jupyter-widgets/base",
            "_view_module_version": "1.2.0",
            "_view_name": "LayoutView",
            "align_content": null,
            "align_items": null,
            "align_self": null,
            "border": null,
            "bottom": null,
            "display": null,
            "flex": null,
            "flex_flow": null,
            "grid_area": null,
            "grid_auto_columns": null,
            "grid_auto_flow": null,
            "grid_auto_rows": null,
            "grid_column": null,
            "grid_gap": null,
            "grid_row": null,
            "grid_template_areas": null,
            "grid_template_columns": null,
            "grid_template_rows": null,
            "height": null,
            "justify_content": null,
            "justify_items": null,
            "left": null,
            "margin": null,
            "max_height": null,
            "max_width": null,
            "min_height": null,
            "min_width": null,
            "object_fit": null,
            "object_position": null,
            "order": null,
            "overflow": null,
            "overflow_x": null,
            "overflow_y": null,
            "padding": null,
            "right": null,
            "top": null,
            "visibility": null,
            "width": null
          }
        },
        "13665ce45c334a57b3089eb002952933": {
          "model_module": "@jupyter-widgets/controls",
          "model_module_version": "1.5.0",
          "model_name": "DescriptionStyleModel",
          "state": {
            "_model_module": "@jupyter-widgets/controls",
            "_model_module_version": "1.5.0",
            "_model_name": "DescriptionStyleModel",
            "_view_count": null,
            "_view_module": "@jupyter-widgets/base",
            "_view_module_version": "1.2.0",
            "_view_name": "StyleView",
            "description_width": ""
          }
        },
        "16f0d0e957474d9bba068d13a6dd5a51": {
          "model_module": "@jupyter-widgets/base",
          "model_module_version": "1.2.0",
          "model_name": "LayoutModel",
          "state": {
            "_model_module": "@jupyter-widgets/base",
            "_model_module_version": "1.2.0",
            "_model_name": "LayoutModel",
            "_view_count": null,
            "_view_module": "@jupyter-widgets/base",
            "_view_module_version": "1.2.0",
            "_view_name": "LayoutView",
            "align_content": null,
            "align_items": null,
            "align_self": null,
            "border": null,
            "bottom": null,
            "display": null,
            "flex": null,
            "flex_flow": null,
            "grid_area": null,
            "grid_auto_columns": null,
            "grid_auto_flow": null,
            "grid_auto_rows": null,
            "grid_column": null,
            "grid_gap": null,
            "grid_row": null,
            "grid_template_areas": null,
            "grid_template_columns": null,
            "grid_template_rows": null,
            "height": null,
            "justify_content": null,
            "justify_items": null,
            "left": null,
            "margin": null,
            "max_height": null,
            "max_width": null,
            "min_height": null,
            "min_width": null,
            "object_fit": null,
            "object_position": null,
            "order": null,
            "overflow": null,
            "overflow_x": null,
            "overflow_y": null,
            "padding": null,
            "right": null,
            "top": null,
            "visibility": null,
            "width": null
          }
        },
        "1e57123d7d4f427ea4cbf922071e8332": {
          "model_module": "@jupyter-widgets/controls",
          "model_module_version": "1.5.0",
          "model_name": "HTMLModel",
          "state": {
            "_dom_classes": [],
            "_model_module": "@jupyter-widgets/controls",
            "_model_module_version": "1.5.0",
            "_model_name": "HTMLModel",
            "_view_count": null,
            "_view_module": "@jupyter-widgets/controls",
            "_view_module_version": "1.5.0",
            "_view_name": "HTMLView",
            "description": "",
            "description_tooltip": null,
            "layout": "IPY_MODEL_7490b10a8bcb49269d3d6ca66d807ab0",
            "placeholder": "​",
            "style": "IPY_MODEL_e17fb088b6b946a98e47d0e6f712fb5b",
            "value": "config.json: 100%"
          }
        },
        "1ee42218b00b4149b47d6750108754b8": {
          "model_module": "@jupyter-widgets/controls",
          "model_module_version": "1.5.0",
          "model_name": "DescriptionStyleModel",
          "state": {
            "_model_module": "@jupyter-widgets/controls",
            "_model_module_version": "1.5.0",
            "_model_name": "DescriptionStyleModel",
            "_view_count": null,
            "_view_module": "@jupyter-widgets/base",
            "_view_module_version": "1.2.0",
            "_view_name": "StyleView",
            "description_width": ""
          }
        },
        "2231ef0486234cbe9376f05efccbf96a": {
          "model_module": "@jupyter-widgets/controls",
          "model_module_version": "1.5.0",
          "model_name": "FloatProgressModel",
          "state": {
            "_dom_classes": [],
            "_model_module": "@jupyter-widgets/controls",
            "_model_module_version": "1.5.0",
            "_model_name": "FloatProgressModel",
            "_view_count": null,
            "_view_module": "@jupyter-widgets/controls",
            "_view_module_version": "1.5.0",
            "_view_name": "ProgressView",
            "bar_style": "success",
            "description": "",
            "description_tooltip": null,
            "layout": "IPY_MODEL_6c4b220b84944c1c8cc1ac06fec86757",
            "max": 112,
            "min": 0,
            "orientation": "horizontal",
            "style": "IPY_MODEL_99d013b65c8d4adab38df90e09e99bdd",
            "value": 112
          }
        },
        "23a7fce7225f438191ea6da36e6b48d8": {
          "model_module": "@jupyter-widgets/base",
          "model_module_version": "1.2.0",
          "model_name": "LayoutModel",
          "state": {
            "_model_module": "@jupyter-widgets/base",
            "_model_module_version": "1.2.0",
            "_model_name": "LayoutModel",
            "_view_count": null,
            "_view_module": "@jupyter-widgets/base",
            "_view_module_version": "1.2.0",
            "_view_name": "LayoutView",
            "align_content": null,
            "align_items": null,
            "align_self": null,
            "border": null,
            "bottom": null,
            "display": null,
            "flex": null,
            "flex_flow": null,
            "grid_area": null,
            "grid_auto_columns": null,
            "grid_auto_flow": null,
            "grid_auto_rows": null,
            "grid_column": null,
            "grid_gap": null,
            "grid_row": null,
            "grid_template_areas": null,
            "grid_template_columns": null,
            "grid_template_rows": null,
            "height": null,
            "justify_content": null,
            "justify_items": null,
            "left": null,
            "margin": null,
            "max_height": null,
            "max_width": null,
            "min_height": null,
            "min_width": null,
            "object_fit": null,
            "object_position": null,
            "order": null,
            "overflow": null,
            "overflow_x": null,
            "overflow_y": null,
            "padding": null,
            "right": null,
            "top": null,
            "visibility": null,
            "width": null
          }
        },
        "249a9669b7054e8198e035d74b767613": {
          "model_module": "@jupyter-widgets/controls",
          "model_module_version": "1.5.0",
          "model_name": "FloatProgressModel",
          "state": {
            "_dom_classes": [],
            "_model_module": "@jupyter-widgets/controls",
            "_model_module_version": "1.5.0",
            "_model_name": "FloatProgressModel",
            "_view_count": null,
            "_view_module": "@jupyter-widgets/controls",
            "_view_module_version": "1.5.0",
            "_view_name": "ProgressView",
            "bar_style": "success",
            "description": "",
            "description_tooltip": null,
            "layout": "IPY_MODEL_d4759799b6df417da6b40acd01968926",
            "max": 1684058277,
            "min": 0,
            "orientation": "horizontal",
            "style": "IPY_MODEL_42d5af01a2614dca8d697bd64f3423c0",
            "value": 1684058277
          }
        },
        "27d5321fb7074d4c95b00e5e72e71c1d": {
          "model_module": "@jupyter-widgets/controls",
          "model_module_version": "1.5.0",
          "model_name": "HTMLModel",
          "state": {
            "_dom_classes": [],
            "_model_module": "@jupyter-widgets/controls",
            "_model_module_version": "1.5.0",
            "_model_name": "HTMLModel",
            "_view_count": null,
            "_view_module": "@jupyter-widgets/controls",
            "_view_module_version": "1.5.0",
            "_view_name": "HTMLView",
            "description": "",
            "description_tooltip": null,
            "layout": "IPY_MODEL_320ed206b4d24ef5978e718fef49106a",
            "placeholder": "​",
            "style": "IPY_MODEL_77b2e4ce3af24db4be7411b5aa52089a",
            "value": " 86.0/86.0 [00:00&lt;00:00, 2.82kB/s]"
          }
        },
        "29698658672a42aba704f733c228e6e5": {
          "model_module": "@jupyter-widgets/controls",
          "model_module_version": "1.5.0",
          "model_name": "FloatProgressModel",
          "state": {
            "_dom_classes": [],
            "_model_module": "@jupyter-widgets/controls",
            "_model_module_version": "1.5.0",
            "_model_name": "FloatProgressModel",
            "_view_count": null,
            "_view_module": "@jupyter-widgets/controls",
            "_view_module_version": "1.5.0",
            "_view_name": "ProgressView",
            "bar_style": "success",
            "description": "",
            "description_tooltip": null,
            "layout": "IPY_MODEL_a5ebceb281ab47498ba3a43356b4afae",
            "max": 86,
            "min": 0,
            "orientation": "horizontal",
            "style": "IPY_MODEL_392dfb76d6ec444fa2d3988be30894a7",
            "value": 86
          }
        },
        "2a2572fb22494efb87dce6f5740ee24c": {
          "model_module": "@jupyter-widgets/base",
          "model_module_version": "1.2.0",
          "model_name": "LayoutModel",
          "state": {
            "_model_module": "@jupyter-widgets/base",
            "_model_module_version": "1.2.0",
            "_model_name": "LayoutModel",
            "_view_count": null,
            "_view_module": "@jupyter-widgets/base",
            "_view_module_version": "1.2.0",
            "_view_name": "LayoutView",
            "align_content": null,
            "align_items": null,
            "align_self": null,
            "border": null,
            "bottom": null,
            "display": null,
            "flex": null,
            "flex_flow": null,
            "grid_area": null,
            "grid_auto_columns": null,
            "grid_auto_flow": null,
            "grid_auto_rows": null,
            "grid_column": null,
            "grid_gap": null,
            "grid_row": null,
            "grid_template_areas": null,
            "grid_template_columns": null,
            "grid_template_rows": null,
            "height": null,
            "justify_content": null,
            "justify_items": null,
            "left": null,
            "margin": null,
            "max_height": null,
            "max_width": null,
            "min_height": null,
            "min_width": null,
            "object_fit": null,
            "object_position": null,
            "order": null,
            "overflow": null,
            "overflow_x": null,
            "overflow_y": null,
            "padding": null,
            "right": null,
            "top": null,
            "visibility": null,
            "width": null
          }
        },
        "31f0a8a8b6da4a2881f69ba2a72b6ed0": {
          "model_module": "@jupyter-widgets/controls",
          "model_module_version": "1.5.0",
          "model_name": "DescriptionStyleModel",
          "state": {
            "_model_module": "@jupyter-widgets/controls",
            "_model_module_version": "1.5.0",
            "_model_name": "DescriptionStyleModel",
            "_view_count": null,
            "_view_module": "@jupyter-widgets/base",
            "_view_module_version": "1.2.0",
            "_view_name": "StyleView",
            "description_width": ""
          }
        },
        "320ed206b4d24ef5978e718fef49106a": {
          "model_module": "@jupyter-widgets/base",
          "model_module_version": "1.2.0",
          "model_name": "LayoutModel",
          "state": {
            "_model_module": "@jupyter-widgets/base",
            "_model_module_version": "1.2.0",
            "_model_name": "LayoutModel",
            "_view_count": null,
            "_view_module": "@jupyter-widgets/base",
            "_view_module_version": "1.2.0",
            "_view_name": "LayoutView",
            "align_content": null,
            "align_items": null,
            "align_self": null,
            "border": null,
            "bottom": null,
            "display": null,
            "flex": null,
            "flex_flow": null,
            "grid_area": null,
            "grid_auto_columns": null,
            "grid_auto_flow": null,
            "grid_auto_rows": null,
            "grid_column": null,
            "grid_gap": null,
            "grid_row": null,
            "grid_template_areas": null,
            "grid_template_columns": null,
            "grid_template_rows": null,
            "height": null,
            "justify_content": null,
            "justify_items": null,
            "left": null,
            "margin": null,
            "max_height": null,
            "max_width": null,
            "min_height": null,
            "min_width": null,
            "object_fit": null,
            "object_position": null,
            "order": null,
            "overflow": null,
            "overflow_x": null,
            "overflow_y": null,
            "padding": null,
            "right": null,
            "top": null,
            "visibility": null,
            "width": null
          }
        },
        "34bf2a306b474f61a13370d1c24df46e": {
          "model_module": "@jupyter-widgets/base",
          "model_module_version": "1.2.0",
          "model_name": "LayoutModel",
          "state": {
            "_model_module": "@jupyter-widgets/base",
            "_model_module_version": "1.2.0",
            "_model_name": "LayoutModel",
            "_view_count": null,
            "_view_module": "@jupyter-widgets/base",
            "_view_module_version": "1.2.0",
            "_view_name": "LayoutView",
            "align_content": null,
            "align_items": null,
            "align_self": null,
            "border": null,
            "bottom": null,
            "display": null,
            "flex": null,
            "flex_flow": null,
            "grid_area": null,
            "grid_auto_columns": null,
            "grid_auto_flow": null,
            "grid_auto_rows": null,
            "grid_column": null,
            "grid_gap": null,
            "grid_row": null,
            "grid_template_areas": null,
            "grid_template_columns": null,
            "grid_template_rows": null,
            "height": null,
            "justify_content": null,
            "justify_items": null,
            "left": null,
            "margin": null,
            "max_height": null,
            "max_width": null,
            "min_height": null,
            "min_width": null,
            "object_fit": null,
            "object_position": null,
            "order": null,
            "overflow": null,
            "overflow_x": null,
            "overflow_y": null,
            "padding": null,
            "right": null,
            "top": null,
            "visibility": null,
            "width": null
          }
        },
        "362800dc75ae46feb4607786a2af449f": {
          "model_module": "@jupyter-widgets/controls",
          "model_module_version": "1.5.0",
          "model_name": "HTMLModel",
          "state": {
            "_dom_classes": [],
            "_model_module": "@jupyter-widgets/controls",
            "_model_module_version": "1.5.0",
            "_model_name": "HTMLModel",
            "_view_count": null,
            "_view_module": "@jupyter-widgets/controls",
            "_view_module_version": "1.5.0",
            "_view_name": "HTMLView",
            "description": "",
            "description_tooltip": null,
            "layout": "IPY_MODEL_2a2572fb22494efb87dce6f5740ee24c",
            "placeholder": "​",
            "style": "IPY_MODEL_1ee42218b00b4149b47d6750108754b8",
            "value": "vocab.txt: 100%"
          }
        },
        "392dfb76d6ec444fa2d3988be30894a7": {
          "model_module": "@jupyter-widgets/controls",
          "model_module_version": "1.5.0",
          "model_name": "ProgressStyleModel",
          "state": {
            "_model_module": "@jupyter-widgets/controls",
            "_model_module_version": "1.5.0",
            "_model_name": "ProgressStyleModel",
            "_view_count": null,
            "_view_module": "@jupyter-widgets/base",
            "_view_module_version": "1.2.0",
            "_view_name": "StyleView",
            "bar_color": null,
            "description_width": ""
          }
        },
        "39a7aa25c23943c8b8c946bc023d0543": {
          "model_module": "@jupyter-widgets/controls",
          "model_module_version": "1.5.0",
          "model_name": "DescriptionStyleModel",
          "state": {
            "_model_module": "@jupyter-widgets/controls",
            "_model_module_version": "1.5.0",
            "_model_name": "DescriptionStyleModel",
            "_view_count": null,
            "_view_module": "@jupyter-widgets/base",
            "_view_module_version": "1.2.0",
            "_view_name": "StyleView",
            "description_width": ""
          }
        },
        "3a326afe59864ef08ba2dee2c3fa63ae": {
          "model_module": "@jupyter-widgets/base",
          "model_module_version": "1.2.0",
          "model_name": "LayoutModel",
          "state": {
            "_model_module": "@jupyter-widgets/base",
            "_model_module_version": "1.2.0",
            "_model_name": "LayoutModel",
            "_view_count": null,
            "_view_module": "@jupyter-widgets/base",
            "_view_module_version": "1.2.0",
            "_view_name": "LayoutView",
            "align_content": null,
            "align_items": null,
            "align_self": null,
            "border": null,
            "bottom": null,
            "display": null,
            "flex": null,
            "flex_flow": null,
            "grid_area": null,
            "grid_auto_columns": null,
            "grid_auto_flow": null,
            "grid_auto_rows": null,
            "grid_column": null,
            "grid_gap": null,
            "grid_row": null,
            "grid_template_areas": null,
            "grid_template_columns": null,
            "grid_template_rows": null,
            "height": null,
            "justify_content": null,
            "justify_items": null,
            "left": null,
            "margin": null,
            "max_height": null,
            "max_width": null,
            "min_height": null,
            "min_width": null,
            "object_fit": null,
            "object_position": null,
            "order": null,
            "overflow": null,
            "overflow_x": null,
            "overflow_y": null,
            "padding": null,
            "right": null,
            "top": null,
            "visibility": null,
            "width": null
          }
        },
        "4049bffa9225450db80bbd8d64154484": {
          "model_module": "@jupyter-widgets/controls",
          "model_module_version": "1.5.0",
          "model_name": "HTMLModel",
          "state": {
            "_dom_classes": [],
            "_model_module": "@jupyter-widgets/controls",
            "_model_module_version": "1.5.0",
            "_model_name": "HTMLModel",
            "_view_count": null,
            "_view_module": "@jupyter-widgets/controls",
            "_view_module_version": "1.5.0",
            "_view_name": "HTMLView",
            "description": "",
            "description_tooltip": null,
            "layout": "IPY_MODEL_5841f5dc740447e38b190979cc8e4c12",
            "placeholder": "​",
            "style": "IPY_MODEL_dfb1b1c69ac740628db9e6146e718f64",
            "value": " 1.68G/1.68G [00:17&lt;00:00, 191MB/s]"
          }
        },
        "42d5af01a2614dca8d697bd64f3423c0": {
          "model_module": "@jupyter-widgets/controls",
          "model_module_version": "1.5.0",
          "model_name": "ProgressStyleModel",
          "state": {
            "_model_module": "@jupyter-widgets/controls",
            "_model_module_version": "1.5.0",
            "_model_name": "ProgressStyleModel",
            "_view_count": null,
            "_view_module": "@jupyter-widgets/base",
            "_view_module_version": "1.2.0",
            "_view_name": "StyleView",
            "bar_color": null,
            "description_width": ""
          }
        },
        "53dea7b41c9d4baba2c2105f0b3f86ed": {
          "model_module": "@jupyter-widgets/controls",
          "model_module_version": "1.5.0",
          "model_name": "HBoxModel",
          "state": {
            "_dom_classes": [],
            "_model_module": "@jupyter-widgets/controls",
            "_model_module_version": "1.5.0",
            "_model_name": "HBoxModel",
            "_view_count": null,
            "_view_module": "@jupyter-widgets/controls",
            "_view_module_version": "1.5.0",
            "_view_name": "HBoxView",
            "box_style": "",
            "children": [
              "IPY_MODEL_94f11971edb744af818f278123f3823c",
              "IPY_MODEL_249a9669b7054e8198e035d74b767613",
              "IPY_MODEL_4049bffa9225450db80bbd8d64154484"
            ],
            "layout": "IPY_MODEL_eb21728d209f4c318c7c9f64dab6c00a"
          }
        },
        "5841f5dc740447e38b190979cc8e4c12": {
          "model_module": "@jupyter-widgets/base",
          "model_module_version": "1.2.0",
          "model_name": "LayoutModel",
          "state": {
            "_model_module": "@jupyter-widgets/base",
            "_model_module_version": "1.2.0",
            "_model_name": "LayoutModel",
            "_view_count": null,
            "_view_module": "@jupyter-widgets/base",
            "_view_module_version": "1.2.0",
            "_view_name": "LayoutView",
            "align_content": null,
            "align_items": null,
            "align_self": null,
            "border": null,
            "bottom": null,
            "display": null,
            "flex": null,
            "flex_flow": null,
            "grid_area": null,
            "grid_auto_columns": null,
            "grid_auto_flow": null,
            "grid_auto_rows": null,
            "grid_column": null,
            "grid_gap": null,
            "grid_row": null,
            "grid_template_areas": null,
            "grid_template_columns": null,
            "grid_template_rows": null,
            "height": null,
            "justify_content": null,
            "justify_items": null,
            "left": null,
            "margin": null,
            "max_height": null,
            "max_width": null,
            "min_height": null,
            "min_width": null,
            "object_fit": null,
            "object_position": null,
            "order": null,
            "overflow": null,
            "overflow_x": null,
            "overflow_y": null,
            "padding": null,
            "right": null,
            "top": null,
            "visibility": null,
            "width": null
          }
        },
        "5b52269eb01c4fd0b26acfaf139d5bc5": {
          "model_module": "@jupyter-widgets/base",
          "model_module_version": "1.2.0",
          "model_name": "LayoutModel",
          "state": {
            "_model_module": "@jupyter-widgets/base",
            "_model_module_version": "1.2.0",
            "_model_name": "LayoutModel",
            "_view_count": null,
            "_view_module": "@jupyter-widgets/base",
            "_view_module_version": "1.2.0",
            "_view_name": "LayoutView",
            "align_content": null,
            "align_items": null,
            "align_self": null,
            "border": null,
            "bottom": null,
            "display": null,
            "flex": null,
            "flex_flow": null,
            "grid_area": null,
            "grid_auto_columns": null,
            "grid_auto_flow": null,
            "grid_auto_rows": null,
            "grid_column": null,
            "grid_gap": null,
            "grid_row": null,
            "grid_template_areas": null,
            "grid_template_columns": null,
            "grid_template_rows": null,
            "height": null,
            "justify_content": null,
            "justify_items": null,
            "left": null,
            "margin": null,
            "max_height": null,
            "max_width": null,
            "min_height": null,
            "min_width": null,
            "object_fit": null,
            "object_position": null,
            "order": null,
            "overflow": null,
            "overflow_x": null,
            "overflow_y": null,
            "padding": null,
            "right": null,
            "top": null,
            "visibility": null,
            "width": null
          }
        },
        "60da8094e11044aa852d52f1154462e3": {
          "model_module": "@jupyter-widgets/controls",
          "model_module_version": "1.5.0",
          "model_name": "DescriptionStyleModel",
          "state": {
            "_model_module": "@jupyter-widgets/controls",
            "_model_module_version": "1.5.0",
            "_model_name": "DescriptionStyleModel",
            "_view_count": null,
            "_view_module": "@jupyter-widgets/base",
            "_view_module_version": "1.2.0",
            "_view_name": "StyleView",
            "description_width": ""
          }
        },
        "6c4b220b84944c1c8cc1ac06fec86757": {
          "model_module": "@jupyter-widgets/base",
          "model_module_version": "1.2.0",
          "model_name": "LayoutModel",
          "state": {
            "_model_module": "@jupyter-widgets/base",
            "_model_module_version": "1.2.0",
            "_model_name": "LayoutModel",
            "_view_count": null,
            "_view_module": "@jupyter-widgets/base",
            "_view_module_version": "1.2.0",
            "_view_name": "LayoutView",
            "align_content": null,
            "align_items": null,
            "align_self": null,
            "border": null,
            "bottom": null,
            "display": null,
            "flex": null,
            "flex_flow": null,
            "grid_area": null,
            "grid_auto_columns": null,
            "grid_auto_flow": null,
            "grid_auto_rows": null,
            "grid_column": null,
            "grid_gap": null,
            "grid_row": null,
            "grid_template_areas": null,
            "grid_template_columns": null,
            "grid_template_rows": null,
            "height": null,
            "justify_content": null,
            "justify_items": null,
            "left": null,
            "margin": null,
            "max_height": null,
            "max_width": null,
            "min_height": null,
            "min_width": null,
            "object_fit": null,
            "object_position": null,
            "order": null,
            "overflow": null,
            "overflow_x": null,
            "overflow_y": null,
            "padding": null,
            "right": null,
            "top": null,
            "visibility": null,
            "width": null
          }
        },
        "6de95f5af4774338b4716789b4e45766": {
          "model_module": "@jupyter-widgets/controls",
          "model_module_version": "1.5.0",
          "model_name": "HTMLModel",
          "state": {
            "_dom_classes": [],
            "_model_module": "@jupyter-widgets/controls",
            "_model_module_version": "1.5.0",
            "_model_name": "HTMLModel",
            "_view_count": null,
            "_view_module": "@jupyter-widgets/controls",
            "_view_module_version": "1.5.0",
            "_view_name": "HTMLView",
            "description": "",
            "description_tooltip": null,
            "layout": "IPY_MODEL_10dcec6bdd924c48907f30ce10963cef",
            "placeholder": "​",
            "style": "IPY_MODEL_31f0a8a8b6da4a2881f69ba2a72b6ed0",
            "value": " 361/361 [00:00&lt;00:00, 14.6kB/s]"
          }
        },
        "7490b10a8bcb49269d3d6ca66d807ab0": {
          "model_module": "@jupyter-widgets/base",
          "model_module_version": "1.2.0",
          "model_name": "LayoutModel",
          "state": {
            "_model_module": "@jupyter-widgets/base",
            "_model_module_version": "1.2.0",
            "_model_name": "LayoutModel",
            "_view_count": null,
            "_view_module": "@jupyter-widgets/base",
            "_view_module_version": "1.2.0",
            "_view_name": "LayoutView",
            "align_content": null,
            "align_items": null,
            "align_self": null,
            "border": null,
            "bottom": null,
            "display": null,
            "flex": null,
            "flex_flow": null,
            "grid_area": null,
            "grid_auto_columns": null,
            "grid_auto_flow": null,
            "grid_auto_rows": null,
            "grid_column": null,
            "grid_gap": null,
            "grid_row": null,
            "grid_template_areas": null,
            "grid_template_columns": null,
            "grid_template_rows": null,
            "height": null,
            "justify_content": null,
            "justify_items": null,
            "left": null,
            "margin": null,
            "max_height": null,
            "max_width": null,
            "min_height": null,
            "min_width": null,
            "object_fit": null,
            "object_position": null,
            "order": null,
            "overflow": null,
            "overflow_x": null,
            "overflow_y": null,
            "padding": null,
            "right": null,
            "top": null,
            "visibility": null,
            "width": null
          }
        },
        "77b2e4ce3af24db4be7411b5aa52089a": {
          "model_module": "@jupyter-widgets/controls",
          "model_module_version": "1.5.0",
          "model_name": "DescriptionStyleModel",
          "state": {
            "_model_module": "@jupyter-widgets/controls",
            "_model_module_version": "1.5.0",
            "_model_name": "DescriptionStyleModel",
            "_view_count": null,
            "_view_module": "@jupyter-widgets/base",
            "_view_module_version": "1.2.0",
            "_view_name": "StyleView",
            "description_width": ""
          }
        },
        "79b39f93667748a9b05a25c1646814ec": {
          "model_module": "@jupyter-widgets/base",
          "model_module_version": "1.2.0",
          "model_name": "LayoutModel",
          "state": {
            "_model_module": "@jupyter-widgets/base",
            "_model_module_version": "1.2.0",
            "_model_name": "LayoutModel",
            "_view_count": null,
            "_view_module": "@jupyter-widgets/base",
            "_view_module_version": "1.2.0",
            "_view_name": "LayoutView",
            "align_content": null,
            "align_items": null,
            "align_self": null,
            "border": null,
            "bottom": null,
            "display": null,
            "flex": null,
            "flex_flow": null,
            "grid_area": null,
            "grid_auto_columns": null,
            "grid_auto_flow": null,
            "grid_auto_rows": null,
            "grid_column": null,
            "grid_gap": null,
            "grid_row": null,
            "grid_template_areas": null,
            "grid_template_columns": null,
            "grid_template_rows": null,
            "height": null,
            "justify_content": null,
            "justify_items": null,
            "left": null,
            "margin": null,
            "max_height": null,
            "max_width": null,
            "min_height": null,
            "min_width": null,
            "object_fit": null,
            "object_position": null,
            "order": null,
            "overflow": null,
            "overflow_x": null,
            "overflow_y": null,
            "padding": null,
            "right": null,
            "top": null,
            "visibility": null,
            "width": null
          }
        },
        "8b6db5ff87e049bfa8b31771b4c4f50b": {
          "model_module": "@jupyter-widgets/controls",
          "model_module_version": "1.5.0",
          "model_name": "DescriptionStyleModel",
          "state": {
            "_model_module": "@jupyter-widgets/controls",
            "_model_module_version": "1.5.0",
            "_model_name": "DescriptionStyleModel",
            "_view_count": null,
            "_view_module": "@jupyter-widgets/base",
            "_view_module_version": "1.2.0",
            "_view_name": "StyleView",
            "description_width": ""
          }
        },
        "8e871644c25f40d09b13d801f737e7f7": {
          "model_module": "@jupyter-widgets/controls",
          "model_module_version": "1.5.0",
          "model_name": "DescriptionStyleModel",
          "state": {
            "_model_module": "@jupyter-widgets/controls",
            "_model_module_version": "1.5.0",
            "_model_name": "DescriptionStyleModel",
            "_view_count": null,
            "_view_module": "@jupyter-widgets/base",
            "_view_module_version": "1.2.0",
            "_view_name": "StyleView",
            "description_width": ""
          }
        },
        "94f11971edb744af818f278123f3823c": {
          "model_module": "@jupyter-widgets/controls",
          "model_module_version": "1.5.0",
          "model_name": "HTMLModel",
          "state": {
            "_dom_classes": [],
            "_model_module": "@jupyter-widgets/controls",
            "_model_module_version": "1.5.0",
            "_model_name": "HTMLModel",
            "_view_count": null,
            "_view_module": "@jupyter-widgets/controls",
            "_view_module_version": "1.5.0",
            "_view_name": "HTMLView",
            "description": "",
            "description_tooltip": null,
            "layout": "IPY_MODEL_23a7fce7225f438191ea6da36e6b48d8",
            "placeholder": "​",
            "style": "IPY_MODEL_8e871644c25f40d09b13d801f737e7f7",
            "value": "pytorch_model.bin: 100%"
          }
        },
        "99d013b65c8d4adab38df90e09e99bdd": {
          "model_module": "@jupyter-widgets/controls",
          "model_module_version": "1.5.0",
          "model_name": "ProgressStyleModel",
          "state": {
            "_model_module": "@jupyter-widgets/controls",
            "_model_module_version": "1.5.0",
            "_model_name": "ProgressStyleModel",
            "_view_count": null,
            "_view_module": "@jupyter-widgets/base",
            "_view_module_version": "1.2.0",
            "_view_name": "StyleView",
            "bar_color": null,
            "description_width": ""
          }
        },
        "9a82ca4d425f447fa96e2129bffb2b5f": {
          "model_module": "@jupyter-widgets/base",
          "model_module_version": "1.2.0",
          "model_name": "LayoutModel",
          "state": {
            "_model_module": "@jupyter-widgets/base",
            "_model_module_version": "1.2.0",
            "_model_name": "LayoutModel",
            "_view_count": null,
            "_view_module": "@jupyter-widgets/base",
            "_view_module_version": "1.2.0",
            "_view_name": "LayoutView",
            "align_content": null,
            "align_items": null,
            "align_self": null,
            "border": null,
            "bottom": null,
            "display": null,
            "flex": null,
            "flex_flow": null,
            "grid_area": null,
            "grid_auto_columns": null,
            "grid_auto_flow": null,
            "grid_auto_rows": null,
            "grid_column": null,
            "grid_gap": null,
            "grid_row": null,
            "grid_template_areas": null,
            "grid_template_columns": null,
            "grid_template_rows": null,
            "height": null,
            "justify_content": null,
            "justify_items": null,
            "left": null,
            "margin": null,
            "max_height": null,
            "max_width": null,
            "min_height": null,
            "min_width": null,
            "object_fit": null,
            "object_position": null,
            "order": null,
            "overflow": null,
            "overflow_x": null,
            "overflow_y": null,
            "padding": null,
            "right": null,
            "top": null,
            "visibility": null,
            "width": null
          }
        },
        "a5569f20545142949f215f445c521ada": {
          "model_module": "@jupyter-widgets/controls",
          "model_module_version": "1.5.0",
          "model_name": "HBoxModel",
          "state": {
            "_dom_classes": [],
            "_model_module": "@jupyter-widgets/controls",
            "_model_module_version": "1.5.0",
            "_model_name": "HBoxModel",
            "_view_count": null,
            "_view_module": "@jupyter-widgets/controls",
            "_view_module_version": "1.5.0",
            "_view_name": "HBoxView",
            "box_style": "",
            "children": [
              "IPY_MODEL_a69b445f04c94b098fa3a399f136b0de",
              "IPY_MODEL_2231ef0486234cbe9376f05efccbf96a",
              "IPY_MODEL_a7c91923fe374b29ac07b3b60a6c6f4e"
            ],
            "layout": "IPY_MODEL_9a82ca4d425f447fa96e2129bffb2b5f"
          }
        },
        "a5ebceb281ab47498ba3a43356b4afae": {
          "model_module": "@jupyter-widgets/base",
          "model_module_version": "1.2.0",
          "model_name": "LayoutModel",
          "state": {
            "_model_module": "@jupyter-widgets/base",
            "_model_module_version": "1.2.0",
            "_model_name": "LayoutModel",
            "_view_count": null,
            "_view_module": "@jupyter-widgets/base",
            "_view_module_version": "1.2.0",
            "_view_name": "LayoutView",
            "align_content": null,
            "align_items": null,
            "align_self": null,
            "border": null,
            "bottom": null,
            "display": null,
            "flex": null,
            "flex_flow": null,
            "grid_area": null,
            "grid_auto_columns": null,
            "grid_auto_flow": null,
            "grid_auto_rows": null,
            "grid_column": null,
            "grid_gap": null,
            "grid_row": null,
            "grid_template_areas": null,
            "grid_template_columns": null,
            "grid_template_rows": null,
            "height": null,
            "justify_content": null,
            "justify_items": null,
            "left": null,
            "margin": null,
            "max_height": null,
            "max_width": null,
            "min_height": null,
            "min_width": null,
            "object_fit": null,
            "object_position": null,
            "order": null,
            "overflow": null,
            "overflow_x": null,
            "overflow_y": null,
            "padding": null,
            "right": null,
            "top": null,
            "visibility": null,
            "width": null
          }
        },
        "a69b445f04c94b098fa3a399f136b0de": {
          "model_module": "@jupyter-widgets/controls",
          "model_module_version": "1.5.0",
          "model_name": "HTMLModel",
          "state": {
            "_dom_classes": [],
            "_model_module": "@jupyter-widgets/controls",
            "_model_module_version": "1.5.0",
            "_model_name": "HTMLModel",
            "_view_count": null,
            "_view_module": "@jupyter-widgets/controls",
            "_view_module_version": "1.5.0",
            "_view_name": "HTMLView",
            "description": "",
            "description_tooltip": null,
            "layout": "IPY_MODEL_b75b04f866e041b7a0261af4afc42c5c",
            "placeholder": "​",
            "style": "IPY_MODEL_60da8094e11044aa852d52f1154462e3",
            "value": "special_tokens_map.json: 100%"
          }
        },
        "a7c91923fe374b29ac07b3b60a6c6f4e": {
          "model_module": "@jupyter-widgets/controls",
          "model_module_version": "1.5.0",
          "model_name": "HTMLModel",
          "state": {
            "_dom_classes": [],
            "_model_module": "@jupyter-widgets/controls",
            "_model_module_version": "1.5.0",
            "_model_name": "HTMLModel",
            "_view_count": null,
            "_view_module": "@jupyter-widgets/controls",
            "_view_module_version": "1.5.0",
            "_view_name": "HTMLView",
            "description": "",
            "description_tooltip": null,
            "layout": "IPY_MODEL_af69ad5155a74c80b7a51d56022df514",
            "placeholder": "​",
            "style": "IPY_MODEL_8b6db5ff87e049bfa8b31771b4c4f50b",
            "value": " 112/112 [00:00&lt;00:00, 5.65kB/s]"
          }
        },
        "af69ad5155a74c80b7a51d56022df514": {
          "model_module": "@jupyter-widgets/base",
          "model_module_version": "1.2.0",
          "model_name": "LayoutModel",
          "state": {
            "_model_module": "@jupyter-widgets/base",
            "_model_module_version": "1.2.0",
            "_model_name": "LayoutModel",
            "_view_count": null,
            "_view_module": "@jupyter-widgets/base",
            "_view_module_version": "1.2.0",
            "_view_name": "LayoutView",
            "align_content": null,
            "align_items": null,
            "align_self": null,
            "border": null,
            "bottom": null,
            "display": null,
            "flex": null,
            "flex_flow": null,
            "grid_area": null,
            "grid_auto_columns": null,
            "grid_auto_flow": null,
            "grid_auto_rows": null,
            "grid_column": null,
            "grid_gap": null,
            "grid_row": null,
            "grid_template_areas": null,
            "grid_template_columns": null,
            "grid_template_rows": null,
            "height": null,
            "justify_content": null,
            "justify_items": null,
            "left": null,
            "margin": null,
            "max_height": null,
            "max_width": null,
            "min_height": null,
            "min_width": null,
            "object_fit": null,
            "object_position": null,
            "order": null,
            "overflow": null,
            "overflow_x": null,
            "overflow_y": null,
            "padding": null,
            "right": null,
            "top": null,
            "visibility": null,
            "width": null
          }
        },
        "b75b04f866e041b7a0261af4afc42c5c": {
          "model_module": "@jupyter-widgets/base",
          "model_module_version": "1.2.0",
          "model_name": "LayoutModel",
          "state": {
            "_model_module": "@jupyter-widgets/base",
            "_model_module_version": "1.2.0",
            "_model_name": "LayoutModel",
            "_view_count": null,
            "_view_module": "@jupyter-widgets/base",
            "_view_module_version": "1.2.0",
            "_view_name": "LayoutView",
            "align_content": null,
            "align_items": null,
            "align_self": null,
            "border": null,
            "bottom": null,
            "display": null,
            "flex": null,
            "flex_flow": null,
            "grid_area": null,
            "grid_auto_columns": null,
            "grid_auto_flow": null,
            "grid_auto_rows": null,
            "grid_column": null,
            "grid_gap": null,
            "grid_row": null,
            "grid_template_areas": null,
            "grid_template_columns": null,
            "grid_template_rows": null,
            "height": null,
            "justify_content": null,
            "justify_items": null,
            "left": null,
            "margin": null,
            "max_height": null,
            "max_width": null,
            "min_height": null,
            "min_width": null,
            "object_fit": null,
            "object_position": null,
            "order": null,
            "overflow": null,
            "overflow_x": null,
            "overflow_y": null,
            "padding": null,
            "right": null,
            "top": null,
            "visibility": null,
            "width": null
          }
        },
        "baf4b0e07218458486493c4d34dc4a40": {
          "model_module": "@jupyter-widgets/controls",
          "model_module_version": "1.5.0",
          "model_name": "HTMLModel",
          "state": {
            "_dom_classes": [],
            "_model_module": "@jupyter-widgets/controls",
            "_model_module_version": "1.5.0",
            "_model_name": "HTMLModel",
            "_view_count": null,
            "_view_module": "@jupyter-widgets/controls",
            "_view_module_version": "1.5.0",
            "_view_name": "HTMLView",
            "description": "",
            "description_tooltip": null,
            "layout": "IPY_MODEL_3a326afe59864ef08ba2dee2c3fa63ae",
            "placeholder": "​",
            "style": "IPY_MODEL_13665ce45c334a57b3089eb002952933",
            "value": " 81.0/81.0 [00:00&lt;00:00, 5.79kB/s]"
          }
        },
        "bb2d619229e6412aa6812135e18b7916": {
          "model_module": "@jupyter-widgets/controls",
          "model_module_version": "1.5.0",
          "model_name": "FloatProgressModel",
          "state": {
            "_dom_classes": [],
            "_model_module": "@jupyter-widgets/controls",
            "_model_module_version": "1.5.0",
            "_model_name": "FloatProgressModel",
            "_view_count": null,
            "_view_module": "@jupyter-widgets/controls",
            "_view_module_version": "1.5.0",
            "_view_name": "ProgressView",
            "bar_style": "success",
            "description": "",
            "description_tooltip": null,
            "layout": "IPY_MODEL_f5b8870f03a14a678ba65d490aa8cb86",
            "max": 81,
            "min": 0,
            "orientation": "horizontal",
            "style": "IPY_MODEL_f4452fd8a23545ecac90e8c7aa208a5d",
            "value": 81
          }
        },
        "c4e2763cd8184ddab29a05b5905149d0": {
          "model_module": "@jupyter-widgets/controls",
          "model_module_version": "1.5.0",
          "model_name": "FloatProgressModel",
          "state": {
            "_dom_classes": [],
            "_model_module": "@jupyter-widgets/controls",
            "_model_module_version": "1.5.0",
            "_model_name": "FloatProgressModel",
            "_view_count": null,
            "_view_module": "@jupyter-widgets/controls",
            "_view_module_version": "1.5.0",
            "_view_name": "ProgressView",
            "bar_style": "success",
            "description": "",
            "description_tooltip": null,
            "layout": "IPY_MODEL_11eb770c66894cf4abbcddd4e2c702ce",
            "max": 361,
            "min": 0,
            "orientation": "horizontal",
            "style": "IPY_MODEL_d16ca9c95e854160a225b1e1f3033bae",
            "value": 361
          }
        },
        "ca394cc581cb4932b2bf7d606961fccd": {
          "model_module": "@jupyter-widgets/controls",
          "model_module_version": "1.5.0",
          "model_name": "HBoxModel",
          "state": {
            "_dom_classes": [],
            "_model_module": "@jupyter-widgets/controls",
            "_model_module_version": "1.5.0",
            "_model_name": "HBoxModel",
            "_view_count": null,
            "_view_module": "@jupyter-widgets/controls",
            "_view_module_version": "1.5.0",
            "_view_name": "HBoxView",
            "box_style": "",
            "children": [
              "IPY_MODEL_1e57123d7d4f427ea4cbf922071e8332",
              "IPY_MODEL_c4e2763cd8184ddab29a05b5905149d0",
              "IPY_MODEL_6de95f5af4774338b4716789b4e45766"
            ],
            "layout": "IPY_MODEL_16f0d0e957474d9bba068d13a6dd5a51"
          }
        },
        "d16ca9c95e854160a225b1e1f3033bae": {
          "model_module": "@jupyter-widgets/controls",
          "model_module_version": "1.5.0",
          "model_name": "ProgressStyleModel",
          "state": {
            "_model_module": "@jupyter-widgets/controls",
            "_model_module_version": "1.5.0",
            "_model_name": "ProgressStyleModel",
            "_view_count": null,
            "_view_module": "@jupyter-widgets/base",
            "_view_module_version": "1.2.0",
            "_view_name": "StyleView",
            "bar_color": null,
            "description_width": ""
          }
        },
        "d4759799b6df417da6b40acd01968926": {
          "model_module": "@jupyter-widgets/base",
          "model_module_version": "1.2.0",
          "model_name": "LayoutModel",
          "state": {
            "_model_module": "@jupyter-widgets/base",
            "_model_module_version": "1.2.0",
            "_model_name": "LayoutModel",
            "_view_count": null,
            "_view_module": "@jupyter-widgets/base",
            "_view_module_version": "1.2.0",
            "_view_name": "LayoutView",
            "align_content": null,
            "align_items": null,
            "align_self": null,
            "border": null,
            "bottom": null,
            "display": null,
            "flex": null,
            "flex_flow": null,
            "grid_area": null,
            "grid_auto_columns": null,
            "grid_auto_flow": null,
            "grid_auto_rows": null,
            "grid_column": null,
            "grid_gap": null,
            "grid_row": null,
            "grid_template_areas": null,
            "grid_template_columns": null,
            "grid_template_rows": null,
            "height": null,
            "justify_content": null,
            "justify_items": null,
            "left": null,
            "margin": null,
            "max_height": null,
            "max_width": null,
            "min_height": null,
            "min_width": null,
            "object_fit": null,
            "object_position": null,
            "order": null,
            "overflow": null,
            "overflow_x": null,
            "overflow_y": null,
            "padding": null,
            "right": null,
            "top": null,
            "visibility": null,
            "width": null
          }
        },
        "dfb1b1c69ac740628db9e6146e718f64": {
          "model_module": "@jupyter-widgets/controls",
          "model_module_version": "1.5.0",
          "model_name": "DescriptionStyleModel",
          "state": {
            "_model_module": "@jupyter-widgets/controls",
            "_model_module_version": "1.5.0",
            "_model_name": "DescriptionStyleModel",
            "_view_count": null,
            "_view_module": "@jupyter-widgets/base",
            "_view_module_version": "1.2.0",
            "_view_name": "StyleView",
            "description_width": ""
          }
        },
        "e17fb088b6b946a98e47d0e6f712fb5b": {
          "model_module": "@jupyter-widgets/controls",
          "model_module_version": "1.5.0",
          "model_name": "DescriptionStyleModel",
          "state": {
            "_model_module": "@jupyter-widgets/controls",
            "_model_module_version": "1.5.0",
            "_model_name": "DescriptionStyleModel",
            "_view_count": null,
            "_view_module": "@jupyter-widgets/base",
            "_view_module_version": "1.2.0",
            "_view_name": "StyleView",
            "description_width": ""
          }
        },
        "eb21728d209f4c318c7c9f64dab6c00a": {
          "model_module": "@jupyter-widgets/base",
          "model_module_version": "1.2.0",
          "model_name": "LayoutModel",
          "state": {
            "_model_module": "@jupyter-widgets/base",
            "_model_module_version": "1.2.0",
            "_model_name": "LayoutModel",
            "_view_count": null,
            "_view_module": "@jupyter-widgets/base",
            "_view_module_version": "1.2.0",
            "_view_name": "LayoutView",
            "align_content": null,
            "align_items": null,
            "align_self": null,
            "border": null,
            "bottom": null,
            "display": null,
            "flex": null,
            "flex_flow": null,
            "grid_area": null,
            "grid_auto_columns": null,
            "grid_auto_flow": null,
            "grid_auto_rows": null,
            "grid_column": null,
            "grid_gap": null,
            "grid_row": null,
            "grid_template_areas": null,
            "grid_template_columns": null,
            "grid_template_rows": null,
            "height": null,
            "justify_content": null,
            "justify_items": null,
            "left": null,
            "margin": null,
            "max_height": null,
            "max_width": null,
            "min_height": null,
            "min_width": null,
            "object_fit": null,
            "object_position": null,
            "order": null,
            "overflow": null,
            "overflow_x": null,
            "overflow_y": null,
            "padding": null,
            "right": null,
            "top": null,
            "visibility": null,
            "width": null
          }
        },
        "ebe5bae9282e481588cfaf669af1d3fd": {
          "model_module": "@jupyter-widgets/controls",
          "model_module_version": "1.5.0",
          "model_name": "HBoxModel",
          "state": {
            "_dom_classes": [],
            "_model_module": "@jupyter-widgets/controls",
            "_model_module_version": "1.5.0",
            "_model_name": "HBoxModel",
            "_view_count": null,
            "_view_module": "@jupyter-widgets/controls",
            "_view_module_version": "1.5.0",
            "_view_name": "HBoxView",
            "box_style": "",
            "children": [
              "IPY_MODEL_f43dcf9a37be47f08617bd72a38bed22",
              "IPY_MODEL_29698658672a42aba704f733c228e6e5",
              "IPY_MODEL_27d5321fb7074d4c95b00e5e72e71c1d"
            ],
            "layout": "IPY_MODEL_5b52269eb01c4fd0b26acfaf139d5bc5"
          }
        },
        "f43dcf9a37be47f08617bd72a38bed22": {
          "model_module": "@jupyter-widgets/controls",
          "model_module_version": "1.5.0",
          "model_name": "HTMLModel",
          "state": {
            "_dom_classes": [],
            "_model_module": "@jupyter-widgets/controls",
            "_model_module_version": "1.5.0",
            "_model_name": "HTMLModel",
            "_view_count": null,
            "_view_module": "@jupyter-widgets/controls",
            "_view_module_version": "1.5.0",
            "_view_name": "HTMLView",
            "description": "",
            "description_tooltip": null,
            "layout": "IPY_MODEL_34bf2a306b474f61a13370d1c24df46e",
            "placeholder": "​",
            "style": "IPY_MODEL_39a7aa25c23943c8b8c946bc023d0543",
            "value": "tokenizer_config.json: 100%"
          }
        },
        "f4452fd8a23545ecac90e8c7aa208a5d": {
          "model_module": "@jupyter-widgets/controls",
          "model_module_version": "1.5.0",
          "model_name": "ProgressStyleModel",
          "state": {
            "_model_module": "@jupyter-widgets/controls",
            "_model_module_version": "1.5.0",
            "_model_name": "ProgressStyleModel",
            "_view_count": null,
            "_view_module": "@jupyter-widgets/base",
            "_view_module_version": "1.2.0",
            "_view_name": "StyleView",
            "bar_color": null,
            "description_width": ""
          }
        },
        "f5b8870f03a14a678ba65d490aa8cb86": {
          "model_module": "@jupyter-widgets/base",
          "model_module_version": "1.2.0",
          "model_name": "LayoutModel",
          "state": {
            "_model_module": "@jupyter-widgets/base",
            "_model_module_version": "1.2.0",
            "_model_name": "LayoutModel",
            "_view_count": null,
            "_view_module": "@jupyter-widgets/base",
            "_view_module_version": "1.2.0",
            "_view_name": "LayoutView",
            "align_content": null,
            "align_items": null,
            "align_self": null,
            "border": null,
            "bottom": null,
            "display": null,
            "flex": null,
            "flex_flow": null,
            "grid_area": null,
            "grid_auto_columns": null,
            "grid_auto_flow": null,
            "grid_auto_rows": null,
            "grid_column": null,
            "grid_gap": null,
            "grid_row": null,
            "grid_template_areas": null,
            "grid_template_columns": null,
            "grid_template_rows": null,
            "height": null,
            "justify_content": null,
            "justify_items": null,
            "left": null,
            "margin": null,
            "max_height": null,
            "max_width": null,
            "min_height": null,
            "min_width": null,
            "object_fit": null,
            "object_position": null,
            "order": null,
            "overflow": null,
            "overflow_x": null,
            "overflow_y": null,
            "padding": null,
            "right": null,
            "top": null,
            "visibility": null,
            "width": null
          }
        },
        "f8b9f61ea7ec442bbb379d0cf520c4e3": {
          "model_module": "@jupyter-widgets/controls",
          "model_module_version": "1.5.0",
          "model_name": "HBoxModel",
          "state": {
            "_dom_classes": [],
            "_model_module": "@jupyter-widgets/controls",
            "_model_module_version": "1.5.0",
            "_model_name": "HBoxModel",
            "_view_count": null,
            "_view_module": "@jupyter-widgets/controls",
            "_view_module_version": "1.5.0",
            "_view_name": "HBoxView",
            "box_style": "",
            "children": [
              "IPY_MODEL_362800dc75ae46feb4607786a2af449f",
              "IPY_MODEL_bb2d619229e6412aa6812135e18b7916",
              "IPY_MODEL_baf4b0e07218458486493c4d34dc4a40"
            ],
            "layout": "IPY_MODEL_79b39f93667748a9b05a25c1646814ec"
          }
        }
      }
    }
  },
  "nbformat": 4,
  "nbformat_minor": 0
}
